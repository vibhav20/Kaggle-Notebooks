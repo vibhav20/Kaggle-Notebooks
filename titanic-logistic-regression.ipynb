{
 "cells": [
  {
   "cell_type": "code",
   "execution_count": 1,
   "id": "8bfdf59b",
   "metadata": {
    "_cell_guid": "b1076dfc-b9ad-4769-8c92-a6c4dae69d19",
    "_uuid": "8f2839f25d086af736a60e9eeb907d3b93b6e0e5",
    "execution": {
     "iopub.execute_input": "2023-01-18T11:53:24.572935Z",
     "iopub.status.busy": "2023-01-18T11:53:24.572122Z",
     "iopub.status.idle": "2023-01-18T11:53:24.590529Z",
     "shell.execute_reply": "2023-01-18T11:53:24.589438Z"
    },
    "papermill": {
     "duration": 0.055076,
     "end_time": "2023-01-18T11:53:24.594099",
     "exception": false,
     "start_time": "2023-01-18T11:53:24.539023",
     "status": "completed"
    },
    "tags": []
   },
   "outputs": [
    {
     "name": "stdout",
     "output_type": "stream",
     "text": [
      "/kaggle/input/titanic/train.csv\n",
      "/kaggle/input/titanic/test.csv\n",
      "/kaggle/input/titanic/gender_submission.csv\n"
     ]
    }
   ],
   "source": [
    "# This Python 3 environment comes with many helpful analytics libraries installed\n",
    "# It is defined by the kaggle/python Docker image: https://github.com/kaggle/docker-python\n",
    "# For example, here's several helpful packages to load\n",
    "\n",
    "import numpy as np # linear algebra\n",
    "import pandas as pd # data processing, CSV file I/O (e.g. pd.read_csv)\n",
    "\n",
    "# Input data files are available in the read-only \"../input/\" directory\n",
    "# For example, running this (by clicking run or pressing Shift+Enter) will list all files under the input directory\n",
    "\n",
    "import os\n",
    "for dirname, _, filenames in os.walk('/kaggle/input'):\n",
    "    for filename in filenames:\n",
    "        print(os.path.join(dirname, filename))\n",
    "\n",
    "# You can write up to 20GB to the current directory (/kaggle/working/) that gets preserved as output when you create a version using \"Save & Run All\" \n",
    "# You can also write temporary files to /kaggle/temp/, but they won't be saved outside of the current session"
   ]
  },
  {
   "cell_type": "code",
   "execution_count": 2,
   "id": "56bd25bc",
   "metadata": {
    "execution": {
     "iopub.execute_input": "2023-01-18T11:53:24.653870Z",
     "iopub.status.busy": "2023-01-18T11:53:24.652995Z",
     "iopub.status.idle": "2023-01-18T11:53:25.912010Z",
     "shell.execute_reply": "2023-01-18T11:53:25.910923Z"
    },
    "papermill": {
     "duration": 1.292659,
     "end_time": "2023-01-18T11:53:25.914989",
     "exception": false,
     "start_time": "2023-01-18T11:53:24.622330",
     "status": "completed"
    },
    "tags": []
   },
   "outputs": [],
   "source": [
    "import matplotlib.pyplot as plt\n",
    "import seaborn as sns\n",
    "%matplotlib inline"
   ]
  },
  {
   "cell_type": "code",
   "execution_count": 3,
   "id": "0233a14a",
   "metadata": {
    "execution": {
     "iopub.execute_input": "2023-01-18T11:53:25.971739Z",
     "iopub.status.busy": "2023-01-18T11:53:25.970361Z",
     "iopub.status.idle": "2023-01-18T11:53:26.010959Z",
     "shell.execute_reply": "2023-01-18T11:53:26.009516Z"
    },
    "papermill": {
     "duration": 0.072658,
     "end_time": "2023-01-18T11:53:26.014451",
     "exception": false,
     "start_time": "2023-01-18T11:53:25.941793",
     "status": "completed"
    },
    "tags": []
   },
   "outputs": [],
   "source": [
    "data=pd.read_csv('/kaggle/input/titanic/train.csv')\n",
    "test=pd.read_csv('/kaggle/input/titanic/test.csv')"
   ]
  },
  {
   "cell_type": "markdown",
   "id": "4a052c47",
   "metadata": {
    "papermill": {
     "duration": 0.029986,
     "end_time": "2023-01-18T11:53:26.071916",
     "exception": false,
     "start_time": "2023-01-18T11:53:26.041930",
     "status": "completed"
    },
    "tags": []
   },
   "source": [
    "# Problem Statement\n",
    "what sorts of people more likely to survive"
   ]
  },
  {
   "cell_type": "markdown",
   "id": "8b9807cc",
   "metadata": {
    "papermill": {
     "duration": 0.027513,
     "end_time": "2023-01-18T11:53:26.127223",
     "exception": false,
     "start_time": "2023-01-18T11:53:26.099710",
     "status": "completed"
    },
    "tags": []
   },
   "source": [
    "# EDA"
   ]
  },
  {
   "cell_type": "code",
   "execution_count": 4,
   "id": "f94d1a40",
   "metadata": {
    "execution": {
     "iopub.execute_input": "2023-01-18T11:53:26.182819Z",
     "iopub.status.busy": "2023-01-18T11:53:26.182271Z",
     "iopub.status.idle": "2023-01-18T11:53:26.216801Z",
     "shell.execute_reply": "2023-01-18T11:53:26.215435Z"
    },
    "papermill": {
     "duration": 0.066139,
     "end_time": "2023-01-18T11:53:26.220019",
     "exception": false,
     "start_time": "2023-01-18T11:53:26.153880",
     "status": "completed"
    },
    "tags": []
   },
   "outputs": [
    {
     "data": {
      "text/html": [
       "<div>\n",
       "<style scoped>\n",
       "    .dataframe tbody tr th:only-of-type {\n",
       "        vertical-align: middle;\n",
       "    }\n",
       "\n",
       "    .dataframe tbody tr th {\n",
       "        vertical-align: top;\n",
       "    }\n",
       "\n",
       "    .dataframe thead th {\n",
       "        text-align: right;\n",
       "    }\n",
       "</style>\n",
       "<table border=\"1\" class=\"dataframe\">\n",
       "  <thead>\n",
       "    <tr style=\"text-align: right;\">\n",
       "      <th></th>\n",
       "      <th>PassengerId</th>\n",
       "      <th>Pclass</th>\n",
       "      <th>Name</th>\n",
       "      <th>Sex</th>\n",
       "      <th>Age</th>\n",
       "      <th>SibSp</th>\n",
       "      <th>Parch</th>\n",
       "      <th>Ticket</th>\n",
       "      <th>Fare</th>\n",
       "      <th>Cabin</th>\n",
       "      <th>Embarked</th>\n",
       "    </tr>\n",
       "  </thead>\n",
       "  <tbody>\n",
       "    <tr>\n",
       "      <th>362</th>\n",
       "      <td>1254</td>\n",
       "      <td>2</td>\n",
       "      <td>Ware, Mrs. John James (Florence Louise Long)</td>\n",
       "      <td>female</td>\n",
       "      <td>31.00</td>\n",
       "      <td>0</td>\n",
       "      <td>0</td>\n",
       "      <td>CA 31352</td>\n",
       "      <td>21.0000</td>\n",
       "      <td>NaN</td>\n",
       "      <td>S</td>\n",
       "    </tr>\n",
       "    <tr>\n",
       "      <th>238</th>\n",
       "      <td>1130</td>\n",
       "      <td>2</td>\n",
       "      <td>Hiltunen, Miss. Marta</td>\n",
       "      <td>female</td>\n",
       "      <td>18.00</td>\n",
       "      <td>1</td>\n",
       "      <td>1</td>\n",
       "      <td>250650</td>\n",
       "      <td>13.0000</td>\n",
       "      <td>NaN</td>\n",
       "      <td>S</td>\n",
       "    </tr>\n",
       "    <tr>\n",
       "      <th>201</th>\n",
       "      <td>1093</td>\n",
       "      <td>3</td>\n",
       "      <td>Danbom, Master. Gilbert Sigvard Emanuel</td>\n",
       "      <td>male</td>\n",
       "      <td>0.33</td>\n",
       "      <td>0</td>\n",
       "      <td>2</td>\n",
       "      <td>347080</td>\n",
       "      <td>14.4000</td>\n",
       "      <td>NaN</td>\n",
       "      <td>S</td>\n",
       "    </tr>\n",
       "    <tr>\n",
       "      <th>123</th>\n",
       "      <td>1015</td>\n",
       "      <td>3</td>\n",
       "      <td>Carver, Mr. Alfred John</td>\n",
       "      <td>male</td>\n",
       "      <td>28.00</td>\n",
       "      <td>0</td>\n",
       "      <td>0</td>\n",
       "      <td>392095</td>\n",
       "      <td>7.2500</td>\n",
       "      <td>NaN</td>\n",
       "      <td>S</td>\n",
       "    </tr>\n",
       "    <tr>\n",
       "      <th>310</th>\n",
       "      <td>1202</td>\n",
       "      <td>3</td>\n",
       "      <td>Cacic, Mr. Jego Grga</td>\n",
       "      <td>male</td>\n",
       "      <td>18.00</td>\n",
       "      <td>0</td>\n",
       "      <td>0</td>\n",
       "      <td>315091</td>\n",
       "      <td>8.6625</td>\n",
       "      <td>NaN</td>\n",
       "      <td>S</td>\n",
       "    </tr>\n",
       "  </tbody>\n",
       "</table>\n",
       "</div>"
      ],
      "text/plain": [
       "     PassengerId  Pclass                                          Name  \\\n",
       "362         1254       2  Ware, Mrs. John James (Florence Louise Long)   \n",
       "238         1130       2                         Hiltunen, Miss. Marta   \n",
       "201         1093       3       Danbom, Master. Gilbert Sigvard Emanuel   \n",
       "123         1015       3                       Carver, Mr. Alfred John   \n",
       "310         1202       3                          Cacic, Mr. Jego Grga   \n",
       "\n",
       "        Sex    Age  SibSp  Parch    Ticket     Fare Cabin Embarked  \n",
       "362  female  31.00      0      0  CA 31352  21.0000   NaN        S  \n",
       "238  female  18.00      1      1    250650  13.0000   NaN        S  \n",
       "201    male   0.33      0      2    347080  14.4000   NaN        S  \n",
       "123    male  28.00      0      0    392095   7.2500   NaN        S  \n",
       "310    male  18.00      0      0    315091   8.6625   NaN        S  "
      ]
     },
     "execution_count": 4,
     "metadata": {},
     "output_type": "execute_result"
    }
   ],
   "source": [
    "test.sample(5)"
   ]
  },
  {
   "cell_type": "code",
   "execution_count": 5,
   "id": "8ebda9de",
   "metadata": {
    "execution": {
     "iopub.execute_input": "2023-01-18T11:53:26.276682Z",
     "iopub.status.busy": "2023-01-18T11:53:26.276142Z",
     "iopub.status.idle": "2023-01-18T11:53:26.295252Z",
     "shell.execute_reply": "2023-01-18T11:53:26.293831Z"
    },
    "papermill": {
     "duration": 0.050691,
     "end_time": "2023-01-18T11:53:26.297832",
     "exception": false,
     "start_time": "2023-01-18T11:53:26.247141",
     "status": "completed"
    },
    "tags": []
   },
   "outputs": [
    {
     "data": {
      "text/html": [
       "<div>\n",
       "<style scoped>\n",
       "    .dataframe tbody tr th:only-of-type {\n",
       "        vertical-align: middle;\n",
       "    }\n",
       "\n",
       "    .dataframe tbody tr th {\n",
       "        vertical-align: top;\n",
       "    }\n",
       "\n",
       "    .dataframe thead th {\n",
       "        text-align: right;\n",
       "    }\n",
       "</style>\n",
       "<table border=\"1\" class=\"dataframe\">\n",
       "  <thead>\n",
       "    <tr style=\"text-align: right;\">\n",
       "      <th></th>\n",
       "      <th>PassengerId</th>\n",
       "      <th>Survived</th>\n",
       "      <th>Pclass</th>\n",
       "      <th>Name</th>\n",
       "      <th>Sex</th>\n",
       "      <th>Age</th>\n",
       "      <th>SibSp</th>\n",
       "      <th>Parch</th>\n",
       "      <th>Ticket</th>\n",
       "      <th>Fare</th>\n",
       "      <th>Cabin</th>\n",
       "      <th>Embarked</th>\n",
       "    </tr>\n",
       "  </thead>\n",
       "  <tbody>\n",
       "    <tr>\n",
       "      <th>0</th>\n",
       "      <td>1</td>\n",
       "      <td>0</td>\n",
       "      <td>3</td>\n",
       "      <td>Braund, Mr. Owen Harris</td>\n",
       "      <td>male</td>\n",
       "      <td>22.0</td>\n",
       "      <td>1</td>\n",
       "      <td>0</td>\n",
       "      <td>A/5 21171</td>\n",
       "      <td>7.2500</td>\n",
       "      <td>NaN</td>\n",
       "      <td>S</td>\n",
       "    </tr>\n",
       "    <tr>\n",
       "      <th>1</th>\n",
       "      <td>2</td>\n",
       "      <td>1</td>\n",
       "      <td>1</td>\n",
       "      <td>Cumings, Mrs. John Bradley (Florence Briggs Th...</td>\n",
       "      <td>female</td>\n",
       "      <td>38.0</td>\n",
       "      <td>1</td>\n",
       "      <td>0</td>\n",
       "      <td>PC 17599</td>\n",
       "      <td>71.2833</td>\n",
       "      <td>C85</td>\n",
       "      <td>C</td>\n",
       "    </tr>\n",
       "    <tr>\n",
       "      <th>2</th>\n",
       "      <td>3</td>\n",
       "      <td>1</td>\n",
       "      <td>3</td>\n",
       "      <td>Heikkinen, Miss. Laina</td>\n",
       "      <td>female</td>\n",
       "      <td>26.0</td>\n",
       "      <td>0</td>\n",
       "      <td>0</td>\n",
       "      <td>STON/O2. 3101282</td>\n",
       "      <td>7.9250</td>\n",
       "      <td>NaN</td>\n",
       "      <td>S</td>\n",
       "    </tr>\n",
       "    <tr>\n",
       "      <th>3</th>\n",
       "      <td>4</td>\n",
       "      <td>1</td>\n",
       "      <td>1</td>\n",
       "      <td>Futrelle, Mrs. Jacques Heath (Lily May Peel)</td>\n",
       "      <td>female</td>\n",
       "      <td>35.0</td>\n",
       "      <td>1</td>\n",
       "      <td>0</td>\n",
       "      <td>113803</td>\n",
       "      <td>53.1000</td>\n",
       "      <td>C123</td>\n",
       "      <td>S</td>\n",
       "    </tr>\n",
       "    <tr>\n",
       "      <th>4</th>\n",
       "      <td>5</td>\n",
       "      <td>0</td>\n",
       "      <td>3</td>\n",
       "      <td>Allen, Mr. William Henry</td>\n",
       "      <td>male</td>\n",
       "      <td>35.0</td>\n",
       "      <td>0</td>\n",
       "      <td>0</td>\n",
       "      <td>373450</td>\n",
       "      <td>8.0500</td>\n",
       "      <td>NaN</td>\n",
       "      <td>S</td>\n",
       "    </tr>\n",
       "  </tbody>\n",
       "</table>\n",
       "</div>"
      ],
      "text/plain": [
       "   PassengerId  Survived  Pclass  \\\n",
       "0            1         0       3   \n",
       "1            2         1       1   \n",
       "2            3         1       3   \n",
       "3            4         1       1   \n",
       "4            5         0       3   \n",
       "\n",
       "                                                Name     Sex   Age  SibSp  \\\n",
       "0                            Braund, Mr. Owen Harris    male  22.0      1   \n",
       "1  Cumings, Mrs. John Bradley (Florence Briggs Th...  female  38.0      1   \n",
       "2                             Heikkinen, Miss. Laina  female  26.0      0   \n",
       "3       Futrelle, Mrs. Jacques Heath (Lily May Peel)  female  35.0      1   \n",
       "4                           Allen, Mr. William Henry    male  35.0      0   \n",
       "\n",
       "   Parch            Ticket     Fare Cabin Embarked  \n",
       "0      0         A/5 21171   7.2500   NaN        S  \n",
       "1      0          PC 17599  71.2833   C85        C  \n",
       "2      0  STON/O2. 3101282   7.9250   NaN        S  \n",
       "3      0            113803  53.1000  C123        S  \n",
       "4      0            373450   8.0500   NaN        S  "
      ]
     },
     "execution_count": 5,
     "metadata": {},
     "output_type": "execute_result"
    }
   ],
   "source": [
    "data.head()"
   ]
  },
  {
   "cell_type": "markdown",
   "id": "e2a6011d",
   "metadata": {
    "papermill": {
     "duration": 0.026753,
     "end_time": "2023-01-18T11:53:26.351974",
     "exception": false,
     "start_time": "2023-01-18T11:53:26.325221",
     "status": "completed"
    },
    "tags": []
   },
   "source": [
    "randomly picking any 5 samples"
   ]
  },
  {
   "cell_type": "code",
   "execution_count": 6,
   "id": "445514c9",
   "metadata": {
    "execution": {
     "iopub.execute_input": "2023-01-18T11:53:26.409564Z",
     "iopub.status.busy": "2023-01-18T11:53:26.409029Z",
     "iopub.status.idle": "2023-01-18T11:53:26.429726Z",
     "shell.execute_reply": "2023-01-18T11:53:26.428394Z"
    },
    "papermill": {
     "duration": 0.05281,
     "end_time": "2023-01-18T11:53:26.432433",
     "exception": false,
     "start_time": "2023-01-18T11:53:26.379623",
     "status": "completed"
    },
    "tags": []
   },
   "outputs": [
    {
     "data": {
      "text/html": [
       "<div>\n",
       "<style scoped>\n",
       "    .dataframe tbody tr th:only-of-type {\n",
       "        vertical-align: middle;\n",
       "    }\n",
       "\n",
       "    .dataframe tbody tr th {\n",
       "        vertical-align: top;\n",
       "    }\n",
       "\n",
       "    .dataframe thead th {\n",
       "        text-align: right;\n",
       "    }\n",
       "</style>\n",
       "<table border=\"1\" class=\"dataframe\">\n",
       "  <thead>\n",
       "    <tr style=\"text-align: right;\">\n",
       "      <th></th>\n",
       "      <th>PassengerId</th>\n",
       "      <th>Survived</th>\n",
       "      <th>Pclass</th>\n",
       "      <th>Name</th>\n",
       "      <th>Sex</th>\n",
       "      <th>Age</th>\n",
       "      <th>SibSp</th>\n",
       "      <th>Parch</th>\n",
       "      <th>Ticket</th>\n",
       "      <th>Fare</th>\n",
       "      <th>Cabin</th>\n",
       "      <th>Embarked</th>\n",
       "    </tr>\n",
       "  </thead>\n",
       "  <tbody>\n",
       "    <tr>\n",
       "      <th>748</th>\n",
       "      <td>749</td>\n",
       "      <td>0</td>\n",
       "      <td>1</td>\n",
       "      <td>Marvin, Mr. Daniel Warner</td>\n",
       "      <td>male</td>\n",
       "      <td>19.0</td>\n",
       "      <td>1</td>\n",
       "      <td>0</td>\n",
       "      <td>113773</td>\n",
       "      <td>53.1000</td>\n",
       "      <td>D30</td>\n",
       "      <td>S</td>\n",
       "    </tr>\n",
       "    <tr>\n",
       "      <th>736</th>\n",
       "      <td>737</td>\n",
       "      <td>0</td>\n",
       "      <td>3</td>\n",
       "      <td>Ford, Mrs. Edward (Margaret Ann Watson)</td>\n",
       "      <td>female</td>\n",
       "      <td>48.0</td>\n",
       "      <td>1</td>\n",
       "      <td>3</td>\n",
       "      <td>W./C. 6608</td>\n",
       "      <td>34.3750</td>\n",
       "      <td>NaN</td>\n",
       "      <td>S</td>\n",
       "    </tr>\n",
       "    <tr>\n",
       "      <th>248</th>\n",
       "      <td>249</td>\n",
       "      <td>1</td>\n",
       "      <td>1</td>\n",
       "      <td>Beckwith, Mr. Richard Leonard</td>\n",
       "      <td>male</td>\n",
       "      <td>37.0</td>\n",
       "      <td>1</td>\n",
       "      <td>1</td>\n",
       "      <td>11751</td>\n",
       "      <td>52.5542</td>\n",
       "      <td>D35</td>\n",
       "      <td>S</td>\n",
       "    </tr>\n",
       "    <tr>\n",
       "      <th>660</th>\n",
       "      <td>661</td>\n",
       "      <td>1</td>\n",
       "      <td>1</td>\n",
       "      <td>Frauenthal, Dr. Henry William</td>\n",
       "      <td>male</td>\n",
       "      <td>50.0</td>\n",
       "      <td>2</td>\n",
       "      <td>0</td>\n",
       "      <td>PC 17611</td>\n",
       "      <td>133.6500</td>\n",
       "      <td>NaN</td>\n",
       "      <td>S</td>\n",
       "    </tr>\n",
       "    <tr>\n",
       "      <th>117</th>\n",
       "      <td>118</td>\n",
       "      <td>0</td>\n",
       "      <td>2</td>\n",
       "      <td>Turpin, Mr. William John Robert</td>\n",
       "      <td>male</td>\n",
       "      <td>29.0</td>\n",
       "      <td>1</td>\n",
       "      <td>0</td>\n",
       "      <td>11668</td>\n",
       "      <td>21.0000</td>\n",
       "      <td>NaN</td>\n",
       "      <td>S</td>\n",
       "    </tr>\n",
       "  </tbody>\n",
       "</table>\n",
       "</div>"
      ],
      "text/plain": [
       "     PassengerId  Survived  Pclass                                     Name  \\\n",
       "748          749         0       1                Marvin, Mr. Daniel Warner   \n",
       "736          737         0       3  Ford, Mrs. Edward (Margaret Ann Watson)   \n",
       "248          249         1       1            Beckwith, Mr. Richard Leonard   \n",
       "660          661         1       1            Frauenthal, Dr. Henry William   \n",
       "117          118         0       2          Turpin, Mr. William John Robert   \n",
       "\n",
       "        Sex   Age  SibSp  Parch      Ticket      Fare Cabin Embarked  \n",
       "748    male  19.0      1      0      113773   53.1000   D30        S  \n",
       "736  female  48.0      1      3  W./C. 6608   34.3750   NaN        S  \n",
       "248    male  37.0      1      1       11751   52.5542   D35        S  \n",
       "660    male  50.0      2      0    PC 17611  133.6500   NaN        S  \n",
       "117    male  29.0      1      0       11668   21.0000   NaN        S  "
      ]
     },
     "execution_count": 6,
     "metadata": {},
     "output_type": "execute_result"
    }
   ],
   "source": [
    "data.sample(5)"
   ]
  },
  {
   "cell_type": "markdown",
   "id": "7db98f09",
   "metadata": {
    "papermill": {
     "duration": 0.027265,
     "end_time": "2023-01-18T11:53:26.487190",
     "exception": false,
     "start_time": "2023-01-18T11:53:26.459925",
     "status": "completed"
    },
    "tags": []
   },
   "source": [
    "**Data Dictionary** :\n",
    "- Survived -> 0=No 1=Yes\n",
    "- Pclass -> 1st class, 3rd class\n",
    "- SibSp ->  # of siblings / spouses aboard the Titanic\n",
    "- Parch -> # of parents / children aboard the Titanic\n",
    "- fare \t \n",
    "    Numerical Features: Age (Continuous), Fare (Continuous), SibSp (Discrete), Parch (Discrete)\n",
    "    Categorical Features: Survived, Sex, Embarked, Pclass\n",
    "    Alphanumeric Features: Ticket, Cabin\n",
    "Passenger fare\n",
    "\n",
    "\n",
    "\n"
   ]
  },
  {
   "cell_type": "code",
   "execution_count": 7,
   "id": "e2c226e5",
   "metadata": {
    "execution": {
     "iopub.execute_input": "2023-01-18T11:53:26.545241Z",
     "iopub.status.busy": "2023-01-18T11:53:26.544713Z",
     "iopub.status.idle": "2023-01-18T11:53:26.575566Z",
     "shell.execute_reply": "2023-01-18T11:53:26.573266Z"
    },
    "papermill": {
     "duration": 0.063685,
     "end_time": "2023-01-18T11:53:26.578723",
     "exception": false,
     "start_time": "2023-01-18T11:53:26.515038",
     "status": "completed"
    },
    "tags": []
   },
   "outputs": [
    {
     "name": "stdout",
     "output_type": "stream",
     "text": [
      "<class 'pandas.core.frame.DataFrame'>\n",
      "RangeIndex: 891 entries, 0 to 890\n",
      "Data columns (total 12 columns):\n",
      " #   Column       Non-Null Count  Dtype  \n",
      "---  ------       --------------  -----  \n",
      " 0   PassengerId  891 non-null    int64  \n",
      " 1   Survived     891 non-null    int64  \n",
      " 2   Pclass       891 non-null    int64  \n",
      " 3   Name         891 non-null    object \n",
      " 4   Sex          891 non-null    object \n",
      " 5   Age          714 non-null    float64\n",
      " 6   SibSp        891 non-null    int64  \n",
      " 7   Parch        891 non-null    int64  \n",
      " 8   Ticket       891 non-null    object \n",
      " 9   Fare         891 non-null    float64\n",
      " 10  Cabin        204 non-null    object \n",
      " 11  Embarked     889 non-null    object \n",
      "dtypes: float64(2), int64(5), object(5)\n",
      "memory usage: 83.7+ KB\n"
     ]
    }
   ],
   "source": [
    "data.info()"
   ]
  },
  {
   "cell_type": "markdown",
   "id": "8c4e400b",
   "metadata": {
    "papermill": {
     "duration": 0.027753,
     "end_time": "2023-01-18T11:53:26.634347",
     "exception": false,
     "start_time": "2023-01-18T11:53:26.606594",
     "status": "completed"
    },
    "tags": []
   },
   "source": [
    "**What are the data types for each feature?**\n",
    "\n",
    "    Survived: int\n",
    "    Pclass: int\n",
    "    Name: string\n",
    "    Sex: string\n",
    "    Age: float\n",
    "    SibSp: int\n",
    "    Parch: int\n",
    "    Ticket: string\n",
    "    Fare: float\n",
    "    Cabin: string\n",
    "    Embarked: string"
   ]
  },
  {
   "cell_type": "markdown",
   "id": "607545ec",
   "metadata": {
    "papermill": {
     "duration": 0.027853,
     "end_time": "2023-01-18T11:53:26.689572",
     "exception": false,
     "start_time": "2023-01-18T11:53:26.661719",
     "status": "completed"
    },
    "tags": []
   },
   "source": [
    "#### IMPORTANT OBSERVATION\n",
    "   **Numerical Features**: Age (Continuous), Fare (Continuous), SibSp (Discrete), Parch (Discrete)\n",
    "   \n",
    "   **Categorical Features**: Survived, Sex, Embarked, Pclass\n",
    "   \n",
    "   **Alphanumeric Features**: Ticket, Cabin"
   ]
  },
  {
   "cell_type": "code",
   "execution_count": 8,
   "id": "373bcca4",
   "metadata": {
    "execution": {
     "iopub.execute_input": "2023-01-18T11:53:26.748966Z",
     "iopub.status.busy": "2023-01-18T11:53:26.748435Z",
     "iopub.status.idle": "2023-01-18T11:53:26.799755Z",
     "shell.execute_reply": "2023-01-18T11:53:26.798291Z"
    },
    "papermill": {
     "duration": 0.084818,
     "end_time": "2023-01-18T11:53:26.802851",
     "exception": false,
     "start_time": "2023-01-18T11:53:26.718033",
     "status": "completed"
    },
    "tags": []
   },
   "outputs": [
    {
     "data": {
      "text/html": [
       "<div>\n",
       "<style scoped>\n",
       "    .dataframe tbody tr th:only-of-type {\n",
       "        vertical-align: middle;\n",
       "    }\n",
       "\n",
       "    .dataframe tbody tr th {\n",
       "        vertical-align: top;\n",
       "    }\n",
       "\n",
       "    .dataframe thead th {\n",
       "        text-align: right;\n",
       "    }\n",
       "</style>\n",
       "<table border=\"1\" class=\"dataframe\">\n",
       "  <thead>\n",
       "    <tr style=\"text-align: right;\">\n",
       "      <th></th>\n",
       "      <th>PassengerId</th>\n",
       "      <th>Survived</th>\n",
       "      <th>Pclass</th>\n",
       "      <th>Name</th>\n",
       "      <th>Sex</th>\n",
       "      <th>Age</th>\n",
       "      <th>SibSp</th>\n",
       "      <th>Parch</th>\n",
       "      <th>Ticket</th>\n",
       "      <th>Fare</th>\n",
       "      <th>Cabin</th>\n",
       "      <th>Embarked</th>\n",
       "    </tr>\n",
       "  </thead>\n",
       "  <tbody>\n",
       "    <tr>\n",
       "      <th>count</th>\n",
       "      <td>891.000000</td>\n",
       "      <td>891.000000</td>\n",
       "      <td>891.000000</td>\n",
       "      <td>891</td>\n",
       "      <td>891</td>\n",
       "      <td>714.000000</td>\n",
       "      <td>891.000000</td>\n",
       "      <td>891.000000</td>\n",
       "      <td>891</td>\n",
       "      <td>891.000000</td>\n",
       "      <td>204</td>\n",
       "      <td>889</td>\n",
       "    </tr>\n",
       "    <tr>\n",
       "      <th>unique</th>\n",
       "      <td>NaN</td>\n",
       "      <td>NaN</td>\n",
       "      <td>NaN</td>\n",
       "      <td>891</td>\n",
       "      <td>2</td>\n",
       "      <td>NaN</td>\n",
       "      <td>NaN</td>\n",
       "      <td>NaN</td>\n",
       "      <td>681</td>\n",
       "      <td>NaN</td>\n",
       "      <td>147</td>\n",
       "      <td>3</td>\n",
       "    </tr>\n",
       "    <tr>\n",
       "      <th>top</th>\n",
       "      <td>NaN</td>\n",
       "      <td>NaN</td>\n",
       "      <td>NaN</td>\n",
       "      <td>Braund, Mr. Owen Harris</td>\n",
       "      <td>male</td>\n",
       "      <td>NaN</td>\n",
       "      <td>NaN</td>\n",
       "      <td>NaN</td>\n",
       "      <td>347082</td>\n",
       "      <td>NaN</td>\n",
       "      <td>B96 B98</td>\n",
       "      <td>S</td>\n",
       "    </tr>\n",
       "    <tr>\n",
       "      <th>freq</th>\n",
       "      <td>NaN</td>\n",
       "      <td>NaN</td>\n",
       "      <td>NaN</td>\n",
       "      <td>1</td>\n",
       "      <td>577</td>\n",
       "      <td>NaN</td>\n",
       "      <td>NaN</td>\n",
       "      <td>NaN</td>\n",
       "      <td>7</td>\n",
       "      <td>NaN</td>\n",
       "      <td>4</td>\n",
       "      <td>644</td>\n",
       "    </tr>\n",
       "    <tr>\n",
       "      <th>mean</th>\n",
       "      <td>446.000000</td>\n",
       "      <td>0.383838</td>\n",
       "      <td>2.308642</td>\n",
       "      <td>NaN</td>\n",
       "      <td>NaN</td>\n",
       "      <td>29.699118</td>\n",
       "      <td>0.523008</td>\n",
       "      <td>0.381594</td>\n",
       "      <td>NaN</td>\n",
       "      <td>32.204208</td>\n",
       "      <td>NaN</td>\n",
       "      <td>NaN</td>\n",
       "    </tr>\n",
       "    <tr>\n",
       "      <th>std</th>\n",
       "      <td>257.353842</td>\n",
       "      <td>0.486592</td>\n",
       "      <td>0.836071</td>\n",
       "      <td>NaN</td>\n",
       "      <td>NaN</td>\n",
       "      <td>14.526497</td>\n",
       "      <td>1.102743</td>\n",
       "      <td>0.806057</td>\n",
       "      <td>NaN</td>\n",
       "      <td>49.693429</td>\n",
       "      <td>NaN</td>\n",
       "      <td>NaN</td>\n",
       "    </tr>\n",
       "    <tr>\n",
       "      <th>min</th>\n",
       "      <td>1.000000</td>\n",
       "      <td>0.000000</td>\n",
       "      <td>1.000000</td>\n",
       "      <td>NaN</td>\n",
       "      <td>NaN</td>\n",
       "      <td>0.420000</td>\n",
       "      <td>0.000000</td>\n",
       "      <td>0.000000</td>\n",
       "      <td>NaN</td>\n",
       "      <td>0.000000</td>\n",
       "      <td>NaN</td>\n",
       "      <td>NaN</td>\n",
       "    </tr>\n",
       "    <tr>\n",
       "      <th>25%</th>\n",
       "      <td>223.500000</td>\n",
       "      <td>0.000000</td>\n",
       "      <td>2.000000</td>\n",
       "      <td>NaN</td>\n",
       "      <td>NaN</td>\n",
       "      <td>20.125000</td>\n",
       "      <td>0.000000</td>\n",
       "      <td>0.000000</td>\n",
       "      <td>NaN</td>\n",
       "      <td>7.910400</td>\n",
       "      <td>NaN</td>\n",
       "      <td>NaN</td>\n",
       "    </tr>\n",
       "    <tr>\n",
       "      <th>50%</th>\n",
       "      <td>446.000000</td>\n",
       "      <td>0.000000</td>\n",
       "      <td>3.000000</td>\n",
       "      <td>NaN</td>\n",
       "      <td>NaN</td>\n",
       "      <td>28.000000</td>\n",
       "      <td>0.000000</td>\n",
       "      <td>0.000000</td>\n",
       "      <td>NaN</td>\n",
       "      <td>14.454200</td>\n",
       "      <td>NaN</td>\n",
       "      <td>NaN</td>\n",
       "    </tr>\n",
       "    <tr>\n",
       "      <th>75%</th>\n",
       "      <td>668.500000</td>\n",
       "      <td>1.000000</td>\n",
       "      <td>3.000000</td>\n",
       "      <td>NaN</td>\n",
       "      <td>NaN</td>\n",
       "      <td>38.000000</td>\n",
       "      <td>1.000000</td>\n",
       "      <td>0.000000</td>\n",
       "      <td>NaN</td>\n",
       "      <td>31.000000</td>\n",
       "      <td>NaN</td>\n",
       "      <td>NaN</td>\n",
       "    </tr>\n",
       "    <tr>\n",
       "      <th>max</th>\n",
       "      <td>891.000000</td>\n",
       "      <td>1.000000</td>\n",
       "      <td>3.000000</td>\n",
       "      <td>NaN</td>\n",
       "      <td>NaN</td>\n",
       "      <td>80.000000</td>\n",
       "      <td>8.000000</td>\n",
       "      <td>6.000000</td>\n",
       "      <td>NaN</td>\n",
       "      <td>512.329200</td>\n",
       "      <td>NaN</td>\n",
       "      <td>NaN</td>\n",
       "    </tr>\n",
       "  </tbody>\n",
       "</table>\n",
       "</div>"
      ],
      "text/plain": [
       "        PassengerId    Survived      Pclass                     Name   Sex  \\\n",
       "count    891.000000  891.000000  891.000000                      891   891   \n",
       "unique          NaN         NaN         NaN                      891     2   \n",
       "top             NaN         NaN         NaN  Braund, Mr. Owen Harris  male   \n",
       "freq            NaN         NaN         NaN                        1   577   \n",
       "mean     446.000000    0.383838    2.308642                      NaN   NaN   \n",
       "std      257.353842    0.486592    0.836071                      NaN   NaN   \n",
       "min        1.000000    0.000000    1.000000                      NaN   NaN   \n",
       "25%      223.500000    0.000000    2.000000                      NaN   NaN   \n",
       "50%      446.000000    0.000000    3.000000                      NaN   NaN   \n",
       "75%      668.500000    1.000000    3.000000                      NaN   NaN   \n",
       "max      891.000000    1.000000    3.000000                      NaN   NaN   \n",
       "\n",
       "               Age       SibSp       Parch  Ticket        Fare    Cabin  \\\n",
       "count   714.000000  891.000000  891.000000     891  891.000000      204   \n",
       "unique         NaN         NaN         NaN     681         NaN      147   \n",
       "top            NaN         NaN         NaN  347082         NaN  B96 B98   \n",
       "freq           NaN         NaN         NaN       7         NaN        4   \n",
       "mean     29.699118    0.523008    0.381594     NaN   32.204208      NaN   \n",
       "std      14.526497    1.102743    0.806057     NaN   49.693429      NaN   \n",
       "min       0.420000    0.000000    0.000000     NaN    0.000000      NaN   \n",
       "25%      20.125000    0.000000    0.000000     NaN    7.910400      NaN   \n",
       "50%      28.000000    0.000000    0.000000     NaN   14.454200      NaN   \n",
       "75%      38.000000    1.000000    0.000000     NaN   31.000000      NaN   \n",
       "max      80.000000    8.000000    6.000000     NaN  512.329200      NaN   \n",
       "\n",
       "       Embarked  \n",
       "count       889  \n",
       "unique        3  \n",
       "top           S  \n",
       "freq        644  \n",
       "mean        NaN  \n",
       "std         NaN  \n",
       "min         NaN  \n",
       "25%         NaN  \n",
       "50%         NaN  \n",
       "75%         NaN  \n",
       "max         NaN  "
      ]
     },
     "execution_count": 8,
     "metadata": {},
     "output_type": "execute_result"
    }
   ],
   "source": [
    "data.describe(include='all')"
   ]
  },
  {
   "cell_type": "markdown",
   "id": "969e3161",
   "metadata": {
    "papermill": {
     "duration": 0.027662,
     "end_time": "2023-01-18T11:53:26.858973",
     "exception": false,
     "start_time": "2023-01-18T11:53:26.831311",
     "status": "completed"
    },
    "tags": []
   },
   "source": [
    "- 891 observations present"
   ]
  },
  {
   "cell_type": "markdown",
   "id": "210f9722",
   "metadata": {
    "papermill": {
     "duration": 0.027686,
     "end_time": "2023-01-18T11:53:26.915312",
     "exception": false,
     "start_time": "2023-01-18T11:53:26.887626",
     "status": "completed"
    },
    "tags": []
   },
   "source": [
    "*check for null values*"
   ]
  },
  {
   "cell_type": "code",
   "execution_count": 9,
   "id": "01fa6363",
   "metadata": {
    "execution": {
     "iopub.execute_input": "2023-01-18T11:53:26.976603Z",
     "iopub.status.busy": "2023-01-18T11:53:26.976051Z",
     "iopub.status.idle": "2023-01-18T11:53:26.986883Z",
     "shell.execute_reply": "2023-01-18T11:53:26.985987Z"
    },
    "papermill": {
     "duration": 0.04487,
     "end_time": "2023-01-18T11:53:26.989038",
     "exception": false,
     "start_time": "2023-01-18T11:53:26.944168",
     "status": "completed"
    },
    "tags": []
   },
   "outputs": [
    {
     "data": {
      "text/plain": [
       "PassengerId      0\n",
       "Survived         0\n",
       "Pclass           0\n",
       "Name             0\n",
       "Sex              0\n",
       "Age            177\n",
       "SibSp            0\n",
       "Parch            0\n",
       "Ticket           0\n",
       "Fare             0\n",
       "Cabin          687\n",
       "Embarked         2\n",
       "dtype: int64"
      ]
     },
     "execution_count": 9,
     "metadata": {},
     "output_type": "execute_result"
    }
   ],
   "source": [
    "data.isnull().sum()"
   ]
  },
  {
   "cell_type": "code",
   "execution_count": 10,
   "id": "f9fea14f",
   "metadata": {
    "execution": {
     "iopub.execute_input": "2023-01-18T11:53:27.048754Z",
     "iopub.status.busy": "2023-01-18T11:53:27.048168Z",
     "iopub.status.idle": "2023-01-18T11:53:27.060528Z",
     "shell.execute_reply": "2023-01-18T11:53:27.058854Z"
    },
    "papermill": {
     "duration": 0.045104,
     "end_time": "2023-01-18T11:53:27.063246",
     "exception": false,
     "start_time": "2023-01-18T11:53:27.018142",
     "status": "completed"
    },
    "tags": []
   },
   "outputs": [
    {
     "data": {
      "text/plain": [
       "PassengerId      0\n",
       "Pclass           0\n",
       "Name             0\n",
       "Sex              0\n",
       "Age             86\n",
       "SibSp            0\n",
       "Parch            0\n",
       "Ticket           0\n",
       "Fare             1\n",
       "Cabin          327\n",
       "Embarked         0\n",
       "dtype: int64"
      ]
     },
     "execution_count": 10,
     "metadata": {},
     "output_type": "execute_result"
    }
   ],
   "source": [
    "test.isnull().sum()"
   ]
  },
  {
   "cell_type": "markdown",
   "id": "dc329543",
   "metadata": {
    "papermill": {
     "duration": 0.028235,
     "end_time": "2023-01-18T11:53:27.119656",
     "exception": false,
     "start_time": "2023-01-18T11:53:27.091421",
     "status": "completed"
    },
    "tags": []
   },
   "source": [
    "- Cabin feature can be termed useless since 687/891 data is missing\n",
    "- Embarked feature is safe to use\n",
    "- Age feature will need something but is usable and important"
   ]
  },
  {
   "cell_type": "markdown",
   "id": "90a2b2d2",
   "metadata": {
    "papermill": {
     "duration": 0.02759,
     "end_time": "2023-01-18T11:53:27.175706",
     "exception": false,
     "start_time": "2023-01-18T11:53:27.148116",
     "status": "completed"
    },
    "tags": []
   },
   "source": [
    "# Data Viz"
   ]
  },
  {
   "cell_type": "markdown",
   "id": "20a13f97",
   "metadata": {
    "papermill": {
     "duration": 0.027498,
     "end_time": "2023-01-18T11:53:27.231366",
     "exception": false,
     "start_time": "2023-01-18T11:53:27.203868",
     "status": "completed"
    },
    "tags": []
   },
   "source": [
    "Categorical features easy to plot using Bar Plots"
   ]
  },
  {
   "cell_type": "markdown",
   "id": "83ce26b6",
   "metadata": {
    "papermill": {
     "duration": 0.027571,
     "end_time": "2023-01-18T11:53:27.287256",
     "exception": false,
     "start_time": "2023-01-18T11:53:27.259685",
     "status": "completed"
    },
    "tags": []
   },
   "source": [
    "(need feature vs survived mostly)"
   ]
  },
  {
   "cell_type": "code",
   "execution_count": 11,
   "id": "c342cd71",
   "metadata": {
    "execution": {
     "iopub.execute_input": "2023-01-18T11:53:27.346087Z",
     "iopub.status.busy": "2023-01-18T11:53:27.345524Z",
     "iopub.status.idle": "2023-01-18T11:53:27.374982Z",
     "shell.execute_reply": "2023-01-18T11:53:27.373739Z"
    },
    "papermill": {
     "duration": 0.062306,
     "end_time": "2023-01-18T11:53:27.377728",
     "exception": false,
     "start_time": "2023-01-18T11:53:27.315422",
     "status": "completed"
    },
    "tags": []
   },
   "outputs": [
    {
     "data": {
      "text/html": [
       "<div>\n",
       "<style scoped>\n",
       "    .dataframe tbody tr th:only-of-type {\n",
       "        vertical-align: middle;\n",
       "    }\n",
       "\n",
       "    .dataframe tbody tr th {\n",
       "        vertical-align: top;\n",
       "    }\n",
       "\n",
       "    .dataframe thead th {\n",
       "        text-align: right;\n",
       "    }\n",
       "</style>\n",
       "<table border=\"1\" class=\"dataframe\">\n",
       "  <thead>\n",
       "    <tr style=\"text-align: right;\">\n",
       "      <th></th>\n",
       "      <th>PassengerId</th>\n",
       "      <th>Survived</th>\n",
       "      <th>Pclass</th>\n",
       "      <th>Name</th>\n",
       "      <th>Sex</th>\n",
       "      <th>Age</th>\n",
       "      <th>SibSp</th>\n",
       "      <th>Parch</th>\n",
       "      <th>Ticket</th>\n",
       "      <th>Fare</th>\n",
       "      <th>Cabin</th>\n",
       "      <th>Embarked</th>\n",
       "    </tr>\n",
       "  </thead>\n",
       "  <tbody>\n",
       "    <tr>\n",
       "      <th>1</th>\n",
       "      <td>2</td>\n",
       "      <td>1</td>\n",
       "      <td>1</td>\n",
       "      <td>Cumings, Mrs. John Bradley (Florence Briggs Th...</td>\n",
       "      <td>female</td>\n",
       "      <td>38.0</td>\n",
       "      <td>1</td>\n",
       "      <td>0</td>\n",
       "      <td>PC 17599</td>\n",
       "      <td>71.2833</td>\n",
       "      <td>C85</td>\n",
       "      <td>C</td>\n",
       "    </tr>\n",
       "    <tr>\n",
       "      <th>2</th>\n",
       "      <td>3</td>\n",
       "      <td>1</td>\n",
       "      <td>3</td>\n",
       "      <td>Heikkinen, Miss. Laina</td>\n",
       "      <td>female</td>\n",
       "      <td>26.0</td>\n",
       "      <td>0</td>\n",
       "      <td>0</td>\n",
       "      <td>STON/O2. 3101282</td>\n",
       "      <td>7.9250</td>\n",
       "      <td>NaN</td>\n",
       "      <td>S</td>\n",
       "    </tr>\n",
       "    <tr>\n",
       "      <th>3</th>\n",
       "      <td>4</td>\n",
       "      <td>1</td>\n",
       "      <td>1</td>\n",
       "      <td>Futrelle, Mrs. Jacques Heath (Lily May Peel)</td>\n",
       "      <td>female</td>\n",
       "      <td>35.0</td>\n",
       "      <td>1</td>\n",
       "      <td>0</td>\n",
       "      <td>113803</td>\n",
       "      <td>53.1000</td>\n",
       "      <td>C123</td>\n",
       "      <td>S</td>\n",
       "    </tr>\n",
       "    <tr>\n",
       "      <th>8</th>\n",
       "      <td>9</td>\n",
       "      <td>1</td>\n",
       "      <td>3</td>\n",
       "      <td>Johnson, Mrs. Oscar W (Elisabeth Vilhelmina Berg)</td>\n",
       "      <td>female</td>\n",
       "      <td>27.0</td>\n",
       "      <td>0</td>\n",
       "      <td>2</td>\n",
       "      <td>347742</td>\n",
       "      <td>11.1333</td>\n",
       "      <td>NaN</td>\n",
       "      <td>S</td>\n",
       "    </tr>\n",
       "    <tr>\n",
       "      <th>9</th>\n",
       "      <td>10</td>\n",
       "      <td>1</td>\n",
       "      <td>2</td>\n",
       "      <td>Nasser, Mrs. Nicholas (Adele Achem)</td>\n",
       "      <td>female</td>\n",
       "      <td>14.0</td>\n",
       "      <td>1</td>\n",
       "      <td>0</td>\n",
       "      <td>237736</td>\n",
       "      <td>30.0708</td>\n",
       "      <td>NaN</td>\n",
       "      <td>C</td>\n",
       "    </tr>\n",
       "    <tr>\n",
       "      <th>...</th>\n",
       "      <td>...</td>\n",
       "      <td>...</td>\n",
       "      <td>...</td>\n",
       "      <td>...</td>\n",
       "      <td>...</td>\n",
       "      <td>...</td>\n",
       "      <td>...</td>\n",
       "      <td>...</td>\n",
       "      <td>...</td>\n",
       "      <td>...</td>\n",
       "      <td>...</td>\n",
       "      <td>...</td>\n",
       "    </tr>\n",
       "    <tr>\n",
       "      <th>875</th>\n",
       "      <td>876</td>\n",
       "      <td>1</td>\n",
       "      <td>3</td>\n",
       "      <td>Najib, Miss. Adele Kiamie \"Jane\"</td>\n",
       "      <td>female</td>\n",
       "      <td>15.0</td>\n",
       "      <td>0</td>\n",
       "      <td>0</td>\n",
       "      <td>2667</td>\n",
       "      <td>7.2250</td>\n",
       "      <td>NaN</td>\n",
       "      <td>C</td>\n",
       "    </tr>\n",
       "    <tr>\n",
       "      <th>879</th>\n",
       "      <td>880</td>\n",
       "      <td>1</td>\n",
       "      <td>1</td>\n",
       "      <td>Potter, Mrs. Thomas Jr (Lily Alexenia Wilson)</td>\n",
       "      <td>female</td>\n",
       "      <td>56.0</td>\n",
       "      <td>0</td>\n",
       "      <td>1</td>\n",
       "      <td>11767</td>\n",
       "      <td>83.1583</td>\n",
       "      <td>C50</td>\n",
       "      <td>C</td>\n",
       "    </tr>\n",
       "    <tr>\n",
       "      <th>880</th>\n",
       "      <td>881</td>\n",
       "      <td>1</td>\n",
       "      <td>2</td>\n",
       "      <td>Shelley, Mrs. William (Imanita Parrish Hall)</td>\n",
       "      <td>female</td>\n",
       "      <td>25.0</td>\n",
       "      <td>0</td>\n",
       "      <td>1</td>\n",
       "      <td>230433</td>\n",
       "      <td>26.0000</td>\n",
       "      <td>NaN</td>\n",
       "      <td>S</td>\n",
       "    </tr>\n",
       "    <tr>\n",
       "      <th>887</th>\n",
       "      <td>888</td>\n",
       "      <td>1</td>\n",
       "      <td>1</td>\n",
       "      <td>Graham, Miss. Margaret Edith</td>\n",
       "      <td>female</td>\n",
       "      <td>19.0</td>\n",
       "      <td>0</td>\n",
       "      <td>0</td>\n",
       "      <td>112053</td>\n",
       "      <td>30.0000</td>\n",
       "      <td>B42</td>\n",
       "      <td>S</td>\n",
       "    </tr>\n",
       "    <tr>\n",
       "      <th>889</th>\n",
       "      <td>890</td>\n",
       "      <td>1</td>\n",
       "      <td>1</td>\n",
       "      <td>Behr, Mr. Karl Howell</td>\n",
       "      <td>male</td>\n",
       "      <td>26.0</td>\n",
       "      <td>0</td>\n",
       "      <td>0</td>\n",
       "      <td>111369</td>\n",
       "      <td>30.0000</td>\n",
       "      <td>C148</td>\n",
       "      <td>C</td>\n",
       "    </tr>\n",
       "  </tbody>\n",
       "</table>\n",
       "<p>342 rows × 12 columns</p>\n",
       "</div>"
      ],
      "text/plain": [
       "     PassengerId  Survived  Pclass  \\\n",
       "1              2         1       1   \n",
       "2              3         1       3   \n",
       "3              4         1       1   \n",
       "8              9         1       3   \n",
       "9             10         1       2   \n",
       "..           ...       ...     ...   \n",
       "875          876         1       3   \n",
       "879          880         1       1   \n",
       "880          881         1       2   \n",
       "887          888         1       1   \n",
       "889          890         1       1   \n",
       "\n",
       "                                                  Name     Sex   Age  SibSp  \\\n",
       "1    Cumings, Mrs. John Bradley (Florence Briggs Th...  female  38.0      1   \n",
       "2                               Heikkinen, Miss. Laina  female  26.0      0   \n",
       "3         Futrelle, Mrs. Jacques Heath (Lily May Peel)  female  35.0      1   \n",
       "8    Johnson, Mrs. Oscar W (Elisabeth Vilhelmina Berg)  female  27.0      0   \n",
       "9                  Nasser, Mrs. Nicholas (Adele Achem)  female  14.0      1   \n",
       "..                                                 ...     ...   ...    ...   \n",
       "875                   Najib, Miss. Adele Kiamie \"Jane\"  female  15.0      0   \n",
       "879      Potter, Mrs. Thomas Jr (Lily Alexenia Wilson)  female  56.0      0   \n",
       "880       Shelley, Mrs. William (Imanita Parrish Hall)  female  25.0      0   \n",
       "887                       Graham, Miss. Margaret Edith  female  19.0      0   \n",
       "889                              Behr, Mr. Karl Howell    male  26.0      0   \n",
       "\n",
       "     Parch            Ticket     Fare Cabin Embarked  \n",
       "1        0          PC 17599  71.2833   C85        C  \n",
       "2        0  STON/O2. 3101282   7.9250   NaN        S  \n",
       "3        0            113803  53.1000  C123        S  \n",
       "8        2            347742  11.1333   NaN        S  \n",
       "9        0            237736  30.0708   NaN        C  \n",
       "..     ...               ...      ...   ...      ...  \n",
       "875      0              2667   7.2250   NaN        C  \n",
       "879      1             11767  83.1583   C50        C  \n",
       "880      1            230433  26.0000   NaN        S  \n",
       "887      0            112053  30.0000   B42        S  \n",
       "889      0            111369  30.0000  C148        C  \n",
       "\n",
       "[342 rows x 12 columns]"
      ]
     },
     "execution_count": 11,
     "metadata": {},
     "output_type": "execute_result"
    }
   ],
   "source": [
    "data[data['Survived']==1]"
   ]
  },
  {
   "cell_type": "code",
   "execution_count": 12,
   "id": "0e200908",
   "metadata": {
    "execution": {
     "iopub.execute_input": "2023-01-18T11:53:27.438229Z",
     "iopub.status.busy": "2023-01-18T11:53:27.437693Z",
     "iopub.status.idle": "2023-01-18T11:53:27.445613Z",
     "shell.execute_reply": "2023-01-18T11:53:27.443949Z"
    },
    "papermill": {
     "duration": 0.041272,
     "end_time": "2023-01-18T11:53:27.448235",
     "exception": false,
     "start_time": "2023-01-18T11:53:27.406963",
     "status": "completed"
    },
    "tags": []
   },
   "outputs": [],
   "source": [
    "def bar_chart(feature):\n",
    "    survived = data[data['Survived']==1][feature].value_counts()\n",
    "    dead=data[data['Survived']==0][feature].value_counts()\n",
    "    df=pd.DataFrame([survived,dead]) #series converted to dataframe\n",
    "    df.index=[\"Survived\",\"Dead\"] #without index \n",
    "    df.plot(kind='bar',stacked= True,figsize=(12,6))"
   ]
  },
  {
   "cell_type": "code",
   "execution_count": 13,
   "id": "8d4ac4ab",
   "metadata": {
    "execution": {
     "iopub.execute_input": "2023-01-18T11:53:27.508180Z",
     "iopub.status.busy": "2023-01-18T11:53:27.507629Z",
     "iopub.status.idle": "2023-01-18T11:53:27.813601Z",
     "shell.execute_reply": "2023-01-18T11:53:27.812248Z"
    },
    "papermill": {
     "duration": 0.340035,
     "end_time": "2023-01-18T11:53:27.816853",
     "exception": false,
     "start_time": "2023-01-18T11:53:27.476818",
     "status": "completed"
    },
    "tags": []
   },
   "outputs": [
    {
     "data": {
      "image/png": "[encoded data removed]",
      "text/plain": [
       "<Figure size 864x432 with 1 Axes>"
      ]
     },
     "metadata": {
      "needs_background": "light"
     },
     "output_type": "display_data"
    }
   ],
   "source": [
    "bar_chart('Sex')"
   ]
  },
  {
   "cell_type": "markdown",
   "id": "e29640e2",
   "metadata": {
    "papermill": {
     "duration": 0.028377,
     "end_time": "2023-01-18T11:53:27.874622",
     "exception": false,
     "start_time": "2023-01-18T11:53:27.846245",
     "status": "completed"
    },
    "tags": []
   },
   "source": [
    "can also use"
   ]
  },
  {
   "cell_type": "code",
   "execution_count": 14,
   "id": "ede2eedb",
   "metadata": {
    "execution": {
     "iopub.execute_input": "2023-01-18T11:53:27.937486Z",
     "iopub.status.busy": "2023-01-18T11:53:27.936090Z",
     "iopub.status.idle": "2023-01-18T11:53:28.209902Z",
     "shell.execute_reply": "2023-01-18T11:53:28.208479Z"
    },
    "papermill": {
     "duration": 0.308297,
     "end_time": "2023-01-18T11:53:28.212787",
     "exception": false,
     "start_time": "2023-01-18T11:53:27.904490",
     "status": "completed"
    },
    "tags": []
   },
   "outputs": [
    {
     "data": {
      "text/plain": [
       "<AxesSubplot:xlabel='Sex', ylabel='Survived'>"
      ]
     },
     "execution_count": 14,
     "metadata": {},
     "output_type": "execute_result"
    },
    {
     "data": {
      "image/png": "[encoded data removed]",
      "text/plain": [
       "<Figure size 432x288 with 1 Axes>"
      ]
     },
     "metadata": {
      "needs_background": "light"
     },
     "output_type": "display_data"
    }
   ],
   "source": [
    "sns.barplot(x=\"Sex\", y=\"Survived\", data=data)"
   ]
  },
  {
   "cell_type": "markdown",
   "id": "f0de05f5",
   "metadata": {
    "papermill": {
     "duration": 0.028917,
     "end_time": "2023-01-18T11:53:28.270954",
     "exception": false,
     "start_time": "2023-01-18T11:53:28.242037",
     "status": "completed"
    },
    "tags": []
   },
   "source": [
    "**confirms** female survived more than male"
   ]
  },
  {
   "cell_type": "code",
   "execution_count": 15,
   "id": "e18f416b",
   "metadata": {
    "execution": {
     "iopub.execute_input": "2023-01-18T11:53:28.332592Z",
     "iopub.status.busy": "2023-01-18T11:53:28.332064Z",
     "iopub.status.idle": "2023-01-18T11:53:28.598430Z",
     "shell.execute_reply": "2023-01-18T11:53:28.597095Z"
    },
    "papermill": {
     "duration": 0.300735,
     "end_time": "2023-01-18T11:53:28.601230",
     "exception": false,
     "start_time": "2023-01-18T11:53:28.300495",
     "status": "completed"
    },
    "tags": []
   },
   "outputs": [
    {
     "data": {
      "image/png": "[encoded data removed]",
      "text/plain": [
       "<Figure size 864x432 with 1 Axes>"
      ]
     },
     "metadata": {
      "needs_background": "light"
     },
     "output_type": "display_data"
    }
   ],
   "source": [
    "bar_chart('Pclass')"
   ]
  },
  {
   "cell_type": "code",
   "execution_count": 16,
   "id": "cdc2357b",
   "metadata": {
    "execution": {
     "iopub.execute_input": "2023-01-18T11:53:28.664399Z",
     "iopub.status.busy": "2023-01-18T11:53:28.663354Z",
     "iopub.status.idle": "2023-01-18T11:53:28.976559Z",
     "shell.execute_reply": "2023-01-18T11:53:28.974867Z"
    },
    "papermill": {
     "duration": 0.34795,
     "end_time": "2023-01-18T11:53:28.979625",
     "exception": false,
     "start_time": "2023-01-18T11:53:28.631675",
     "status": "completed"
    },
    "tags": []
   },
   "outputs": [
    {
     "data": {
      "text/plain": [
       "<AxesSubplot:xlabel='Pclass', ylabel='Survived'>"
      ]
     },
     "execution_count": 16,
     "metadata": {},
     "output_type": "execute_result"
    },
    {
     "data": {
      "image/png": "[encoded data removed]",
      "text/plain": [
       "<Figure size 432x288 with 1 Axes>"
      ]
     },
     "metadata": {
      "needs_background": "light"
     },
     "output_type": "display_data"
    }
   ],
   "source": [
    "sns.barplot(x=\"Pclass\", y=\"Survived\", data=data)"
   ]
  },
  {
   "cell_type": "markdown",
   "id": "160bfac1",
   "metadata": {
    "papermill": {
     "duration": 0.029242,
     "end_time": "2023-01-18T11:53:29.040676",
     "exception": false,
     "start_time": "2023-01-18T11:53:29.011434",
     "status": "completed"
    },
    "tags": []
   },
   "source": [
    "**confirms** Pclass 1 has best chance of survival while Pclass 3 has highest chance of dying"
   ]
  },
  {
   "cell_type": "code",
   "execution_count": 17,
   "id": "17d4c2ff",
   "metadata": {
    "execution": {
     "iopub.execute_input": "2023-01-18T11:53:29.102341Z",
     "iopub.status.busy": "2023-01-18T11:53:29.101772Z",
     "iopub.status.idle": "2023-01-18T11:53:29.409794Z",
     "shell.execute_reply": "2023-01-18T11:53:29.408348Z"
    },
    "papermill": {
     "duration": 0.342175,
     "end_time": "2023-01-18T11:53:29.412613",
     "exception": false,
     "start_time": "2023-01-18T11:53:29.070438",
     "status": "completed"
    },
    "tags": []
   },
   "outputs": [
    {
     "data": {
      "image/png": "[encoded data removed]",
      "text/plain": [
       "<Figure size 864x432 with 1 Axes>"
      ]
     },
     "metadata": {
      "needs_background": "light"
     },
     "output_type": "display_data"
    }
   ],
   "source": [
    "bar_chart('SibSp')"
   ]
  },
  {
   "cell_type": "code",
   "execution_count": 18,
   "id": "8351a9c5",
   "metadata": {
    "execution": {
     "iopub.execute_input": "2023-01-18T11:53:29.476165Z",
     "iopub.status.busy": "2023-01-18T11:53:29.475673Z",
     "iopub.status.idle": "2023-01-18T11:53:29.915652Z",
     "shell.execute_reply": "2023-01-18T11:53:29.914185Z"
    },
    "papermill": {
     "duration": 0.475254,
     "end_time": "2023-01-18T11:53:29.918824",
     "exception": false,
     "start_time": "2023-01-18T11:53:29.443570",
     "status": "completed"
    },
    "tags": []
   },
   "outputs": [
    {
     "data": {
      "text/plain": [
       "<AxesSubplot:xlabel='SibSp', ylabel='Survived'>"
      ]
     },
     "execution_count": 18,
     "metadata": {},
     "output_type": "execute_result"
    },
    {
     "data": {
      "image/png": "[encoded data removed]",
      "text/plain": [
       "<Figure size 432x288 with 1 Axes>"
      ]
     },
     "metadata": {
      "needs_background": "light"
     },
     "output_type": "display_data"
    }
   ],
   "source": [
    "sns.barplot(x=\"SibSp\", y=\"Survived\", data=data)"
   ]
  },
  {
   "cell_type": "markdown",
   "id": "ee6b5d5b",
   "metadata": {
    "papermill": {
     "duration": 0.029995,
     "end_time": "2023-01-18T11:53:29.979653",
     "exception": false,
     "start_time": "2023-01-18T11:53:29.949658",
     "status": "completed"
    },
    "tags": []
   },
   "source": [
    "Person with more Siblings/Spouse less likely to survive **however** Person with 1 or 2 Siblings/Spouse more likely to survive than Person with No siblings/spouse"
   ]
  },
  {
   "cell_type": "code",
   "execution_count": 19,
   "id": "48cb012f",
   "metadata": {
    "execution": {
     "iopub.execute_input": "2023-01-18T11:53:30.043820Z",
     "iopub.status.busy": "2023-01-18T11:53:30.043268Z",
     "iopub.status.idle": "2023-01-18T11:53:30.344561Z",
     "shell.execute_reply": "2023-01-18T11:53:30.343123Z"
    },
    "papermill": {
     "duration": 0.337011,
     "end_time": "2023-01-18T11:53:30.347673",
     "exception": false,
     "start_time": "2023-01-18T11:53:30.010662",
     "status": "completed"
    },
    "tags": []
   },
   "outputs": [
    {
     "data": {
      "image/png": "[encoded data removed]",
      "text/plain": [
       "<Figure size 864x432 with 1 Axes>"
      ]
     },
     "metadata": {
      "needs_background": "light"
     },
     "output_type": "display_data"
    }
   ],
   "source": [
    "bar_chart('Parch')"
   ]
  },
  {
   "cell_type": "code",
   "execution_count": 20,
   "id": "42c9c9dc",
   "metadata": {
    "execution": {
     "iopub.execute_input": "2023-01-18T11:53:30.413585Z",
     "iopub.status.busy": "2023-01-18T11:53:30.413081Z",
     "iopub.status.idle": "2023-01-18T11:53:30.815885Z",
     "shell.execute_reply": "2023-01-18T11:53:30.813911Z"
    },
    "papermill": {
     "duration": 0.440035,
     "end_time": "2023-01-18T11:53:30.819321",
     "exception": false,
     "start_time": "2023-01-18T11:53:30.379286",
     "status": "completed"
    },
    "tags": []
   },
   "outputs": [
    {
     "data": {
      "text/plain": [
       "<AxesSubplot:xlabel='Parch', ylabel='Survived'>"
      ]
     },
     "execution_count": 20,
     "metadata": {},
     "output_type": "execute_result"
    },
    {
     "data": {
      "image/png": "[encoded data removed]",
      "text/plain": [
       "<Figure size 432x288 with 1 Axes>"
      ]
     },
     "metadata": {
      "needs_background": "light"
     },
     "output_type": "display_data"
    }
   ],
   "source": [
    "sns.barplot(x=\"Parch\", y=\"Survived\", data=data)"
   ]
  },
  {
   "cell_type": "markdown",
   "id": "65deae48",
   "metadata": {
    "papermill": {
     "duration": 0.030893,
     "end_time": "2023-01-18T11:53:30.881599",
     "exception": false,
     "start_time": "2023-01-18T11:53:30.850706",
     "status": "completed"
    },
    "tags": []
   },
   "source": [
    "People with 4 or more Parents/Child most likely dead, People with 1,2, or 3 Parent/Child have good chance of survival, People with No parent/child have lesser chance of survival compared to people with 1,2,3 parent/child"
   ]
  },
  {
   "cell_type": "code",
   "execution_count": 21,
   "id": "4db188a3",
   "metadata": {
    "execution": {
     "iopub.execute_input": "2023-01-18T11:53:30.945915Z",
     "iopub.status.busy": "2023-01-18T11:53:30.945385Z",
     "iopub.status.idle": "2023-01-18T11:53:31.202831Z",
     "shell.execute_reply": "2023-01-18T11:53:31.201242Z"
    },
    "papermill": {
     "duration": 0.293855,
     "end_time": "2023-01-18T11:53:31.206263",
     "exception": false,
     "start_time": "2023-01-18T11:53:30.912408",
     "status": "completed"
    },
    "tags": []
   },
   "outputs": [
    {
     "data": {
      "image/png": "[encoded data removed]",
      "text/plain": [
       "<Figure size 864x432 with 1 Axes>"
      ]
     },
     "metadata": {
      "needs_background": "light"
     },
     "output_type": "display_data"
    }
   ],
   "source": [
    "bar_chart('Embarked')"
   ]
  },
  {
   "cell_type": "markdown",
   "id": "f72f886d",
   "metadata": {
    "papermill": {
     "duration": 0.0319,
     "end_time": "2023-01-18T11:53:31.269887",
     "exception": false,
     "start_time": "2023-01-18T11:53:31.237987",
     "status": "completed"
    },
    "tags": []
   },
   "source": [
    "Dont know why this should be useful but plotted anyways"
   ]
  },
  {
   "cell_type": "markdown",
   "id": "dc9118f3",
   "metadata": {
    "papermill": {
     "duration": 0.031366,
     "end_time": "2023-01-18T11:53:31.332744",
     "exception": false,
     "start_time": "2023-01-18T11:53:31.301378",
     "status": "completed"
    },
    "tags": []
   },
   "source": [
    "# Feature Engineering"
   ]
  },
  {
   "cell_type": "code",
   "execution_count": 22,
   "id": "d2ff86dc",
   "metadata": {
    "execution": {
     "iopub.execute_input": "2023-01-18T11:53:31.399514Z",
     "iopub.status.busy": "2023-01-18T11:53:31.398707Z",
     "iopub.status.idle": "2023-01-18T11:53:31.417051Z",
     "shell.execute_reply": "2023-01-18T11:53:31.416060Z"
    },
    "papermill": {
     "duration": 0.05438,
     "end_time": "2023-01-18T11:53:31.419561",
     "exception": false,
     "start_time": "2023-01-18T11:53:31.365181",
     "status": "completed"
    },
    "tags": []
   },
   "outputs": [
    {
     "data": {
      "text/html": [
       "<div>\n",
       "<style scoped>\n",
       "    .dataframe tbody tr th:only-of-type {\n",
       "        vertical-align: middle;\n",
       "    }\n",
       "\n",
       "    .dataframe tbody tr th {\n",
       "        vertical-align: top;\n",
       "    }\n",
       "\n",
       "    .dataframe thead th {\n",
       "        text-align: right;\n",
       "    }\n",
       "</style>\n",
       "<table border=\"1\" class=\"dataframe\">\n",
       "  <thead>\n",
       "    <tr style=\"text-align: right;\">\n",
       "      <th></th>\n",
       "      <th>PassengerId</th>\n",
       "      <th>Survived</th>\n",
       "      <th>Pclass</th>\n",
       "      <th>Name</th>\n",
       "      <th>Sex</th>\n",
       "      <th>Age</th>\n",
       "      <th>SibSp</th>\n",
       "      <th>Parch</th>\n",
       "      <th>Ticket</th>\n",
       "      <th>Fare</th>\n",
       "      <th>Cabin</th>\n",
       "      <th>Embarked</th>\n",
       "    </tr>\n",
       "  </thead>\n",
       "  <tbody>\n",
       "    <tr>\n",
       "      <th>0</th>\n",
       "      <td>1</td>\n",
       "      <td>0</td>\n",
       "      <td>3</td>\n",
       "      <td>Braund, Mr. Owen Harris</td>\n",
       "      <td>male</td>\n",
       "      <td>22.0</td>\n",
       "      <td>1</td>\n",
       "      <td>0</td>\n",
       "      <td>A/5 21171</td>\n",
       "      <td>7.2500</td>\n",
       "      <td>NaN</td>\n",
       "      <td>S</td>\n",
       "    </tr>\n",
       "    <tr>\n",
       "      <th>1</th>\n",
       "      <td>2</td>\n",
       "      <td>1</td>\n",
       "      <td>1</td>\n",
       "      <td>Cumings, Mrs. John Bradley (Florence Briggs Th...</td>\n",
       "      <td>female</td>\n",
       "      <td>38.0</td>\n",
       "      <td>1</td>\n",
       "      <td>0</td>\n",
       "      <td>PC 17599</td>\n",
       "      <td>71.2833</td>\n",
       "      <td>C85</td>\n",
       "      <td>C</td>\n",
       "    </tr>\n",
       "    <tr>\n",
       "      <th>2</th>\n",
       "      <td>3</td>\n",
       "      <td>1</td>\n",
       "      <td>3</td>\n",
       "      <td>Heikkinen, Miss. Laina</td>\n",
       "      <td>female</td>\n",
       "      <td>26.0</td>\n",
       "      <td>0</td>\n",
       "      <td>0</td>\n",
       "      <td>STON/O2. 3101282</td>\n",
       "      <td>7.9250</td>\n",
       "      <td>NaN</td>\n",
       "      <td>S</td>\n",
       "    </tr>\n",
       "    <tr>\n",
       "      <th>3</th>\n",
       "      <td>4</td>\n",
       "      <td>1</td>\n",
       "      <td>1</td>\n",
       "      <td>Futrelle, Mrs. Jacques Heath (Lily May Peel)</td>\n",
       "      <td>female</td>\n",
       "      <td>35.0</td>\n",
       "      <td>1</td>\n",
       "      <td>0</td>\n",
       "      <td>113803</td>\n",
       "      <td>53.1000</td>\n",
       "      <td>C123</td>\n",
       "      <td>S</td>\n",
       "    </tr>\n",
       "    <tr>\n",
       "      <th>4</th>\n",
       "      <td>5</td>\n",
       "      <td>0</td>\n",
       "      <td>3</td>\n",
       "      <td>Allen, Mr. William Henry</td>\n",
       "      <td>male</td>\n",
       "      <td>35.0</td>\n",
       "      <td>0</td>\n",
       "      <td>0</td>\n",
       "      <td>373450</td>\n",
       "      <td>8.0500</td>\n",
       "      <td>NaN</td>\n",
       "      <td>S</td>\n",
       "    </tr>\n",
       "  </tbody>\n",
       "</table>\n",
       "</div>"
      ],
      "text/plain": [
       "   PassengerId  Survived  Pclass  \\\n",
       "0            1         0       3   \n",
       "1            2         1       1   \n",
       "2            3         1       3   \n",
       "3            4         1       1   \n",
       "4            5         0       3   \n",
       "\n",
       "                                                Name     Sex   Age  SibSp  \\\n",
       "0                            Braund, Mr. Owen Harris    male  22.0      1   \n",
       "1  Cumings, Mrs. John Bradley (Florence Briggs Th...  female  38.0      1   \n",
       "2                             Heikkinen, Miss. Laina  female  26.0      0   \n",
       "3       Futrelle, Mrs. Jacques Heath (Lily May Peel)  female  35.0      1   \n",
       "4                           Allen, Mr. William Henry    male  35.0      0   \n",
       "\n",
       "   Parch            Ticket     Fare Cabin Embarked  \n",
       "0      0         A/5 21171   7.2500   NaN        S  \n",
       "1      0          PC 17599  71.2833   C85        C  \n",
       "2      0  STON/O2. 3101282   7.9250   NaN        S  \n",
       "3      0            113803  53.1000  C123        S  \n",
       "4      0            373450   8.0500   NaN        S  "
      ]
     },
     "execution_count": 22,
     "metadata": {},
     "output_type": "execute_result"
    }
   ],
   "source": [
    "data.head()"
   ]
  },
  {
   "cell_type": "markdown",
   "id": "e62c6968",
   "metadata": {
    "papermill": {
     "duration": 0.03124,
     "end_time": "2023-01-18T11:53:31.483748",
     "exception": false,
     "start_time": "2023-01-18T11:53:31.452508",
     "status": "completed"
    },
    "tags": []
   },
   "source": [
    "### Name\n",
    "doesnt look very useful but it contains title information which can be used to seperate married/unmarried, dr. or not"
   ]
  },
  {
   "cell_type": "code",
   "execution_count": 23,
   "id": "4b9b736d",
   "metadata": {
    "execution": {
     "iopub.execute_input": "2023-01-18T11:53:31.550703Z",
     "iopub.status.busy": "2023-01-18T11:53:31.550082Z",
     "iopub.status.idle": "2023-01-18T11:53:31.569099Z",
     "shell.execute_reply": "2023-01-18T11:53:31.567592Z"
    },
    "papermill": {
     "duration": 0.056754,
     "end_time": "2023-01-18T11:53:31.572407",
     "exception": false,
     "start_time": "2023-01-18T11:53:31.515653",
     "status": "completed"
    },
    "tags": []
   },
   "outputs": [
    {
     "data": {
      "text/plain": [
       "0        Mr\n",
       "1       Mrs\n",
       "2      Miss\n",
       "3       Mrs\n",
       "4        Mr\n",
       "       ... \n",
       "886     Rev\n",
       "887    Miss\n",
       "888    Miss\n",
       "889      Mr\n",
       "890      Mr\n",
       "Name: title, Length: 891, dtype: object"
      ]
     },
     "execution_count": 23,
     "metadata": {},
     "output_type": "execute_result"
    }
   ],
   "source": [
    "data['title']=data['Name'].str.extract('([A-Za-z]+)\\.')\n",
    "test['title']=test['Name'].str.extract('([A-Za-z]+)\\.')\n",
    "data['title']"
   ]
  },
  {
   "cell_type": "code",
   "execution_count": 24,
   "id": "25c7f599",
   "metadata": {
    "execution": {
     "iopub.execute_input": "2023-01-18T11:53:31.641499Z",
     "iopub.status.busy": "2023-01-18T11:53:31.640891Z",
     "iopub.status.idle": "2023-01-18T11:53:31.652619Z",
     "shell.execute_reply": "2023-01-18T11:53:31.651109Z"
    },
    "papermill": {
     "duration": 0.049968,
     "end_time": "2023-01-18T11:53:31.655051",
     "exception": false,
     "start_time": "2023-01-18T11:53:31.605083",
     "status": "completed"
    },
    "tags": []
   },
   "outputs": [
    {
     "data": {
      "text/plain": [
       "Mr          517\n",
       "Miss        182\n",
       "Mrs         125\n",
       "Master       40\n",
       "Dr            7\n",
       "Rev           6\n",
       "Mlle          2\n",
       "Major         2\n",
       "Col           2\n",
       "Countess      1\n",
       "Capt          1\n",
       "Ms            1\n",
       "Sir           1\n",
       "Lady          1\n",
       "Mme           1\n",
       "Don           1\n",
       "Jonkheer      1\n",
       "Name: title, dtype: int64"
      ]
     },
     "execution_count": 24,
     "metadata": {},
     "output_type": "execute_result"
    }
   ],
   "source": [
    "data['title'].value_counts()"
   ]
  },
  {
   "cell_type": "markdown",
   "id": "2ba8c97b",
   "metadata": {
    "papermill": {
     "duration": 0.031182,
     "end_time": "2023-01-18T11:53:31.718072",
     "exception": false,
     "start_time": "2023-01-18T11:53:31.686890",
     "status": "completed"
    },
    "tags": []
   },
   "source": [
    "since ML algo requires numerical values and not objects we will map this info we get from title to something numerical"
   ]
  },
  {
   "cell_type": "code",
   "execution_count": 25,
   "id": "d37716f4",
   "metadata": {
    "execution": {
     "iopub.execute_input": "2023-01-18T11:53:31.784869Z",
     "iopub.status.busy": "2023-01-18T11:53:31.784136Z",
     "iopub.status.idle": "2023-01-18T11:53:31.796076Z",
     "shell.execute_reply": "2023-01-18T11:53:31.794723Z"
    },
    "papermill": {
     "duration": 0.04836,
     "end_time": "2023-01-18T11:53:31.798717",
     "exception": false,
     "start_time": "2023-01-18T11:53:31.750357",
     "status": "completed"
    },
    "tags": []
   },
   "outputs": [],
   "source": [
    "data['title']=data['title'].map({'Mr':0,'Miss':1,'Mrs':2,'Master':3,'Dr':4,'Rev':4,'Mlle':4,'Major':4,'Col':4,'Countess':4,'Capt':4,'Sir':4,'Lady':4,'Mme':4,'Don':4,'Jankheer':4,'Ms':4})\n",
    "test['title']=test['title'].map({'Mr':0,'Miss':1,'Mrs':2,'Master':3,'Dr':4,'Rev':4,'Mlle':4,'Major':4,'Col':4,'Countess':4,'Capt':4,'Sir':4,'Lady':4,'Mme':4,'Don':4,'Jankheer':4,'Ms':4})"
   ]
  },
  {
   "cell_type": "code",
   "execution_count": 26,
   "id": "1e3b0d57",
   "metadata": {
    "execution": {
     "iopub.execute_input": "2023-01-18T11:53:31.865102Z",
     "iopub.status.busy": "2023-01-18T11:53:31.864593Z",
     "iopub.status.idle": "2023-01-18T11:53:31.876036Z",
     "shell.execute_reply": "2023-01-18T11:53:31.874732Z"
    },
    "papermill": {
     "duration": 0.047983,
     "end_time": "2023-01-18T11:53:31.878915",
     "exception": false,
     "start_time": "2023-01-18T11:53:31.830932",
     "status": "completed"
    },
    "tags": []
   },
   "outputs": [
    {
     "data": {
      "text/plain": [
       "0      0.0\n",
       "1      2.0\n",
       "2      1.0\n",
       "3      2.0\n",
       "4      0.0\n",
       "      ... \n",
       "886    4.0\n",
       "887    1.0\n",
       "888    1.0\n",
       "889    0.0\n",
       "890    0.0\n",
       "Name: title, Length: 891, dtype: float64"
      ]
     },
     "execution_count": 26,
     "metadata": {},
     "output_type": "execute_result"
    }
   ],
   "source": [
    "data['title']"
   ]
  },
  {
   "cell_type": "code",
   "execution_count": 27,
   "id": "35b02a27",
   "metadata": {
    "execution": {
     "iopub.execute_input": "2023-01-18T11:53:31.945749Z",
     "iopub.status.busy": "2023-01-18T11:53:31.944693Z",
     "iopub.status.idle": "2023-01-18T11:53:32.237625Z",
     "shell.execute_reply": "2023-01-18T11:53:32.236313Z"
    },
    "papermill": {
     "duration": 0.329444,
     "end_time": "2023-01-18T11:53:32.240563",
     "exception": false,
     "start_time": "2023-01-18T11:53:31.911119",
     "status": "completed"
    },
    "tags": []
   },
   "outputs": [
    {
     "data": {
      "image/png": "[encoded data removed]",
      "text/plain": [
       "<Figure size 864x432 with 1 Axes>"
      ]
     },
     "metadata": {
      "needs_background": "light"
     },
     "output_type": "display_data"
    }
   ],
   "source": [
    "bar_chart('title')"
   ]
  },
  {
   "cell_type": "code",
   "execution_count": 28,
   "id": "eaf20ae7",
   "metadata": {
    "execution": {
     "iopub.execute_input": "2023-01-18T11:53:32.307422Z",
     "iopub.status.busy": "2023-01-18T11:53:32.306901Z",
     "iopub.status.idle": "2023-01-18T11:53:32.330030Z",
     "shell.execute_reply": "2023-01-18T11:53:32.328764Z"
    },
    "papermill": {
     "duration": 0.059765,
     "end_time": "2023-01-18T11:53:32.332572",
     "exception": false,
     "start_time": "2023-01-18T11:53:32.272807",
     "status": "completed"
    },
    "tags": []
   },
   "outputs": [
    {
     "data": {
      "text/html": [
       "<div>\n",
       "<style scoped>\n",
       "    .dataframe tbody tr th:only-of-type {\n",
       "        vertical-align: middle;\n",
       "    }\n",
       "\n",
       "    .dataframe tbody tr th {\n",
       "        vertical-align: top;\n",
       "    }\n",
       "\n",
       "    .dataframe thead th {\n",
       "        text-align: right;\n",
       "    }\n",
       "</style>\n",
       "<table border=\"1\" class=\"dataframe\">\n",
       "  <thead>\n",
       "    <tr style=\"text-align: right;\">\n",
       "      <th></th>\n",
       "      <th>title</th>\n",
       "      <th>Survived</th>\n",
       "    </tr>\n",
       "  </thead>\n",
       "  <tbody>\n",
       "    <tr>\n",
       "      <th>0</th>\n",
       "      <td>0.0</td>\n",
       "      <td>0.156673</td>\n",
       "    </tr>\n",
       "    <tr>\n",
       "      <th>1</th>\n",
       "      <td>1.0</td>\n",
       "      <td>0.697802</td>\n",
       "    </tr>\n",
       "    <tr>\n",
       "      <th>2</th>\n",
       "      <td>2.0</td>\n",
       "      <td>0.792000</td>\n",
       "    </tr>\n",
       "    <tr>\n",
       "      <th>3</th>\n",
       "      <td>3.0</td>\n",
       "      <td>0.575000</td>\n",
       "    </tr>\n",
       "    <tr>\n",
       "      <th>4</th>\n",
       "      <td>4.0</td>\n",
       "      <td>0.461538</td>\n",
       "    </tr>\n",
       "  </tbody>\n",
       "</table>\n",
       "</div>"
      ],
      "text/plain": [
       "   title  Survived\n",
       "0    0.0  0.156673\n",
       "1    1.0  0.697802\n",
       "2    2.0  0.792000\n",
       "3    3.0  0.575000\n",
       "4    4.0  0.461538"
      ]
     },
     "execution_count": 28,
     "metadata": {},
     "output_type": "execute_result"
    }
   ],
   "source": [
    "data[['title', 'Survived']].groupby(['title'], as_index=False).mean()"
   ]
  },
  {
   "cell_type": "markdown",
   "id": "f71ed2fe",
   "metadata": {
    "papermill": {
     "duration": 0.032206,
     "end_time": "2023-01-18T11:53:32.397334",
     "exception": false,
     "start_time": "2023-01-18T11:53:32.365128",
     "status": "completed"
    },
    "tags": []
   },
   "source": [
    "A Master has much more chance of survival than a Mr. in the same way unmarried women survived more than married ones. In general females survived more than males."
   ]
  },
  {
   "cell_type": "code",
   "execution_count": 29,
   "id": "a003ca08",
   "metadata": {
    "execution": {
     "iopub.execute_input": "2023-01-18T11:53:32.465048Z",
     "iopub.status.busy": "2023-01-18T11:53:32.464513Z",
     "iopub.status.idle": "2023-01-18T11:53:32.474499Z",
     "shell.execute_reply": "2023-01-18T11:53:32.472480Z"
    },
    "papermill": {
     "duration": 0.047583,
     "end_time": "2023-01-18T11:53:32.477314",
     "exception": false,
     "start_time": "2023-01-18T11:53:32.429731",
     "status": "completed"
    },
    "tags": []
   },
   "outputs": [],
   "source": [
    "data.drop('Name',axis=1,inplace=True)\n",
    "test.drop('Name',axis=1,inplace=True)"
   ]
  },
  {
   "cell_type": "code",
   "execution_count": 30,
   "id": "589587c4",
   "metadata": {
    "execution": {
     "iopub.execute_input": "2023-01-18T11:53:32.545489Z",
     "iopub.status.busy": "2023-01-18T11:53:32.544885Z",
     "iopub.status.idle": "2023-01-18T11:53:32.567434Z",
     "shell.execute_reply": "2023-01-18T11:53:32.565954Z"
    },
    "papermill": {
     "duration": 0.060433,
     "end_time": "2023-01-18T11:53:32.570386",
     "exception": false,
     "start_time": "2023-01-18T11:53:32.509953",
     "status": "completed"
    },
    "tags": []
   },
   "outputs": [
    {
     "data": {
      "text/html": [
       "<div>\n",
       "<style scoped>\n",
       "    .dataframe tbody tr th:only-of-type {\n",
       "        vertical-align: middle;\n",
       "    }\n",
       "\n",
       "    .dataframe tbody tr th {\n",
       "        vertical-align: top;\n",
       "    }\n",
       "\n",
       "    .dataframe thead th {\n",
       "        text-align: right;\n",
       "    }\n",
       "</style>\n",
       "<table border=\"1\" class=\"dataframe\">\n",
       "  <thead>\n",
       "    <tr style=\"text-align: right;\">\n",
       "      <th></th>\n",
       "      <th>PassengerId</th>\n",
       "      <th>Survived</th>\n",
       "      <th>Pclass</th>\n",
       "      <th>Sex</th>\n",
       "      <th>Age</th>\n",
       "      <th>SibSp</th>\n",
       "      <th>Parch</th>\n",
       "      <th>Ticket</th>\n",
       "      <th>Fare</th>\n",
       "      <th>Cabin</th>\n",
       "      <th>Embarked</th>\n",
       "      <th>title</th>\n",
       "    </tr>\n",
       "  </thead>\n",
       "  <tbody>\n",
       "    <tr>\n",
       "      <th>0</th>\n",
       "      <td>1</td>\n",
       "      <td>0</td>\n",
       "      <td>3</td>\n",
       "      <td>male</td>\n",
       "      <td>22.0</td>\n",
       "      <td>1</td>\n",
       "      <td>0</td>\n",
       "      <td>A/5 21171</td>\n",
       "      <td>7.2500</td>\n",
       "      <td>NaN</td>\n",
       "      <td>S</td>\n",
       "      <td>0.0</td>\n",
       "    </tr>\n",
       "    <tr>\n",
       "      <th>1</th>\n",
       "      <td>2</td>\n",
       "      <td>1</td>\n",
       "      <td>1</td>\n",
       "      <td>female</td>\n",
       "      <td>38.0</td>\n",
       "      <td>1</td>\n",
       "      <td>0</td>\n",
       "      <td>PC 17599</td>\n",
       "      <td>71.2833</td>\n",
       "      <td>C85</td>\n",
       "      <td>C</td>\n",
       "      <td>2.0</td>\n",
       "    </tr>\n",
       "    <tr>\n",
       "      <th>2</th>\n",
       "      <td>3</td>\n",
       "      <td>1</td>\n",
       "      <td>3</td>\n",
       "      <td>female</td>\n",
       "      <td>26.0</td>\n",
       "      <td>0</td>\n",
       "      <td>0</td>\n",
       "      <td>STON/O2. 3101282</td>\n",
       "      <td>7.9250</td>\n",
       "      <td>NaN</td>\n",
       "      <td>S</td>\n",
       "      <td>1.0</td>\n",
       "    </tr>\n",
       "    <tr>\n",
       "      <th>3</th>\n",
       "      <td>4</td>\n",
       "      <td>1</td>\n",
       "      <td>1</td>\n",
       "      <td>female</td>\n",
       "      <td>35.0</td>\n",
       "      <td>1</td>\n",
       "      <td>0</td>\n",
       "      <td>113803</td>\n",
       "      <td>53.1000</td>\n",
       "      <td>C123</td>\n",
       "      <td>S</td>\n",
       "      <td>2.0</td>\n",
       "    </tr>\n",
       "    <tr>\n",
       "      <th>4</th>\n",
       "      <td>5</td>\n",
       "      <td>0</td>\n",
       "      <td>3</td>\n",
       "      <td>male</td>\n",
       "      <td>35.0</td>\n",
       "      <td>0</td>\n",
       "      <td>0</td>\n",
       "      <td>373450</td>\n",
       "      <td>8.0500</td>\n",
       "      <td>NaN</td>\n",
       "      <td>S</td>\n",
       "      <td>0.0</td>\n",
       "    </tr>\n",
       "  </tbody>\n",
       "</table>\n",
       "</div>"
      ],
      "text/plain": [
       "   PassengerId  Survived  Pclass     Sex   Age  SibSp  Parch  \\\n",
       "0            1         0       3    male  22.0      1      0   \n",
       "1            2         1       1  female  38.0      1      0   \n",
       "2            3         1       3  female  26.0      0      0   \n",
       "3            4         1       1  female  35.0      1      0   \n",
       "4            5         0       3    male  35.0      0      0   \n",
       "\n",
       "             Ticket     Fare Cabin Embarked  title  \n",
       "0         A/5 21171   7.2500   NaN        S    0.0  \n",
       "1          PC 17599  71.2833   C85        C    2.0  \n",
       "2  STON/O2. 3101282   7.9250   NaN        S    1.0  \n",
       "3            113803  53.1000  C123        S    2.0  \n",
       "4            373450   8.0500   NaN        S    0.0  "
      ]
     },
     "execution_count": 30,
     "metadata": {},
     "output_type": "execute_result"
    }
   ],
   "source": [
    "data.head()"
   ]
  },
  {
   "cell_type": "markdown",
   "id": "91cfd088",
   "metadata": {
    "papermill": {
     "duration": 0.032363,
     "end_time": "2023-01-18T11:53:32.636400",
     "exception": false,
     "start_time": "2023-01-18T11:53:32.604037",
     "status": "completed"
    },
    "tags": []
   },
   "source": [
    "### Age \n",
    "had some missing values and can be used more efficiently with different age groups as feature"
   ]
  },
  {
   "cell_type": "code",
   "execution_count": 31,
   "id": "2ea38f33",
   "metadata": {
    "execution": {
     "iopub.execute_input": "2023-01-18T11:53:32.705343Z",
     "iopub.status.busy": "2023-01-18T11:53:32.704789Z",
     "iopub.status.idle": "2023-01-18T11:53:32.736362Z",
     "shell.execute_reply": "2023-01-18T11:53:32.734691Z"
    },
    "papermill": {
     "duration": 0.069774,
     "end_time": "2023-01-18T11:53:32.739196",
     "exception": false,
     "start_time": "2023-01-18T11:53:32.669422",
     "status": "completed"
    },
    "tags": []
   },
   "outputs": [
    {
     "data": {
      "text/html": [
       "<div>\n",
       "<style scoped>\n",
       "    .dataframe tbody tr th:only-of-type {\n",
       "        vertical-align: middle;\n",
       "    }\n",
       "\n",
       "    .dataframe tbody tr th {\n",
       "        vertical-align: top;\n",
       "    }\n",
       "\n",
       "    .dataframe thead th {\n",
       "        text-align: right;\n",
       "    }\n",
       "</style>\n",
       "<table border=\"1\" class=\"dataframe\">\n",
       "  <thead>\n",
       "    <tr style=\"text-align: right;\">\n",
       "      <th></th>\n",
       "      <th>PassengerId</th>\n",
       "      <th>Survived</th>\n",
       "      <th>Pclass</th>\n",
       "      <th>Sex</th>\n",
       "      <th>Age</th>\n",
       "      <th>SibSp</th>\n",
       "      <th>Parch</th>\n",
       "      <th>Ticket</th>\n",
       "      <th>Fare</th>\n",
       "      <th>Cabin</th>\n",
       "      <th>Embarked</th>\n",
       "      <th>title</th>\n",
       "    </tr>\n",
       "  </thead>\n",
       "  <tbody>\n",
       "    <tr>\n",
       "      <th>5</th>\n",
       "      <td>6</td>\n",
       "      <td>0</td>\n",
       "      <td>3</td>\n",
       "      <td>male</td>\n",
       "      <td>NaN</td>\n",
       "      <td>0</td>\n",
       "      <td>0</td>\n",
       "      <td>330877</td>\n",
       "      <td>8.4583</td>\n",
       "      <td>NaN</td>\n",
       "      <td>Q</td>\n",
       "      <td>0.0</td>\n",
       "    </tr>\n",
       "    <tr>\n",
       "      <th>17</th>\n",
       "      <td>18</td>\n",
       "      <td>1</td>\n",
       "      <td>2</td>\n",
       "      <td>male</td>\n",
       "      <td>NaN</td>\n",
       "      <td>0</td>\n",
       "      <td>0</td>\n",
       "      <td>244373</td>\n",
       "      <td>13.0000</td>\n",
       "      <td>NaN</td>\n",
       "      <td>S</td>\n",
       "      <td>0.0</td>\n",
       "    </tr>\n",
       "    <tr>\n",
       "      <th>19</th>\n",
       "      <td>20</td>\n",
       "      <td>1</td>\n",
       "      <td>3</td>\n",
       "      <td>female</td>\n",
       "      <td>NaN</td>\n",
       "      <td>0</td>\n",
       "      <td>0</td>\n",
       "      <td>2649</td>\n",
       "      <td>7.2250</td>\n",
       "      <td>NaN</td>\n",
       "      <td>C</td>\n",
       "      <td>2.0</td>\n",
       "    </tr>\n",
       "    <tr>\n",
       "      <th>26</th>\n",
       "      <td>27</td>\n",
       "      <td>0</td>\n",
       "      <td>3</td>\n",
       "      <td>male</td>\n",
       "      <td>NaN</td>\n",
       "      <td>0</td>\n",
       "      <td>0</td>\n",
       "      <td>2631</td>\n",
       "      <td>7.2250</td>\n",
       "      <td>NaN</td>\n",
       "      <td>C</td>\n",
       "      <td>0.0</td>\n",
       "    </tr>\n",
       "    <tr>\n",
       "      <th>28</th>\n",
       "      <td>29</td>\n",
       "      <td>1</td>\n",
       "      <td>3</td>\n",
       "      <td>female</td>\n",
       "      <td>NaN</td>\n",
       "      <td>0</td>\n",
       "      <td>0</td>\n",
       "      <td>330959</td>\n",
       "      <td>7.8792</td>\n",
       "      <td>NaN</td>\n",
       "      <td>Q</td>\n",
       "      <td>1.0</td>\n",
       "    </tr>\n",
       "    <tr>\n",
       "      <th>...</th>\n",
       "      <td>...</td>\n",
       "      <td>...</td>\n",
       "      <td>...</td>\n",
       "      <td>...</td>\n",
       "      <td>...</td>\n",
       "      <td>...</td>\n",
       "      <td>...</td>\n",
       "      <td>...</td>\n",
       "      <td>...</td>\n",
       "      <td>...</td>\n",
       "      <td>...</td>\n",
       "      <td>...</td>\n",
       "    </tr>\n",
       "    <tr>\n",
       "      <th>859</th>\n",
       "      <td>860</td>\n",
       "      <td>0</td>\n",
       "      <td>3</td>\n",
       "      <td>male</td>\n",
       "      <td>NaN</td>\n",
       "      <td>0</td>\n",
       "      <td>0</td>\n",
       "      <td>2629</td>\n",
       "      <td>7.2292</td>\n",
       "      <td>NaN</td>\n",
       "      <td>C</td>\n",
       "      <td>0.0</td>\n",
       "    </tr>\n",
       "    <tr>\n",
       "      <th>863</th>\n",
       "      <td>864</td>\n",
       "      <td>0</td>\n",
       "      <td>3</td>\n",
       "      <td>female</td>\n",
       "      <td>NaN</td>\n",
       "      <td>8</td>\n",
       "      <td>2</td>\n",
       "      <td>CA. 2343</td>\n",
       "      <td>69.5500</td>\n",
       "      <td>NaN</td>\n",
       "      <td>S</td>\n",
       "      <td>1.0</td>\n",
       "    </tr>\n",
       "    <tr>\n",
       "      <th>868</th>\n",
       "      <td>869</td>\n",
       "      <td>0</td>\n",
       "      <td>3</td>\n",
       "      <td>male</td>\n",
       "      <td>NaN</td>\n",
       "      <td>0</td>\n",
       "      <td>0</td>\n",
       "      <td>345777</td>\n",
       "      <td>9.5000</td>\n",
       "      <td>NaN</td>\n",
       "      <td>S</td>\n",
       "      <td>0.0</td>\n",
       "    </tr>\n",
       "    <tr>\n",
       "      <th>878</th>\n",
       "      <td>879</td>\n",
       "      <td>0</td>\n",
       "      <td>3</td>\n",
       "      <td>male</td>\n",
       "      <td>NaN</td>\n",
       "      <td>0</td>\n",
       "      <td>0</td>\n",
       "      <td>349217</td>\n",
       "      <td>7.8958</td>\n",
       "      <td>NaN</td>\n",
       "      <td>S</td>\n",
       "      <td>0.0</td>\n",
       "    </tr>\n",
       "    <tr>\n",
       "      <th>888</th>\n",
       "      <td>889</td>\n",
       "      <td>0</td>\n",
       "      <td>3</td>\n",
       "      <td>female</td>\n",
       "      <td>NaN</td>\n",
       "      <td>1</td>\n",
       "      <td>2</td>\n",
       "      <td>W./C. 6607</td>\n",
       "      <td>23.4500</td>\n",
       "      <td>NaN</td>\n",
       "      <td>S</td>\n",
       "      <td>1.0</td>\n",
       "    </tr>\n",
       "  </tbody>\n",
       "</table>\n",
       "<p>177 rows × 12 columns</p>\n",
       "</div>"
      ],
      "text/plain": [
       "     PassengerId  Survived  Pclass     Sex  Age  SibSp  Parch      Ticket  \\\n",
       "5              6         0       3    male  NaN      0      0      330877   \n",
       "17            18         1       2    male  NaN      0      0      244373   \n",
       "19            20         1       3  female  NaN      0      0        2649   \n",
       "26            27         0       3    male  NaN      0      0        2631   \n",
       "28            29         1       3  female  NaN      0      0      330959   \n",
       "..           ...       ...     ...     ...  ...    ...    ...         ...   \n",
       "859          860         0       3    male  NaN      0      0        2629   \n",
       "863          864         0       3  female  NaN      8      2    CA. 2343   \n",
       "868          869         0       3    male  NaN      0      0      345777   \n",
       "878          879         0       3    male  NaN      0      0      349217   \n",
       "888          889         0       3  female  NaN      1      2  W./C. 6607   \n",
       "\n",
       "        Fare Cabin Embarked  title  \n",
       "5     8.4583   NaN        Q    0.0  \n",
       "17   13.0000   NaN        S    0.0  \n",
       "19    7.2250   NaN        C    2.0  \n",
       "26    7.2250   NaN        C    0.0  \n",
       "28    7.8792   NaN        Q    1.0  \n",
       "..       ...   ...      ...    ...  \n",
       "859   7.2292   NaN        C    0.0  \n",
       "863  69.5500   NaN        S    1.0  \n",
       "868   9.5000   NaN        S    0.0  \n",
       "878   7.8958   NaN        S    0.0  \n",
       "888  23.4500   NaN        S    1.0  \n",
       "\n",
       "[177 rows x 12 columns]"
      ]
     },
     "execution_count": 31,
     "metadata": {},
     "output_type": "execute_result"
    }
   ],
   "source": [
    "null_age = data[data['Age'].isnull()]\n",
    "null_age"
   ]
  },
  {
   "cell_type": "markdown",
   "id": "0d59c34e",
   "metadata": {
    "papermill": {
     "duration": 0.033036,
     "end_time": "2023-01-18T11:53:32.806785",
     "exception": false,
     "start_time": "2023-01-18T11:53:32.773749",
     "status": "completed"
    },
    "tags": []
   },
   "source": [
    "missing values best filled with mean/median/mode and we can improve the process a bit more by using average of Mr. for Mr. ages and so on "
   ]
  },
  {
   "cell_type": "code",
   "execution_count": 32,
   "id": "26103e4d",
   "metadata": {
    "execution": {
     "iopub.execute_input": "2023-01-18T11:53:32.875603Z",
     "iopub.status.busy": "2023-01-18T11:53:32.875041Z",
     "iopub.status.idle": "2023-01-18T11:53:32.886520Z",
     "shell.execute_reply": "2023-01-18T11:53:32.885268Z"
    },
    "papermill": {
     "duration": 0.049006,
     "end_time": "2023-01-18T11:53:32.889028",
     "exception": false,
     "start_time": "2023-01-18T11:53:32.840022",
     "status": "completed"
    },
    "tags": []
   },
   "outputs": [
    {
     "data": {
      "text/plain": [
       "30.0"
      ]
     },
     "execution_count": 32,
     "metadata": {},
     "output_type": "execute_result"
    }
   ],
   "source": [
    "mr_age=data[data['title']==0]['Age'].median()\n",
    "mr_age"
   ]
  },
  {
   "cell_type": "code",
   "execution_count": 33,
   "id": "348d2075",
   "metadata": {
    "execution": {
     "iopub.execute_input": "2023-01-18T11:53:32.957852Z",
     "iopub.status.busy": "2023-01-18T11:53:32.957259Z",
     "iopub.status.idle": "2023-01-18T11:53:32.967708Z",
     "shell.execute_reply": "2023-01-18T11:53:32.966491Z"
    },
    "papermill": {
     "duration": 0.047946,
     "end_time": "2023-01-18T11:53:32.970313",
     "exception": false,
     "start_time": "2023-01-18T11:53:32.922367",
     "status": "completed"
    },
    "tags": []
   },
   "outputs": [
    {
     "data": {
      "text/plain": [
       "21.0"
      ]
     },
     "execution_count": 33,
     "metadata": {},
     "output_type": "execute_result"
    }
   ],
   "source": [
    "miss_age=data[data['title']==1]['Age'].median()\n",
    "miss_age"
   ]
  },
  {
   "cell_type": "code",
   "execution_count": 34,
   "id": "9eb3e731",
   "metadata": {
    "execution": {
     "iopub.execute_input": "2023-01-18T11:53:33.040228Z",
     "iopub.status.busy": "2023-01-18T11:53:33.039668Z",
     "iopub.status.idle": "2023-01-18T11:53:33.050335Z",
     "shell.execute_reply": "2023-01-18T11:53:33.048891Z"
    },
    "papermill": {
     "duration": 0.0489,
     "end_time": "2023-01-18T11:53:33.053069",
     "exception": false,
     "start_time": "2023-01-18T11:53:33.004169",
     "status": "completed"
    },
    "tags": []
   },
   "outputs": [
    {
     "data": {
      "text/plain": [
       "35.0"
      ]
     },
     "execution_count": 34,
     "metadata": {},
     "output_type": "execute_result"
    }
   ],
   "source": [
    "mrs_age=data[data['title']==2]['Age'].median()\n",
    "mrs_age"
   ]
  },
  {
   "cell_type": "code",
   "execution_count": 35,
   "id": "55f5ad40",
   "metadata": {
    "execution": {
     "iopub.execute_input": "2023-01-18T11:53:33.123084Z",
     "iopub.status.busy": "2023-01-18T11:53:33.121947Z",
     "iopub.status.idle": "2023-01-18T11:53:33.132702Z",
     "shell.execute_reply": "2023-01-18T11:53:33.131506Z"
    },
    "papermill": {
     "duration": 0.048532,
     "end_time": "2023-01-18T11:53:33.135227",
     "exception": false,
     "start_time": "2023-01-18T11:53:33.086695",
     "status": "completed"
    },
    "tags": []
   },
   "outputs": [
    {
     "data": {
      "text/plain": [
       "3.5"
      ]
     },
     "execution_count": 35,
     "metadata": {},
     "output_type": "execute_result"
    }
   ],
   "source": [
    "master_age=data[data['title']==3]['Age'].median()\n",
    "master_age"
   ]
  },
  {
   "cell_type": "code",
   "execution_count": 36,
   "id": "9402c058",
   "metadata": {
    "execution": {
     "iopub.execute_input": "2023-01-18T11:53:33.206593Z",
     "iopub.status.busy": "2023-01-18T11:53:33.205819Z",
     "iopub.status.idle": "2023-01-18T11:53:33.217643Z",
     "shell.execute_reply": "2023-01-18T11:53:33.216360Z"
    },
    "papermill": {
     "duration": 0.050119,
     "end_time": "2023-01-18T11:53:33.220197",
     "exception": false,
     "start_time": "2023-01-18T11:53:33.170078",
     "status": "completed"
    },
    "tags": []
   },
   "outputs": [
    {
     "data": {
      "text/plain": [
       "45.0"
      ]
     },
     "execution_count": 36,
     "metadata": {},
     "output_type": "execute_result"
    }
   ],
   "source": [
    "special_age=data[data['title']==4]['Age'].median()\n",
    "special_age"
   ]
  },
  {
   "cell_type": "code",
   "execution_count": 37,
   "id": "e268ceba",
   "metadata": {
    "execution": {
     "iopub.execute_input": "2023-01-18T11:53:33.291602Z",
     "iopub.status.busy": "2023-01-18T11:53:33.291058Z",
     "iopub.status.idle": "2023-01-18T11:53:33.299208Z",
     "shell.execute_reply": "2023-01-18T11:53:33.297629Z"
    },
    "papermill": {
     "duration": 0.045921,
     "end_time": "2023-01-18T11:53:33.301646",
     "exception": false,
     "start_time": "2023-01-18T11:53:33.255725",
     "status": "completed"
    },
    "tags": []
   },
   "outputs": [
    {
     "data": {
      "text/plain": [
       "0.0"
      ]
     },
     "execution_count": 37,
     "metadata": {},
     "output_type": "execute_result"
    }
   ],
   "source": [
    "data['title'][5]"
   ]
  },
  {
   "cell_type": "code",
   "execution_count": 38,
   "id": "a2ee4250",
   "metadata": {
    "execution": {
     "iopub.execute_input": "2023-01-18T11:53:33.374972Z",
     "iopub.status.busy": "2023-01-18T11:53:33.373421Z",
     "iopub.status.idle": "2023-01-18T11:53:33.391289Z",
     "shell.execute_reply": "2023-01-18T11:53:33.389698Z"
    },
    "papermill": {
     "duration": 0.05908,
     "end_time": "2023-01-18T11:53:33.394528",
     "exception": false,
     "start_time": "2023-01-18T11:53:33.335448",
     "status": "completed"
    },
    "tags": []
   },
   "outputs": [],
   "source": [
    "data.loc[ (data['title']==0) & (np.isnan(data['Age'])), 'Age' ] = mr_age\n",
    "data.loc[ (data['title']==1) & (np.isnan(data['Age'])), 'Age' ] = miss_age\n",
    "data.loc[ (data['title']==2) & (np.isnan(data['Age'])), 'Age' ] = mrs_age\n",
    "data.loc[ (data['title']==3) & (np.isnan(data['Age'])), 'Age' ] = master_age\n",
    "data.loc[ (data['title']==4) & (np.isnan(data['Age'])), 'Age' ] = special_age"
   ]
  },
  {
   "cell_type": "code",
   "execution_count": 39,
   "id": "d1cee6f7",
   "metadata": {
    "execution": {
     "iopub.execute_input": "2023-01-18T11:53:33.467799Z",
     "iopub.status.busy": "2023-01-18T11:53:33.466422Z",
     "iopub.status.idle": "2023-01-18T11:53:33.486331Z",
     "shell.execute_reply": "2023-01-18T11:53:33.483799Z"
    },
    "papermill": {
     "duration": 0.061051,
     "end_time": "2023-01-18T11:53:33.490323",
     "exception": false,
     "start_time": "2023-01-18T11:53:33.429272",
     "status": "completed"
    },
    "tags": []
   },
   "outputs": [],
   "source": [
    "test.loc[ (test['title']==0) & (np.isnan(test['Age'])), 'Age' ] = mr_age\n",
    "test.loc[ (test['title']==1) & (np.isnan(test['Age'])), 'Age' ] = miss_age\n",
    "test.loc[ (test['title']==2) & (np.isnan(test['Age'])), 'Age' ] = mrs_age\n",
    "test.loc[ (test['title']==3) & (np.isnan(test['Age'])), 'Age' ] = master_age\n",
    "test.loc[ (test['title']==4) & (np.isnan(test['Age'])), 'Age' ] = special_age"
   ]
  },
  {
   "cell_type": "code",
   "execution_count": 40,
   "id": "47f87e67",
   "metadata": {
    "execution": {
     "iopub.execute_input": "2023-01-18T11:53:33.578517Z",
     "iopub.status.busy": "2023-01-18T11:53:33.577390Z",
     "iopub.status.idle": "2023-01-18T11:53:33.590003Z",
     "shell.execute_reply": "2023-01-18T11:53:33.588292Z"
    },
    "papermill": {
     "duration": 0.059863,
     "end_time": "2023-01-18T11:53:33.592964",
     "exception": false,
     "start_time": "2023-01-18T11:53:33.533101",
     "status": "completed"
    },
    "tags": []
   },
   "outputs": [
    {
     "data": {
      "text/plain": [
       "35.0"
      ]
     },
     "execution_count": 40,
     "metadata": {},
     "output_type": "execute_result"
    }
   ],
   "source": [
    "data[\"Age\"][19]"
   ]
  },
  {
   "cell_type": "code",
   "execution_count": 41,
   "id": "3837d472",
   "metadata": {
    "execution": {
     "iopub.execute_input": "2023-01-18T11:53:33.663838Z",
     "iopub.status.busy": "2023-01-18T11:53:33.662859Z",
     "iopub.status.idle": "2023-01-18T11:53:33.681622Z",
     "shell.execute_reply": "2023-01-18T11:53:33.680021Z"
    },
    "papermill": {
     "duration": 0.057473,
     "end_time": "2023-01-18T11:53:33.684551",
     "exception": false,
     "start_time": "2023-01-18T11:53:33.627078",
     "status": "completed"
    },
    "tags": []
   },
   "outputs": [
    {
     "data": {
      "text/html": [
       "<div>\n",
       "<style scoped>\n",
       "    .dataframe tbody tr th:only-of-type {\n",
       "        vertical-align: middle;\n",
       "    }\n",
       "\n",
       "    .dataframe tbody tr th {\n",
       "        vertical-align: top;\n",
       "    }\n",
       "\n",
       "    .dataframe thead th {\n",
       "        text-align: right;\n",
       "    }\n",
       "</style>\n",
       "<table border=\"1\" class=\"dataframe\">\n",
       "  <thead>\n",
       "    <tr style=\"text-align: right;\">\n",
       "      <th></th>\n",
       "      <th>PassengerId</th>\n",
       "      <th>Pclass</th>\n",
       "      <th>Sex</th>\n",
       "      <th>Age</th>\n",
       "      <th>SibSp</th>\n",
       "      <th>Parch</th>\n",
       "      <th>Ticket</th>\n",
       "      <th>Fare</th>\n",
       "      <th>Cabin</th>\n",
       "      <th>Embarked</th>\n",
       "      <th>title</th>\n",
       "    </tr>\n",
       "  </thead>\n",
       "  <tbody>\n",
       "    <tr>\n",
       "      <th>414</th>\n",
       "      <td>1306</td>\n",
       "      <td>1</td>\n",
       "      <td>female</td>\n",
       "      <td>39.0</td>\n",
       "      <td>0</td>\n",
       "      <td>0</td>\n",
       "      <td>PC 17758</td>\n",
       "      <td>108.9</td>\n",
       "      <td>C105</td>\n",
       "      <td>C</td>\n",
       "      <td>NaN</td>\n",
       "    </tr>\n",
       "  </tbody>\n",
       "</table>\n",
       "</div>"
      ],
      "text/plain": [
       "     PassengerId  Pclass     Sex   Age  SibSp  Parch    Ticket   Fare Cabin  \\\n",
       "414         1306       1  female  39.0      0      0  PC 17758  108.9  C105   \n",
       "\n",
       "    Embarked  title  \n",
       "414        C    NaN  "
      ]
     },
     "execution_count": 41,
     "metadata": {},
     "output_type": "execute_result"
    }
   ],
   "source": [
    "test_null=test[test['title'].isnull()]\n",
    "test_null"
   ]
  },
  {
   "cell_type": "code",
   "execution_count": 42,
   "id": "b895e155",
   "metadata": {
    "execution": {
     "iopub.execute_input": "2023-01-18T11:53:33.760025Z",
     "iopub.status.busy": "2023-01-18T11:53:33.759214Z",
     "iopub.status.idle": "2023-01-18T11:53:33.770346Z",
     "shell.execute_reply": "2023-01-18T11:53:33.768912Z"
    },
    "papermill": {
     "duration": 0.05217,
     "end_time": "2023-01-18T11:53:33.773407",
     "exception": false,
     "start_time": "2023-01-18T11:53:33.721237",
     "status": "completed"
    },
    "tags": []
   },
   "outputs": [
    {
     "data": {
      "text/plain": [
       "0.0    240\n",
       "1.0     78\n",
       "2.0     72\n",
       "3.0     21\n",
       "4.0      6\n",
       "Name: title, dtype: int64"
      ]
     },
     "execution_count": 42,
     "metadata": {},
     "output_type": "execute_result"
    }
   ],
   "source": [
    "test['title'].value_counts()"
   ]
  },
  {
   "cell_type": "code",
   "execution_count": 43,
   "id": "32eac9de",
   "metadata": {
    "execution": {
     "iopub.execute_input": "2023-01-18T11:53:33.845830Z",
     "iopub.status.busy": "2023-01-18T11:53:33.845288Z",
     "iopub.status.idle": "2023-01-18T11:53:33.853392Z",
     "shell.execute_reply": "2023-01-18T11:53:33.851852Z"
    },
    "papermill": {
     "duration": 0.047654,
     "end_time": "2023-01-18T11:53:33.855990",
     "exception": false,
     "start_time": "2023-01-18T11:53:33.808336",
     "status": "completed"
    },
    "tags": []
   },
   "outputs": [],
   "source": [
    "test.loc[ np.isnan(test['title']), 'title' ] = 0.0"
   ]
  },
  {
   "cell_type": "code",
   "execution_count": 44,
   "id": "ec6dcdbe",
   "metadata": {
    "execution": {
     "iopub.execute_input": "2023-01-18T11:53:33.929149Z",
     "iopub.status.busy": "2023-01-18T11:53:33.928567Z",
     "iopub.status.idle": "2023-01-18T11:53:33.944236Z",
     "shell.execute_reply": "2023-01-18T11:53:33.942868Z"
    },
    "papermill": {
     "duration": 0.055466,
     "end_time": "2023-01-18T11:53:33.946978",
     "exception": false,
     "start_time": "2023-01-18T11:53:33.891512",
     "status": "completed"
    },
    "tags": []
   },
   "outputs": [
    {
     "data": {
      "text/html": [
       "<div>\n",
       "<style scoped>\n",
       "    .dataframe tbody tr th:only-of-type {\n",
       "        vertical-align: middle;\n",
       "    }\n",
       "\n",
       "    .dataframe tbody tr th {\n",
       "        vertical-align: top;\n",
       "    }\n",
       "\n",
       "    .dataframe thead th {\n",
       "        text-align: right;\n",
       "    }\n",
       "</style>\n",
       "<table border=\"1\" class=\"dataframe\">\n",
       "  <thead>\n",
       "    <tr style=\"text-align: right;\">\n",
       "      <th></th>\n",
       "      <th>PassengerId</th>\n",
       "      <th>Pclass</th>\n",
       "      <th>Sex</th>\n",
       "      <th>Age</th>\n",
       "      <th>SibSp</th>\n",
       "      <th>Parch</th>\n",
       "      <th>Ticket</th>\n",
       "      <th>Fare</th>\n",
       "      <th>Cabin</th>\n",
       "      <th>Embarked</th>\n",
       "      <th>title</th>\n",
       "    </tr>\n",
       "  </thead>\n",
       "  <tbody>\n",
       "  </tbody>\n",
       "</table>\n",
       "</div>"
      ],
      "text/plain": [
       "Empty DataFrame\n",
       "Columns: [PassengerId, Pclass, Sex, Age, SibSp, Parch, Ticket, Fare, Cabin, Embarked, title]\n",
       "Index: []"
      ]
     },
     "execution_count": 44,
     "metadata": {},
     "output_type": "execute_result"
    }
   ],
   "source": [
    "test_null=test[test['title'].isnull()]\n",
    "test_null"
   ]
  },
  {
   "cell_type": "code",
   "execution_count": 45,
   "id": "515be7f2",
   "metadata": {
    "execution": {
     "iopub.execute_input": "2023-01-18T11:53:34.021752Z",
     "iopub.status.busy": "2023-01-18T11:53:34.020196Z",
     "iopub.status.idle": "2023-01-18T11:53:34.034902Z",
     "shell.execute_reply": "2023-01-18T11:53:34.033814Z"
    },
    "papermill": {
     "duration": 0.055294,
     "end_time": "2023-01-18T11:53:34.037801",
     "exception": false,
     "start_time": "2023-01-18T11:53:33.982507",
     "status": "completed"
    },
    "tags": []
   },
   "outputs": [
    {
     "data": {
      "text/html": [
       "<div>\n",
       "<style scoped>\n",
       "    .dataframe tbody tr th:only-of-type {\n",
       "        vertical-align: middle;\n",
       "    }\n",
       "\n",
       "    .dataframe tbody tr th {\n",
       "        vertical-align: top;\n",
       "    }\n",
       "\n",
       "    .dataframe thead th {\n",
       "        text-align: right;\n",
       "    }\n",
       "</style>\n",
       "<table border=\"1\" class=\"dataframe\">\n",
       "  <thead>\n",
       "    <tr style=\"text-align: right;\">\n",
       "      <th></th>\n",
       "      <th>PassengerId</th>\n",
       "      <th>Survived</th>\n",
       "      <th>Pclass</th>\n",
       "      <th>Sex</th>\n",
       "      <th>Age</th>\n",
       "      <th>SibSp</th>\n",
       "      <th>Parch</th>\n",
       "      <th>Ticket</th>\n",
       "      <th>Fare</th>\n",
       "      <th>Cabin</th>\n",
       "      <th>Embarked</th>\n",
       "      <th>title</th>\n",
       "    </tr>\n",
       "  </thead>\n",
       "  <tbody>\n",
       "  </tbody>\n",
       "</table>\n",
       "</div>"
      ],
      "text/plain": [
       "Empty DataFrame\n",
       "Columns: [PassengerId, Survived, Pclass, Sex, Age, SibSp, Parch, Ticket, Fare, Cabin, Embarked, title]\n",
       "Index: []"
      ]
     },
     "execution_count": 45,
     "metadata": {},
     "output_type": "execute_result"
    }
   ],
   "source": [
    "null_age = data[data['Age'].isnull()]\n",
    "null_age"
   ]
  },
  {
   "cell_type": "markdown",
   "id": "15c4be03",
   "metadata": {
    "papermill": {
     "duration": 0.034865,
     "end_time": "2023-01-18T11:53:34.109529",
     "exception": false,
     "start_time": "2023-01-18T11:53:34.074664",
     "status": "completed"
    },
    "tags": []
   },
   "source": [
    "All age null values filled!"
   ]
  },
  {
   "cell_type": "markdown",
   "id": "b21457f0",
   "metadata": {
    "papermill": {
     "duration": 0.035018,
     "end_time": "2023-01-18T11:53:34.182737",
     "exception": false,
     "start_time": "2023-01-18T11:53:34.147719",
     "status": "completed"
    },
    "tags": []
   },
   "source": [
    "Now we can divide the ages into age groups to make it more usable"
   ]
  },
  {
   "cell_type": "code",
   "execution_count": 46,
   "id": "7b2e9938",
   "metadata": {
    "execution": {
     "iopub.execute_input": "2023-01-18T11:53:34.257216Z",
     "iopub.status.busy": "2023-01-18T11:53:34.256550Z",
     "iopub.status.idle": "2023-01-18T11:53:34.605001Z",
     "shell.execute_reply": "2023-01-18T11:53:34.603395Z"
    },
    "papermill": {
     "duration": 0.389007,
     "end_time": "2023-01-18T11:53:34.608053",
     "exception": false,
     "start_time": "2023-01-18T11:53:34.219046",
     "status": "completed"
    },
    "tags": []
   },
   "outputs": [
    {
     "data": {
      "text/plain": [
       "<AxesSubplot:xlabel='Age', ylabel='Count'>"
      ]
     },
     "execution_count": 46,
     "metadata": {},
     "output_type": "execute_result"
    },
    {
     "data": {
      "image/png": "[encoded data removed]",
      "text/plain": [
       "<Figure size 432x288 with 1 Axes>"
      ]
     },
     "metadata": {
      "needs_background": "light"
     },
     "output_type": "display_data"
    }
   ],
   "source": [
    "sns.histplot(data,x='Age',kde=True)"
   ]
  },
  {
   "cell_type": "markdown",
   "id": "9fa678be",
   "metadata": {
    "papermill": {
     "duration": 0.035413,
     "end_time": "2023-01-18T11:53:34.678789",
     "exception": false,
     "start_time": "2023-01-18T11:53:34.643376",
     "status": "completed"
    },
    "tags": []
   },
   "source": [
    "child : 0\n",
    "young adult : 1\n",
    "adult : 2\n",
    "senior citizen : 3"
   ]
  },
  {
   "cell_type": "code",
   "execution_count": 47,
   "id": "b9670133",
   "metadata": {
    "execution": {
     "iopub.execute_input": "2023-01-18T11:53:34.751741Z",
     "iopub.status.busy": "2023-01-18T11:53:34.751131Z",
     "iopub.status.idle": "2023-01-18T11:53:34.767206Z",
     "shell.execute_reply": "2023-01-18T11:53:34.765688Z"
    },
    "papermill": {
     "duration": 0.055834,
     "end_time": "2023-01-18T11:53:34.769814",
     "exception": false,
     "start_time": "2023-01-18T11:53:34.713980",
     "status": "completed"
    },
    "tags": []
   },
   "outputs": [],
   "source": [
    "data.loc[data['Age']<=16,'Age']=0\n",
    "data.loc[(data['Age']>16) & (data['Age']<=26),'Age']=1\n",
    "data.loc[(data['Age']>26) & (data['Age']<=34),'Age']=2\n",
    "data.loc[(data['Age']>34) & (data['Age']<=60),'Age']=3\n",
    "data.loc[data['Age']>60,'Age']=4"
   ]
  },
  {
   "cell_type": "code",
   "execution_count": 48,
   "id": "41341542",
   "metadata": {
    "execution": {
     "iopub.execute_input": "2023-01-18T11:53:34.842170Z",
     "iopub.status.busy": "2023-01-18T11:53:34.841648Z",
     "iopub.status.idle": "2023-01-18T11:53:34.855415Z",
     "shell.execute_reply": "2023-01-18T11:53:34.853986Z"
    },
    "papermill": {
     "duration": 0.053075,
     "end_time": "2023-01-18T11:53:34.858003",
     "exception": false,
     "start_time": "2023-01-18T11:53:34.804928",
     "status": "completed"
    },
    "tags": []
   },
   "outputs": [],
   "source": [
    "test.loc[test['Age']<=16,'Age']=0\n",
    "test.loc[(test['Age']>16) & (test['Age']<=26),'Age']=1\n",
    "test.loc[(test['Age']>26) & (test['Age']<=34),'Age']=2\n",
    "test.loc[(test['Age']>34) & (test['Age']<=60),'Age']=3\n",
    "test.loc[test['Age']>60,'Age']=4"
   ]
  },
  {
   "cell_type": "code",
   "execution_count": 49,
   "id": "1b39fad9",
   "metadata": {
    "execution": {
     "iopub.execute_input": "2023-01-18T11:53:34.930588Z",
     "iopub.status.busy": "2023-01-18T11:53:34.929997Z",
     "iopub.status.idle": "2023-01-18T11:53:34.950150Z",
     "shell.execute_reply": "2023-01-18T11:53:34.948918Z"
    },
    "papermill": {
     "duration": 0.059639,
     "end_time": "2023-01-18T11:53:34.952727",
     "exception": false,
     "start_time": "2023-01-18T11:53:34.893088",
     "status": "completed"
    },
    "tags": []
   },
   "outputs": [
    {
     "data": {
      "text/html": [
       "<div>\n",
       "<style scoped>\n",
       "    .dataframe tbody tr th:only-of-type {\n",
       "        vertical-align: middle;\n",
       "    }\n",
       "\n",
       "    .dataframe tbody tr th {\n",
       "        vertical-align: top;\n",
       "    }\n",
       "\n",
       "    .dataframe thead th {\n",
       "        text-align: right;\n",
       "    }\n",
       "</style>\n",
       "<table border=\"1\" class=\"dataframe\">\n",
       "  <thead>\n",
       "    <tr style=\"text-align: right;\">\n",
       "      <th></th>\n",
       "      <th>PassengerId</th>\n",
       "      <th>Survived</th>\n",
       "      <th>Pclass</th>\n",
       "      <th>Sex</th>\n",
       "      <th>Age</th>\n",
       "      <th>SibSp</th>\n",
       "      <th>Parch</th>\n",
       "      <th>Ticket</th>\n",
       "      <th>Fare</th>\n",
       "      <th>Cabin</th>\n",
       "      <th>Embarked</th>\n",
       "      <th>title</th>\n",
       "    </tr>\n",
       "  </thead>\n",
       "  <tbody>\n",
       "    <tr>\n",
       "      <th>812</th>\n",
       "      <td>813</td>\n",
       "      <td>0</td>\n",
       "      <td>2</td>\n",
       "      <td>male</td>\n",
       "      <td>3.0</td>\n",
       "      <td>0</td>\n",
       "      <td>0</td>\n",
       "      <td>28206</td>\n",
       "      <td>10.5000</td>\n",
       "      <td>NaN</td>\n",
       "      <td>S</td>\n",
       "      <td>0.0</td>\n",
       "    </tr>\n",
       "    <tr>\n",
       "      <th>737</th>\n",
       "      <td>738</td>\n",
       "      <td>1</td>\n",
       "      <td>1</td>\n",
       "      <td>male</td>\n",
       "      <td>3.0</td>\n",
       "      <td>0</td>\n",
       "      <td>0</td>\n",
       "      <td>PC 17755</td>\n",
       "      <td>512.3292</td>\n",
       "      <td>B101</td>\n",
       "      <td>C</td>\n",
       "      <td>0.0</td>\n",
       "    </tr>\n",
       "    <tr>\n",
       "      <th>489</th>\n",
       "      <td>490</td>\n",
       "      <td>1</td>\n",
       "      <td>3</td>\n",
       "      <td>male</td>\n",
       "      <td>0.0</td>\n",
       "      <td>1</td>\n",
       "      <td>1</td>\n",
       "      <td>C.A. 37671</td>\n",
       "      <td>15.9000</td>\n",
       "      <td>NaN</td>\n",
       "      <td>S</td>\n",
       "      <td>3.0</td>\n",
       "    </tr>\n",
       "    <tr>\n",
       "      <th>677</th>\n",
       "      <td>678</td>\n",
       "      <td>1</td>\n",
       "      <td>3</td>\n",
       "      <td>female</td>\n",
       "      <td>1.0</td>\n",
       "      <td>0</td>\n",
       "      <td>0</td>\n",
       "      <td>4138</td>\n",
       "      <td>9.8417</td>\n",
       "      <td>NaN</td>\n",
       "      <td>S</td>\n",
       "      <td>1.0</td>\n",
       "    </tr>\n",
       "    <tr>\n",
       "      <th>325</th>\n",
       "      <td>326</td>\n",
       "      <td>1</td>\n",
       "      <td>1</td>\n",
       "      <td>female</td>\n",
       "      <td>3.0</td>\n",
       "      <td>0</td>\n",
       "      <td>0</td>\n",
       "      <td>PC 17760</td>\n",
       "      <td>135.6333</td>\n",
       "      <td>C32</td>\n",
       "      <td>C</td>\n",
       "      <td>1.0</td>\n",
       "    </tr>\n",
       "  </tbody>\n",
       "</table>\n",
       "</div>"
      ],
      "text/plain": [
       "     PassengerId  Survived  Pclass     Sex  Age  SibSp  Parch      Ticket  \\\n",
       "812          813         0       2    male  3.0      0      0       28206   \n",
       "737          738         1       1    male  3.0      0      0    PC 17755   \n",
       "489          490         1       3    male  0.0      1      1  C.A. 37671   \n",
       "677          678         1       3  female  1.0      0      0        4138   \n",
       "325          326         1       1  female  3.0      0      0    PC 17760   \n",
       "\n",
       "         Fare Cabin Embarked  title  \n",
       "812   10.5000   NaN        S    0.0  \n",
       "737  512.3292  B101        C    0.0  \n",
       "489   15.9000   NaN        S    3.0  \n",
       "677    9.8417   NaN        S    1.0  \n",
       "325  135.6333   C32        C    1.0  "
      ]
     },
     "execution_count": 49,
     "metadata": {},
     "output_type": "execute_result"
    }
   ],
   "source": [
    "data.sample(5)"
   ]
  },
  {
   "cell_type": "code",
   "execution_count": 50,
   "id": "41d85617",
   "metadata": {
    "execution": {
     "iopub.execute_input": "2023-01-18T11:53:35.033266Z",
     "iopub.status.busy": "2023-01-18T11:53:35.032775Z",
     "iopub.status.idle": "2023-01-18T11:53:35.323071Z",
     "shell.execute_reply": "2023-01-18T11:53:35.321784Z"
    },
    "papermill": {
     "duration": 0.337672,
     "end_time": "2023-01-18T11:53:35.326552",
     "exception": false,
     "start_time": "2023-01-18T11:53:34.988880",
     "status": "completed"
    },
    "tags": []
   },
   "outputs": [
    {
     "data": {
      "image/png": "[encoded data removed]",
      "text/plain": [
       "<Figure size 864x432 with 1 Axes>"
      ]
     },
     "metadata": {
      "needs_background": "light"
     },
     "output_type": "display_data"
    }
   ],
   "source": [
    "bar_chart('Age')"
   ]
  },
  {
   "cell_type": "markdown",
   "id": "d0d71829",
   "metadata": {
    "papermill": {
     "duration": 0.037185,
     "end_time": "2023-01-18T11:53:35.399951",
     "exception": false,
     "start_time": "2023-01-18T11:53:35.362766",
     "status": "completed"
    },
    "tags": []
   },
   "source": [
    "#### Sex \n",
    "another feature which needs to be given numerical representation"
   ]
  },
  {
   "cell_type": "code",
   "execution_count": 51,
   "id": "a535c354",
   "metadata": {
    "execution": {
     "iopub.execute_input": "2023-01-18T11:53:35.474811Z",
     "iopub.status.busy": "2023-01-18T11:53:35.474033Z",
     "iopub.status.idle": "2023-01-18T11:53:35.485840Z",
     "shell.execute_reply": "2023-01-18T11:53:35.484390Z"
    },
    "papermill": {
     "duration": 0.052748,
     "end_time": "2023-01-18T11:53:35.488547",
     "exception": false,
     "start_time": "2023-01-18T11:53:35.435799",
     "status": "completed"
    },
    "tags": []
   },
   "outputs": [],
   "source": [
    "sex_mapping = {\"male\": 0, \"female\": 1}\n",
    "data['Sex']=data['Sex'].map(sex_mapping)\n",
    "test['Sex']=test['Sex'].map(sex_mapping)"
   ]
  },
  {
   "cell_type": "code",
   "execution_count": 52,
   "id": "0149b157",
   "metadata": {
    "execution": {
     "iopub.execute_input": "2023-01-18T11:53:35.562517Z",
     "iopub.status.busy": "2023-01-18T11:53:35.561918Z",
     "iopub.status.idle": "2023-01-18T11:53:35.584004Z",
     "shell.execute_reply": "2023-01-18T11:53:35.582627Z"
    },
    "papermill": {
     "duration": 0.062292,
     "end_time": "2023-01-18T11:53:35.586654",
     "exception": false,
     "start_time": "2023-01-18T11:53:35.524362",
     "status": "completed"
    },
    "tags": []
   },
   "outputs": [
    {
     "data": {
      "text/html": [
       "<div>\n",
       "<style scoped>\n",
       "    .dataframe tbody tr th:only-of-type {\n",
       "        vertical-align: middle;\n",
       "    }\n",
       "\n",
       "    .dataframe tbody tr th {\n",
       "        vertical-align: top;\n",
       "    }\n",
       "\n",
       "    .dataframe thead th {\n",
       "        text-align: right;\n",
       "    }\n",
       "</style>\n",
       "<table border=\"1\" class=\"dataframe\">\n",
       "  <thead>\n",
       "    <tr style=\"text-align: right;\">\n",
       "      <th></th>\n",
       "      <th>PassengerId</th>\n",
       "      <th>Survived</th>\n",
       "      <th>Pclass</th>\n",
       "      <th>Sex</th>\n",
       "      <th>Age</th>\n",
       "      <th>SibSp</th>\n",
       "      <th>Parch</th>\n",
       "      <th>Ticket</th>\n",
       "      <th>Fare</th>\n",
       "      <th>Cabin</th>\n",
       "      <th>Embarked</th>\n",
       "      <th>title</th>\n",
       "    </tr>\n",
       "  </thead>\n",
       "  <tbody>\n",
       "    <tr>\n",
       "      <th>0</th>\n",
       "      <td>1</td>\n",
       "      <td>0</td>\n",
       "      <td>3</td>\n",
       "      <td>0</td>\n",
       "      <td>1.0</td>\n",
       "      <td>1</td>\n",
       "      <td>0</td>\n",
       "      <td>A/5 21171</td>\n",
       "      <td>7.2500</td>\n",
       "      <td>NaN</td>\n",
       "      <td>S</td>\n",
       "      <td>0.0</td>\n",
       "    </tr>\n",
       "    <tr>\n",
       "      <th>1</th>\n",
       "      <td>2</td>\n",
       "      <td>1</td>\n",
       "      <td>1</td>\n",
       "      <td>1</td>\n",
       "      <td>3.0</td>\n",
       "      <td>1</td>\n",
       "      <td>0</td>\n",
       "      <td>PC 17599</td>\n",
       "      <td>71.2833</td>\n",
       "      <td>C85</td>\n",
       "      <td>C</td>\n",
       "      <td>2.0</td>\n",
       "    </tr>\n",
       "    <tr>\n",
       "      <th>2</th>\n",
       "      <td>3</td>\n",
       "      <td>1</td>\n",
       "      <td>3</td>\n",
       "      <td>1</td>\n",
       "      <td>1.0</td>\n",
       "      <td>0</td>\n",
       "      <td>0</td>\n",
       "      <td>STON/O2. 3101282</td>\n",
       "      <td>7.9250</td>\n",
       "      <td>NaN</td>\n",
       "      <td>S</td>\n",
       "      <td>1.0</td>\n",
       "    </tr>\n",
       "    <tr>\n",
       "      <th>3</th>\n",
       "      <td>4</td>\n",
       "      <td>1</td>\n",
       "      <td>1</td>\n",
       "      <td>1</td>\n",
       "      <td>3.0</td>\n",
       "      <td>1</td>\n",
       "      <td>0</td>\n",
       "      <td>113803</td>\n",
       "      <td>53.1000</td>\n",
       "      <td>C123</td>\n",
       "      <td>S</td>\n",
       "      <td>2.0</td>\n",
       "    </tr>\n",
       "    <tr>\n",
       "      <th>4</th>\n",
       "      <td>5</td>\n",
       "      <td>0</td>\n",
       "      <td>3</td>\n",
       "      <td>0</td>\n",
       "      <td>3.0</td>\n",
       "      <td>0</td>\n",
       "      <td>0</td>\n",
       "      <td>373450</td>\n",
       "      <td>8.0500</td>\n",
       "      <td>NaN</td>\n",
       "      <td>S</td>\n",
       "      <td>0.0</td>\n",
       "    </tr>\n",
       "  </tbody>\n",
       "</table>\n",
       "</div>"
      ],
      "text/plain": [
       "   PassengerId  Survived  Pclass  Sex  Age  SibSp  Parch            Ticket  \\\n",
       "0            1         0       3    0  1.0      1      0         A/5 21171   \n",
       "1            2         1       1    1  3.0      1      0          PC 17599   \n",
       "2            3         1       3    1  1.0      0      0  STON/O2. 3101282   \n",
       "3            4         1       1    1  3.0      1      0            113803   \n",
       "4            5         0       3    0  3.0      0      0            373450   \n",
       "\n",
       "      Fare Cabin Embarked  title  \n",
       "0   7.2500   NaN        S    0.0  \n",
       "1  71.2833   C85        C    2.0  \n",
       "2   7.9250   NaN        S    1.0  \n",
       "3  53.1000  C123        S    2.0  \n",
       "4   8.0500   NaN        S    0.0  "
      ]
     },
     "execution_count": 52,
     "metadata": {},
     "output_type": "execute_result"
    }
   ],
   "source": [
    "data.head()"
   ]
  },
  {
   "cell_type": "markdown",
   "id": "90b7ff54",
   "metadata": {
    "papermill": {
     "duration": 0.035408,
     "end_time": "2023-01-18T11:53:35.658737",
     "exception": false,
     "start_time": "2023-01-18T11:53:35.623329",
     "status": "completed"
    },
    "tags": []
   },
   "source": [
    "**Tickets** feature can be dropped"
   ]
  },
  {
   "cell_type": "code",
   "execution_count": 53,
   "id": "3b0c21cb",
   "metadata": {
    "execution": {
     "iopub.execute_input": "2023-01-18T11:53:35.732887Z",
     "iopub.status.busy": "2023-01-18T11:53:35.732292Z",
     "iopub.status.idle": "2023-01-18T11:53:35.742543Z",
     "shell.execute_reply": "2023-01-18T11:53:35.741349Z"
    },
    "papermill": {
     "duration": 0.051223,
     "end_time": "2023-01-18T11:53:35.745475",
     "exception": false,
     "start_time": "2023-01-18T11:53:35.694252",
     "status": "completed"
    },
    "tags": []
   },
   "outputs": [],
   "source": [
    "data=data.drop('Ticket',axis=1)\n",
    "test=test.drop('Ticket',axis=1)"
   ]
  },
  {
   "cell_type": "code",
   "execution_count": 54,
   "id": "fa3bd743",
   "metadata": {
    "execution": {
     "iopub.execute_input": "2023-01-18T11:53:35.819962Z",
     "iopub.status.busy": "2023-01-18T11:53:35.819350Z",
     "iopub.status.idle": "2023-01-18T11:53:35.837505Z",
     "shell.execute_reply": "2023-01-18T11:53:35.836318Z"
    },
    "papermill": {
     "duration": 0.058548,
     "end_time": "2023-01-18T11:53:35.839986",
     "exception": false,
     "start_time": "2023-01-18T11:53:35.781438",
     "status": "completed"
    },
    "tags": []
   },
   "outputs": [
    {
     "data": {
      "text/html": [
       "<div>\n",
       "<style scoped>\n",
       "    .dataframe tbody tr th:only-of-type {\n",
       "        vertical-align: middle;\n",
       "    }\n",
       "\n",
       "    .dataframe tbody tr th {\n",
       "        vertical-align: top;\n",
       "    }\n",
       "\n",
       "    .dataframe thead th {\n",
       "        text-align: right;\n",
       "    }\n",
       "</style>\n",
       "<table border=\"1\" class=\"dataframe\">\n",
       "  <thead>\n",
       "    <tr style=\"text-align: right;\">\n",
       "      <th></th>\n",
       "      <th>PassengerId</th>\n",
       "      <th>Survived</th>\n",
       "      <th>Pclass</th>\n",
       "      <th>Sex</th>\n",
       "      <th>Age</th>\n",
       "      <th>SibSp</th>\n",
       "      <th>Parch</th>\n",
       "      <th>Fare</th>\n",
       "      <th>Cabin</th>\n",
       "      <th>Embarked</th>\n",
       "      <th>title</th>\n",
       "    </tr>\n",
       "  </thead>\n",
       "  <tbody>\n",
       "    <tr>\n",
       "      <th>0</th>\n",
       "      <td>1</td>\n",
       "      <td>0</td>\n",
       "      <td>3</td>\n",
       "      <td>0</td>\n",
       "      <td>1.0</td>\n",
       "      <td>1</td>\n",
       "      <td>0</td>\n",
       "      <td>7.2500</td>\n",
       "      <td>NaN</td>\n",
       "      <td>S</td>\n",
       "      <td>0.0</td>\n",
       "    </tr>\n",
       "    <tr>\n",
       "      <th>1</th>\n",
       "      <td>2</td>\n",
       "      <td>1</td>\n",
       "      <td>1</td>\n",
       "      <td>1</td>\n",
       "      <td>3.0</td>\n",
       "      <td>1</td>\n",
       "      <td>0</td>\n",
       "      <td>71.2833</td>\n",
       "      <td>C85</td>\n",
       "      <td>C</td>\n",
       "      <td>2.0</td>\n",
       "    </tr>\n",
       "    <tr>\n",
       "      <th>2</th>\n",
       "      <td>3</td>\n",
       "      <td>1</td>\n",
       "      <td>3</td>\n",
       "      <td>1</td>\n",
       "      <td>1.0</td>\n",
       "      <td>0</td>\n",
       "      <td>0</td>\n",
       "      <td>7.9250</td>\n",
       "      <td>NaN</td>\n",
       "      <td>S</td>\n",
       "      <td>1.0</td>\n",
       "    </tr>\n",
       "    <tr>\n",
       "      <th>3</th>\n",
       "      <td>4</td>\n",
       "      <td>1</td>\n",
       "      <td>1</td>\n",
       "      <td>1</td>\n",
       "      <td>3.0</td>\n",
       "      <td>1</td>\n",
       "      <td>0</td>\n",
       "      <td>53.1000</td>\n",
       "      <td>C123</td>\n",
       "      <td>S</td>\n",
       "      <td>2.0</td>\n",
       "    </tr>\n",
       "    <tr>\n",
       "      <th>4</th>\n",
       "      <td>5</td>\n",
       "      <td>0</td>\n",
       "      <td>3</td>\n",
       "      <td>0</td>\n",
       "      <td>3.0</td>\n",
       "      <td>0</td>\n",
       "      <td>0</td>\n",
       "      <td>8.0500</td>\n",
       "      <td>NaN</td>\n",
       "      <td>S</td>\n",
       "      <td>0.0</td>\n",
       "    </tr>\n",
       "  </tbody>\n",
       "</table>\n",
       "</div>"
      ],
      "text/plain": [
       "   PassengerId  Survived  Pclass  Sex  Age  SibSp  Parch     Fare Cabin  \\\n",
       "0            1         0       3    0  1.0      1      0   7.2500   NaN   \n",
       "1            2         1       1    1  3.0      1      0  71.2833   C85   \n",
       "2            3         1       3    1  1.0      0      0   7.9250   NaN   \n",
       "3            4         1       1    1  3.0      1      0  53.1000  C123   \n",
       "4            5         0       3    0  3.0      0      0   8.0500   NaN   \n",
       "\n",
       "  Embarked  title  \n",
       "0        S    0.0  \n",
       "1        C    2.0  \n",
       "2        S    1.0  \n",
       "3        S    2.0  \n",
       "4        S    0.0  "
      ]
     },
     "execution_count": 54,
     "metadata": {},
     "output_type": "execute_result"
    }
   ],
   "source": [
    "data.head()"
   ]
  },
  {
   "cell_type": "markdown",
   "id": "150cc0b1",
   "metadata": {
    "papermill": {
     "duration": 0.035498,
     "end_time": "2023-01-18T11:53:35.912556",
     "exception": false,
     "start_time": "2023-01-18T11:53:35.877058",
     "status": "completed"
    },
    "tags": []
   },
   "source": [
    "### Fare\n"
   ]
  },
  {
   "cell_type": "code",
   "execution_count": 55,
   "id": "9734c637",
   "metadata": {
    "execution": {
     "iopub.execute_input": "2023-01-18T11:53:35.986932Z",
     "iopub.status.busy": "2023-01-18T11:53:35.986379Z",
     "iopub.status.idle": "2023-01-18T11:53:36.000391Z",
     "shell.execute_reply": "2023-01-18T11:53:35.999274Z"
    },
    "papermill": {
     "duration": 0.054766,
     "end_time": "2023-01-18T11:53:36.003210",
     "exception": false,
     "start_time": "2023-01-18T11:53:35.948444",
     "status": "completed"
    },
    "tags": []
   },
   "outputs": [
    {
     "data": {
      "text/html": [
       "<div>\n",
       "<style scoped>\n",
       "    .dataframe tbody tr th:only-of-type {\n",
       "        vertical-align: middle;\n",
       "    }\n",
       "\n",
       "    .dataframe tbody tr th {\n",
       "        vertical-align: top;\n",
       "    }\n",
       "\n",
       "    .dataframe thead th {\n",
       "        text-align: right;\n",
       "    }\n",
       "</style>\n",
       "<table border=\"1\" class=\"dataframe\">\n",
       "  <thead>\n",
       "    <tr style=\"text-align: right;\">\n",
       "      <th></th>\n",
       "      <th>PassengerId</th>\n",
       "      <th>Survived</th>\n",
       "      <th>Pclass</th>\n",
       "      <th>Sex</th>\n",
       "      <th>Age</th>\n",
       "      <th>SibSp</th>\n",
       "      <th>Parch</th>\n",
       "      <th>Fare</th>\n",
       "      <th>Cabin</th>\n",
       "      <th>Embarked</th>\n",
       "      <th>title</th>\n",
       "    </tr>\n",
       "  </thead>\n",
       "  <tbody>\n",
       "  </tbody>\n",
       "</table>\n",
       "</div>"
      ],
      "text/plain": [
       "Empty DataFrame\n",
       "Columns: [PassengerId, Survived, Pclass, Sex, Age, SibSp, Parch, Fare, Cabin, Embarked, title]\n",
       "Index: []"
      ]
     },
     "execution_count": 55,
     "metadata": {},
     "output_type": "execute_result"
    }
   ],
   "source": [
    "null_fare=data[data['Fare'].isna()]\n",
    "null_fare"
   ]
  },
  {
   "cell_type": "markdown",
   "id": "2989d4cb",
   "metadata": {
    "papermill": {
     "duration": 0.035567,
     "end_time": "2023-01-18T11:53:36.075201",
     "exception": false,
     "start_time": "2023-01-18T11:53:36.039634",
     "status": "completed"
    },
    "tags": []
   },
   "source": [
    "No Nan present!"
   ]
  },
  {
   "cell_type": "markdown",
   "id": "6b578e96",
   "metadata": {
    "papermill": {
     "duration": 0.036665,
     "end_time": "2023-01-18T11:53:36.148274",
     "exception": false,
     "start_time": "2023-01-18T11:53:36.111609",
     "status": "completed"
    },
    "tags": []
   },
   "source": [
    "PClass & Cabin should have high correlation with Fare"
   ]
  },
  {
   "cell_type": "code",
   "execution_count": 56,
   "id": "f7d7d4ac",
   "metadata": {
    "execution": {
     "iopub.execute_input": "2023-01-18T11:53:36.222291Z",
     "iopub.status.busy": "2023-01-18T11:53:36.221728Z",
     "iopub.status.idle": "2023-01-18T11:53:36.244509Z",
     "shell.execute_reply": "2023-01-18T11:53:36.243179Z"
    },
    "papermill": {
     "duration": 0.063153,
     "end_time": "2023-01-18T11:53:36.247217",
     "exception": false,
     "start_time": "2023-01-18T11:53:36.184064",
     "status": "completed"
    },
    "tags": []
   },
   "outputs": [
    {
     "data": {
      "text/html": [
       "<div>\n",
       "<style scoped>\n",
       "    .dataframe tbody tr th:only-of-type {\n",
       "        vertical-align: middle;\n",
       "    }\n",
       "\n",
       "    .dataframe tbody tr th {\n",
       "        vertical-align: top;\n",
       "    }\n",
       "\n",
       "    .dataframe thead th {\n",
       "        text-align: right;\n",
       "    }\n",
       "</style>\n",
       "<table border=\"1\" class=\"dataframe\">\n",
       "  <thead>\n",
       "    <tr style=\"text-align: right;\">\n",
       "      <th></th>\n",
       "      <th>PassengerId</th>\n",
       "      <th>Survived</th>\n",
       "      <th>Pclass</th>\n",
       "      <th>Sex</th>\n",
       "      <th>Age</th>\n",
       "      <th>SibSp</th>\n",
       "      <th>Parch</th>\n",
       "      <th>Fare</th>\n",
       "      <th>title</th>\n",
       "    </tr>\n",
       "  </thead>\n",
       "  <tbody>\n",
       "    <tr>\n",
       "      <th>PassengerId</th>\n",
       "      <td>1.000000</td>\n",
       "      <td>-0.005007</td>\n",
       "      <td>-0.035144</td>\n",
       "      <td>-0.042939</td>\n",
       "      <td>0.034818</td>\n",
       "      <td>-0.057527</td>\n",
       "      <td>-0.001652</td>\n",
       "      <td>0.012658</td>\n",
       "      <td>0.003801</td>\n",
       "    </tr>\n",
       "    <tr>\n",
       "      <th>Survived</th>\n",
       "      <td>-0.005007</td>\n",
       "      <td>1.000000</td>\n",
       "      <td>-0.338481</td>\n",
       "      <td>0.543351</td>\n",
       "      <td>-0.058553</td>\n",
       "      <td>-0.035322</td>\n",
       "      <td>0.081629</td>\n",
       "      <td>0.257307</td>\n",
       "      <td>0.419252</td>\n",
       "    </tr>\n",
       "    <tr>\n",
       "      <th>Pclass</th>\n",
       "      <td>-0.035144</td>\n",
       "      <td>-0.338481</td>\n",
       "      <td>1.000000</td>\n",
       "      <td>-0.131900</td>\n",
       "      <td>-0.336958</td>\n",
       "      <td>0.083081</td>\n",
       "      <td>0.018443</td>\n",
       "      <td>-0.549500</td>\n",
       "      <td>-0.180612</td>\n",
       "    </tr>\n",
       "    <tr>\n",
       "      <th>Sex</th>\n",
       "      <td>-0.042939</td>\n",
       "      <td>0.543351</td>\n",
       "      <td>-0.131900</td>\n",
       "      <td>1.000000</td>\n",
       "      <td>-0.102515</td>\n",
       "      <td>0.114631</td>\n",
       "      <td>0.245489</td>\n",
       "      <td>0.182333</td>\n",
       "      <td>0.513604</td>\n",
       "    </tr>\n",
       "    <tr>\n",
       "      <th>Age</th>\n",
       "      <td>0.034818</td>\n",
       "      <td>-0.058553</td>\n",
       "      <td>-0.336958</td>\n",
       "      <td>-0.102515</td>\n",
       "      <td>1.000000</td>\n",
       "      <td>-0.265240</td>\n",
       "      <td>-0.174752</td>\n",
       "      <td>0.114010</td>\n",
       "      <td>-0.110598</td>\n",
       "    </tr>\n",
       "    <tr>\n",
       "      <th>SibSp</th>\n",
       "      <td>-0.057527</td>\n",
       "      <td>-0.035322</td>\n",
       "      <td>0.083081</td>\n",
       "      <td>0.114631</td>\n",
       "      <td>-0.265240</td>\n",
       "      <td>1.000000</td>\n",
       "      <td>0.414838</td>\n",
       "      <td>0.159651</td>\n",
       "      <td>0.261504</td>\n",
       "    </tr>\n",
       "    <tr>\n",
       "      <th>Parch</th>\n",
       "      <td>-0.001652</td>\n",
       "      <td>0.081629</td>\n",
       "      <td>0.018443</td>\n",
       "      <td>0.245489</td>\n",
       "      <td>-0.174752</td>\n",
       "      <td>0.414838</td>\n",
       "      <td>1.000000</td>\n",
       "      <td>0.216225</td>\n",
       "      <td>0.306957</td>\n",
       "    </tr>\n",
       "    <tr>\n",
       "      <th>Fare</th>\n",
       "      <td>0.012658</td>\n",
       "      <td>0.257307</td>\n",
       "      <td>-0.549500</td>\n",
       "      <td>0.182333</td>\n",
       "      <td>0.114010</td>\n",
       "      <td>0.159651</td>\n",
       "      <td>0.216225</td>\n",
       "      <td>1.000000</td>\n",
       "      <td>0.140369</td>\n",
       "    </tr>\n",
       "    <tr>\n",
       "      <th>title</th>\n",
       "      <td>0.003801</td>\n",
       "      <td>0.419252</td>\n",
       "      <td>-0.180612</td>\n",
       "      <td>0.513604</td>\n",
       "      <td>-0.110598</td>\n",
       "      <td>0.261504</td>\n",
       "      <td>0.306957</td>\n",
       "      <td>0.140369</td>\n",
       "      <td>1.000000</td>\n",
       "    </tr>\n",
       "  </tbody>\n",
       "</table>\n",
       "</div>"
      ],
      "text/plain": [
       "             PassengerId  Survived    Pclass       Sex       Age     SibSp  \\\n",
       "PassengerId     1.000000 -0.005007 -0.035144 -0.042939  0.034818 -0.057527   \n",
       "Survived       -0.005007  1.000000 -0.338481  0.543351 -0.058553 -0.035322   \n",
       "Pclass         -0.035144 -0.338481  1.000000 -0.131900 -0.336958  0.083081   \n",
       "Sex            -0.042939  0.543351 -0.131900  1.000000 -0.102515  0.114631   \n",
       "Age             0.034818 -0.058553 -0.336958 -0.102515  1.000000 -0.265240   \n",
       "SibSp          -0.057527 -0.035322  0.083081  0.114631 -0.265240  1.000000   \n",
       "Parch          -0.001652  0.081629  0.018443  0.245489 -0.174752  0.414838   \n",
       "Fare            0.012658  0.257307 -0.549500  0.182333  0.114010  0.159651   \n",
       "title           0.003801  0.419252 -0.180612  0.513604 -0.110598  0.261504   \n",
       "\n",
       "                Parch      Fare     title  \n",
       "PassengerId -0.001652  0.012658  0.003801  \n",
       "Survived     0.081629  0.257307  0.419252  \n",
       "Pclass       0.018443 -0.549500 -0.180612  \n",
       "Sex          0.245489  0.182333  0.513604  \n",
       "Age         -0.174752  0.114010 -0.110598  \n",
       "SibSp        0.414838  0.159651  0.261504  \n",
       "Parch        1.000000  0.216225  0.306957  \n",
       "Fare         0.216225  1.000000  0.140369  \n",
       "title        0.306957  0.140369  1.000000  "
      ]
     },
     "execution_count": 56,
     "metadata": {},
     "output_type": "execute_result"
    }
   ],
   "source": [
    "corrmat = data.corr()\n",
    "corrmat"
   ]
  },
  {
   "cell_type": "markdown",
   "id": "fac79565",
   "metadata": {
    "papermill": {
     "duration": 0.035914,
     "end_time": "2023-01-18T11:53:36.320540",
     "exception": false,
     "start_time": "2023-01-18T11:53:36.284626",
     "status": "completed"
    },
    "tags": []
   },
   "source": [
    "clearly Pclass & Fare has a high negative correlation\n",
    "i.e 1st class will have max fare (as expected)"
   ]
  },
  {
   "cell_type": "code",
   "execution_count": 57,
   "id": "8c147c0a",
   "metadata": {
    "execution": {
     "iopub.execute_input": "2023-01-18T11:53:36.395844Z",
     "iopub.status.busy": "2023-01-18T11:53:36.394353Z",
     "iopub.status.idle": "2023-01-18T11:53:37.123495Z",
     "shell.execute_reply": "2023-01-18T11:53:37.121908Z"
    },
    "papermill": {
     "duration": 0.770151,
     "end_time": "2023-01-18T11:53:37.126769",
     "exception": false,
     "start_time": "2023-01-18T11:53:36.356618",
     "status": "completed"
    },
    "tags": []
   },
   "outputs": [
    {
     "data": {
      "text/plain": [
       "<AxesSubplot:xlabel='Fare', ylabel='Density'>"
      ]
     },
     "execution_count": 57,
     "metadata": {},
     "output_type": "execute_result"
    },
    {
     "data": {
      "image/png": "[encoded data removed]",
      "text/plain": [
       "<Figure size 864x720 with 1 Axes>"
      ]
     },
     "metadata": {
      "needs_background": "light"
     },
     "output_type": "display_data"
    }
   ],
   "source": [
    "plt.figure(figsize=(12,10))\n",
    "sns.histplot(data,x=\"Fare\",stat='density',kde=True)"
   ]
  },
  {
   "cell_type": "markdown",
   "id": "81d1f502",
   "metadata": {
    "papermill": {
     "duration": 0.037754,
     "end_time": "2023-01-18T11:53:37.202426",
     "exception": false,
     "start_time": "2023-01-18T11:53:37.164672",
     "status": "completed"
    },
    "tags": []
   },
   "source": [
    "Classifying Fare into numerical categories like we did with age"
   ]
  },
  {
   "cell_type": "code",
   "execution_count": 58,
   "id": "084671e2",
   "metadata": {
    "execution": {
     "iopub.execute_input": "2023-01-18T11:53:37.279661Z",
     "iopub.status.busy": "2023-01-18T11:53:37.278014Z",
     "iopub.status.idle": "2023-01-18T11:53:37.290281Z",
     "shell.execute_reply": "2023-01-18T11:53:37.288918Z"
    },
    "papermill": {
     "duration": 0.054822,
     "end_time": "2023-01-18T11:53:37.293635",
     "exception": false,
     "start_time": "2023-01-18T11:53:37.238813",
     "status": "completed"
    },
    "tags": []
   },
   "outputs": [],
   "source": [
    "data.loc[data['Fare']<=15,'Fare']=0\n",
    "data.loc[(data['Fare']>15) & (data['Fare']<=35),'Fare']=1\n",
    "data.loc[(data['Fare']>35) & (data['Fare']<=100),'Fare']=2\n",
    "data.loc[data['Fare']>100,'Fare']=3"
   ]
  },
  {
   "cell_type": "code",
   "execution_count": 59,
   "id": "7569e599",
   "metadata": {
    "execution": {
     "iopub.execute_input": "2023-01-18T11:53:37.369972Z",
     "iopub.status.busy": "2023-01-18T11:53:37.368972Z",
     "iopub.status.idle": "2023-01-18T11:53:37.375622Z",
     "shell.execute_reply": "2023-01-18T11:53:37.374644Z"
    },
    "papermill": {
     "duration": 0.047704,
     "end_time": "2023-01-18T11:53:37.378330",
     "exception": false,
     "start_time": "2023-01-18T11:53:37.330626",
     "status": "completed"
    },
    "tags": []
   },
   "outputs": [],
   "source": [
    "test = test.fillna({'Fare':8})"
   ]
  },
  {
   "cell_type": "code",
   "execution_count": 60,
   "id": "ec47e303",
   "metadata": {
    "execution": {
     "iopub.execute_input": "2023-01-18T11:53:37.453881Z",
     "iopub.status.busy": "2023-01-18T11:53:37.453337Z",
     "iopub.status.idle": "2023-01-18T11:53:37.465519Z",
     "shell.execute_reply": "2023-01-18T11:53:37.464179Z"
    },
    "papermill": {
     "duration": 0.053013,
     "end_time": "2023-01-18T11:53:37.467956",
     "exception": false,
     "start_time": "2023-01-18T11:53:37.414943",
     "status": "completed"
    },
    "tags": []
   },
   "outputs": [],
   "source": [
    "test.loc[test['Fare']<=15,'Fare']=0\n",
    "test.loc[(test['Fare']>15) & (test['Fare']<=35),'Fare']=1\n",
    "test.loc[(test['Fare']>35) & (test['Fare']<=100),'Fare']=2\n",
    "test.loc[test['Fare']>100,'Fare']=3"
   ]
  },
  {
   "cell_type": "code",
   "execution_count": null,
   "id": "11d39c07",
   "metadata": {
    "papermill": {
     "duration": 0.036189,
     "end_time": "2023-01-18T11:53:37.540582",
     "exception": false,
     "start_time": "2023-01-18T11:53:37.504393",
     "status": "completed"
    },
    "tags": []
   },
   "outputs": [],
   "source": []
  },
  {
   "cell_type": "code",
   "execution_count": 61,
   "id": "5ff58924",
   "metadata": {
    "execution": {
     "iopub.execute_input": "2023-01-18T11:53:37.626176Z",
     "iopub.status.busy": "2023-01-18T11:53:37.624815Z",
     "iopub.status.idle": "2023-01-18T11:53:37.648946Z",
     "shell.execute_reply": "2023-01-18T11:53:37.646694Z"
    },
    "papermill": {
     "duration": 0.078198,
     "end_time": "2023-01-18T11:53:37.656906",
     "exception": false,
     "start_time": "2023-01-18T11:53:37.578708",
     "status": "completed"
    },
    "tags": []
   },
   "outputs": [
    {
     "data": {
      "text/html": [
       "<div>\n",
       "<style scoped>\n",
       "    .dataframe tbody tr th:only-of-type {\n",
       "        vertical-align: middle;\n",
       "    }\n",
       "\n",
       "    .dataframe tbody tr th {\n",
       "        vertical-align: top;\n",
       "    }\n",
       "\n",
       "    .dataframe thead th {\n",
       "        text-align: right;\n",
       "    }\n",
       "</style>\n",
       "<table border=\"1\" class=\"dataframe\">\n",
       "  <thead>\n",
       "    <tr style=\"text-align: right;\">\n",
       "      <th></th>\n",
       "      <th>PassengerId</th>\n",
       "      <th>Survived</th>\n",
       "      <th>Pclass</th>\n",
       "      <th>Sex</th>\n",
       "      <th>Age</th>\n",
       "      <th>SibSp</th>\n",
       "      <th>Parch</th>\n",
       "      <th>Fare</th>\n",
       "      <th>Cabin</th>\n",
       "      <th>Embarked</th>\n",
       "      <th>title</th>\n",
       "    </tr>\n",
       "  </thead>\n",
       "  <tbody>\n",
       "    <tr>\n",
       "      <th>0</th>\n",
       "      <td>1</td>\n",
       "      <td>0</td>\n",
       "      <td>3</td>\n",
       "      <td>0</td>\n",
       "      <td>1.0</td>\n",
       "      <td>1</td>\n",
       "      <td>0</td>\n",
       "      <td>0.0</td>\n",
       "      <td>NaN</td>\n",
       "      <td>S</td>\n",
       "      <td>0.0</td>\n",
       "    </tr>\n",
       "    <tr>\n",
       "      <th>1</th>\n",
       "      <td>2</td>\n",
       "      <td>1</td>\n",
       "      <td>1</td>\n",
       "      <td>1</td>\n",
       "      <td>3.0</td>\n",
       "      <td>1</td>\n",
       "      <td>0</td>\n",
       "      <td>2.0</td>\n",
       "      <td>C85</td>\n",
       "      <td>C</td>\n",
       "      <td>2.0</td>\n",
       "    </tr>\n",
       "    <tr>\n",
       "      <th>2</th>\n",
       "      <td>3</td>\n",
       "      <td>1</td>\n",
       "      <td>3</td>\n",
       "      <td>1</td>\n",
       "      <td>1.0</td>\n",
       "      <td>0</td>\n",
       "      <td>0</td>\n",
       "      <td>0.0</td>\n",
       "      <td>NaN</td>\n",
       "      <td>S</td>\n",
       "      <td>1.0</td>\n",
       "    </tr>\n",
       "    <tr>\n",
       "      <th>3</th>\n",
       "      <td>4</td>\n",
       "      <td>1</td>\n",
       "      <td>1</td>\n",
       "      <td>1</td>\n",
       "      <td>3.0</td>\n",
       "      <td>1</td>\n",
       "      <td>0</td>\n",
       "      <td>2.0</td>\n",
       "      <td>C123</td>\n",
       "      <td>S</td>\n",
       "      <td>2.0</td>\n",
       "    </tr>\n",
       "    <tr>\n",
       "      <th>4</th>\n",
       "      <td>5</td>\n",
       "      <td>0</td>\n",
       "      <td>3</td>\n",
       "      <td>0</td>\n",
       "      <td>3.0</td>\n",
       "      <td>0</td>\n",
       "      <td>0</td>\n",
       "      <td>0.0</td>\n",
       "      <td>NaN</td>\n",
       "      <td>S</td>\n",
       "      <td>0.0</td>\n",
       "    </tr>\n",
       "  </tbody>\n",
       "</table>\n",
       "</div>"
      ],
      "text/plain": [
       "   PassengerId  Survived  Pclass  Sex  Age  SibSp  Parch  Fare Cabin Embarked  \\\n",
       "0            1         0       3    0  1.0      1      0   0.0   NaN        S   \n",
       "1            2         1       1    1  3.0      1      0   2.0   C85        C   \n",
       "2            3         1       3    1  1.0      0      0   0.0   NaN        S   \n",
       "3            4         1       1    1  3.0      1      0   2.0  C123        S   \n",
       "4            5         0       3    0  3.0      0      0   0.0   NaN        S   \n",
       "\n",
       "   title  \n",
       "0    0.0  \n",
       "1    2.0  \n",
       "2    1.0  \n",
       "3    2.0  \n",
       "4    0.0  "
      ]
     },
     "execution_count": 61,
     "metadata": {},
     "output_type": "execute_result"
    }
   ],
   "source": [
    "data.head()"
   ]
  },
  {
   "cell_type": "markdown",
   "id": "6d4421b6",
   "metadata": {
    "papermill": {
     "duration": 0.038008,
     "end_time": "2023-01-18T11:53:37.749358",
     "exception": false,
     "start_time": "2023-01-18T11:53:37.711350",
     "status": "completed"
    },
    "tags": []
   },
   "source": [
    "### Cabin"
   ]
  },
  {
   "cell_type": "code",
   "execution_count": 62,
   "id": "221ffe5a",
   "metadata": {
    "execution": {
     "iopub.execute_input": "2023-01-18T11:53:37.841444Z",
     "iopub.status.busy": "2023-01-18T11:53:37.840931Z",
     "iopub.status.idle": "2023-01-18T11:53:37.853292Z",
     "shell.execute_reply": "2023-01-18T11:53:37.851993Z"
    },
    "papermill": {
     "duration": 0.056166,
     "end_time": "2023-01-18T11:53:37.855905",
     "exception": false,
     "start_time": "2023-01-18T11:53:37.799739",
     "status": "completed"
    },
    "tags": []
   },
   "outputs": [
    {
     "data": {
      "text/plain": [
       "B96 B98        4\n",
       "G6             4\n",
       "C23 C25 C27    4\n",
       "C22 C26        3\n",
       "F33            3\n",
       "              ..\n",
       "E34            1\n",
       "C7             1\n",
       "C54            1\n",
       "E36            1\n",
       "C148           1\n",
       "Name: Cabin, Length: 147, dtype: int64"
      ]
     },
     "execution_count": 62,
     "metadata": {},
     "output_type": "execute_result"
    }
   ],
   "source": [
    "data['Cabin'].value_counts()"
   ]
  },
  {
   "cell_type": "code",
   "execution_count": 63,
   "id": "a6d1519a",
   "metadata": {
    "execution": {
     "iopub.execute_input": "2023-01-18T11:53:37.941311Z",
     "iopub.status.busy": "2023-01-18T11:53:37.940052Z",
     "iopub.status.idle": "2023-01-18T11:53:37.951996Z",
     "shell.execute_reply": "2023-01-18T11:53:37.950707Z"
    },
    "papermill": {
     "duration": 0.060943,
     "end_time": "2023-01-18T11:53:37.955484",
     "exception": false,
     "start_time": "2023-01-18T11:53:37.894541",
     "status": "completed"
    },
    "tags": []
   },
   "outputs": [
    {
     "data": {
      "text/plain": [
       "PassengerId      0\n",
       "Survived         0\n",
       "Pclass           0\n",
       "Sex              0\n",
       "Age              0\n",
       "SibSp            0\n",
       "Parch            0\n",
       "Fare             0\n",
       "Cabin          687\n",
       "Embarked         2\n",
       "title            1\n",
       "dtype: int64"
      ]
     },
     "execution_count": 63,
     "metadata": {},
     "output_type": "execute_result"
    }
   ],
   "source": [
    "data.isnull().sum()"
   ]
  },
  {
   "cell_type": "markdown",
   "id": "3cb6c405",
   "metadata": {
    "papermill": {
     "duration": 0.044602,
     "end_time": "2023-01-18T11:53:38.043095",
     "exception": false,
     "start_time": "2023-01-18T11:53:37.998493",
     "status": "completed"
    },
    "tags": []
   },
   "source": [
    "Cabin data has so much missing that it can be termed useless"
   ]
  },
  {
   "cell_type": "code",
   "execution_count": 64,
   "id": "09feac41",
   "metadata": {
    "execution": {
     "iopub.execute_input": "2023-01-18T11:53:38.125299Z",
     "iopub.status.busy": "2023-01-18T11:53:38.124115Z",
     "iopub.status.idle": "2023-01-18T11:53:38.134087Z",
     "shell.execute_reply": "2023-01-18T11:53:38.132745Z"
    },
    "papermill": {
     "duration": 0.05344,
     "end_time": "2023-01-18T11:53:38.137208",
     "exception": false,
     "start_time": "2023-01-18T11:53:38.083768",
     "status": "completed"
    },
    "tags": []
   },
   "outputs": [],
   "source": [
    "data=data.drop('Cabin',axis=1)\n",
    "test=test.drop('Cabin',axis=1)"
   ]
  },
  {
   "cell_type": "markdown",
   "id": "1234d390",
   "metadata": {
    "papermill": {
     "duration": 0.036796,
     "end_time": "2023-01-18T11:53:38.213120",
     "exception": false,
     "start_time": "2023-01-18T11:53:38.176324",
     "status": "completed"
    },
    "tags": []
   },
   "source": [
    "### Embarked"
   ]
  },
  {
   "cell_type": "code",
   "execution_count": 65,
   "id": "3459a9fa",
   "metadata": {
    "execution": {
     "iopub.execute_input": "2023-01-18T11:53:38.293408Z",
     "iopub.status.busy": "2023-01-18T11:53:38.292385Z",
     "iopub.status.idle": "2023-01-18T11:53:38.306395Z",
     "shell.execute_reply": "2023-01-18T11:53:38.304916Z"
    },
    "papermill": {
     "duration": 0.060893,
     "end_time": "2023-01-18T11:53:38.311233",
     "exception": false,
     "start_time": "2023-01-18T11:53:38.250340",
     "status": "completed"
    },
    "tags": []
   },
   "outputs": [
    {
     "name": "stdout",
     "output_type": "stream",
     "text": [
      "Number of people embarking in Southampton (S):\n",
      "644\n",
      "Number of people embarking in Cherbourg (C):\n",
      "168\n",
      "Number of people embarking in Queenstown (Q):\n",
      "77\n"
     ]
    }
   ],
   "source": [
    "print(\"Number of people embarking in Southampton (S):\")\n",
    "southampton = data[data[\"Embarked\"] == \"S\"].shape[0]\n",
    "print(southampton)\n",
    "\n",
    "print(\"Number of people embarking in Cherbourg (C):\")\n",
    "cherbourg = data[data[\"Embarked\"] == \"C\"].shape[0]\n",
    "print(cherbourg)\n",
    "\n",
    "print(\"Number of people embarking in Queenstown (Q):\")\n",
    "queenstown = data[data[\"Embarked\"] == \"Q\"].shape[0]\n",
    "print(queenstown)"
   ]
  },
  {
   "cell_type": "code",
   "execution_count": 66,
   "id": "3553105e",
   "metadata": {
    "execution": {
     "iopub.execute_input": "2023-01-18T11:53:38.399997Z",
     "iopub.status.busy": "2023-01-18T11:53:38.398081Z",
     "iopub.status.idle": "2023-01-18T11:53:38.410927Z",
     "shell.execute_reply": "2023-01-18T11:53:38.409743Z"
    },
    "papermill": {
     "duration": 0.058833,
     "end_time": "2023-01-18T11:53:38.413440",
     "exception": false,
     "start_time": "2023-01-18T11:53:38.354607",
     "status": "completed"
    },
    "tags": []
   },
   "outputs": [
    {
     "data": {
      "text/plain": [
       "PassengerId    0\n",
       "Survived       0\n",
       "Pclass         0\n",
       "Sex            0\n",
       "Age            0\n",
       "SibSp          0\n",
       "Parch          0\n",
       "Fare           0\n",
       "Embarked       2\n",
       "title          1\n",
       "dtype: int64"
      ]
     },
     "execution_count": 66,
     "metadata": {},
     "output_type": "execute_result"
    }
   ],
   "source": [
    "data.isnull().sum()"
   ]
  },
  {
   "cell_type": "markdown",
   "id": "8da98607",
   "metadata": {
    "papermill": {
     "duration": 0.036979,
     "end_time": "2023-01-18T11:53:38.487843",
     "exception": false,
     "start_time": "2023-01-18T11:53:38.450864",
     "status": "completed"
    },
    "tags": []
   },
   "source": [
    "fill the two missing data with the most popular choice ie S"
   ]
  },
  {
   "cell_type": "code",
   "execution_count": 67,
   "id": "1695a957",
   "metadata": {
    "execution": {
     "iopub.execute_input": "2023-01-18T11:53:38.567878Z",
     "iopub.status.busy": "2023-01-18T11:53:38.566675Z",
     "iopub.status.idle": "2023-01-18T11:53:38.575113Z",
     "shell.execute_reply": "2023-01-18T11:53:38.573786Z"
    },
    "papermill": {
     "duration": 0.052472,
     "end_time": "2023-01-18T11:53:38.578013",
     "exception": false,
     "start_time": "2023-01-18T11:53:38.525541",
     "status": "completed"
    },
    "tags": []
   },
   "outputs": [],
   "source": [
    "data = data.fillna({\"Embarked\": \"S\"})\n"
   ]
  },
  {
   "cell_type": "code",
   "execution_count": 68,
   "id": "c44c87d6",
   "metadata": {
    "execution": {
     "iopub.execute_input": "2023-01-18T11:53:38.661087Z",
     "iopub.status.busy": "2023-01-18T11:53:38.660126Z",
     "iopub.status.idle": "2023-01-18T11:53:38.670550Z",
     "shell.execute_reply": "2023-01-18T11:53:38.669264Z"
    },
    "papermill": {
     "duration": 0.053069,
     "end_time": "2023-01-18T11:53:38.673255",
     "exception": false,
     "start_time": "2023-01-18T11:53:38.620186",
     "status": "completed"
    },
    "tags": []
   },
   "outputs": [
    {
     "data": {
      "text/plain": [
       "PassengerId    0\n",
       "Survived       0\n",
       "Pclass         0\n",
       "Sex            0\n",
       "Age            0\n",
       "SibSp          0\n",
       "Parch          0\n",
       "Fare           0\n",
       "Embarked       0\n",
       "title          1\n",
       "dtype: int64"
      ]
     },
     "execution_count": 68,
     "metadata": {},
     "output_type": "execute_result"
    }
   ],
   "source": [
    "data.isnull().sum()\n"
   ]
  },
  {
   "cell_type": "markdown",
   "id": "f49ef5d0",
   "metadata": {
    "papermill": {
     "duration": 0.037295,
     "end_time": "2023-01-18T11:53:38.748524",
     "exception": false,
     "start_time": "2023-01-18T11:53:38.711229",
     "status": "completed"
    },
    "tags": []
   },
   "source": [
    "filling the one missing title with the most popular title"
   ]
  },
  {
   "cell_type": "code",
   "execution_count": 69,
   "id": "d2b0b8d0",
   "metadata": {
    "execution": {
     "iopub.execute_input": "2023-01-18T11:53:38.826090Z",
     "iopub.status.busy": "2023-01-18T11:53:38.825150Z",
     "iopub.status.idle": "2023-01-18T11:53:38.836432Z",
     "shell.execute_reply": "2023-01-18T11:53:38.835153Z"
    },
    "papermill": {
     "duration": 0.053546,
     "end_time": "2023-01-18T11:53:38.839064",
     "exception": false,
     "start_time": "2023-01-18T11:53:38.785518",
     "status": "completed"
    },
    "tags": []
   },
   "outputs": [
    {
     "data": {
      "text/plain": [
       "0.0    517\n",
       "1.0    182\n",
       "2.0    125\n",
       "3.0     40\n",
       "4.0     26\n",
       "Name: title, dtype: int64"
      ]
     },
     "execution_count": 69,
     "metadata": {},
     "output_type": "execute_result"
    }
   ],
   "source": [
    "data['title'].value_counts()"
   ]
  },
  {
   "cell_type": "code",
   "execution_count": 70,
   "id": "f7f5acf7",
   "metadata": {
    "execution": {
     "iopub.execute_input": "2023-01-18T11:53:38.916156Z",
     "iopub.status.busy": "2023-01-18T11:53:38.915615Z",
     "iopub.status.idle": "2023-01-18T11:53:38.923113Z",
     "shell.execute_reply": "2023-01-18T11:53:38.922091Z"
    },
    "papermill": {
     "duration": 0.048979,
     "end_time": "2023-01-18T11:53:38.925531",
     "exception": false,
     "start_time": "2023-01-18T11:53:38.876552",
     "status": "completed"
    },
    "tags": []
   },
   "outputs": [],
   "source": [
    "data=data.fillna({\"title\": 0.0})"
   ]
  },
  {
   "cell_type": "code",
   "execution_count": 71,
   "id": "6c081a00",
   "metadata": {
    "execution": {
     "iopub.execute_input": "2023-01-18T11:53:39.002778Z",
     "iopub.status.busy": "2023-01-18T11:53:39.002229Z",
     "iopub.status.idle": "2023-01-18T11:53:39.014238Z",
     "shell.execute_reply": "2023-01-18T11:53:39.013023Z"
    },
    "papermill": {
     "duration": 0.053798,
     "end_time": "2023-01-18T11:53:39.016833",
     "exception": false,
     "start_time": "2023-01-18T11:53:38.963035",
     "status": "completed"
    },
    "tags": []
   },
   "outputs": [
    {
     "data": {
      "text/plain": [
       "PassengerId    0\n",
       "Survived       0\n",
       "Pclass         0\n",
       "Sex            0\n",
       "Age            0\n",
       "SibSp          0\n",
       "Parch          0\n",
       "Fare           0\n",
       "Embarked       0\n",
       "title          0\n",
       "dtype: int64"
      ]
     },
     "execution_count": 71,
     "metadata": {},
     "output_type": "execute_result"
    }
   ],
   "source": [
    "data.isnull().sum()"
   ]
  },
  {
   "cell_type": "markdown",
   "id": "586784a3",
   "metadata": {
    "papermill": {
     "duration": 0.037987,
     "end_time": "2023-01-18T11:53:39.092417",
     "exception": false,
     "start_time": "2023-01-18T11:53:39.054430",
     "status": "completed"
    },
    "tags": []
   },
   "source": [
    "All Nulls eradicated!"
   ]
  },
  {
   "cell_type": "code",
   "execution_count": 72,
   "id": "0d7a1592",
   "metadata": {
    "execution": {
     "iopub.execute_input": "2023-01-18T11:53:39.170004Z",
     "iopub.status.busy": "2023-01-18T11:53:39.169501Z",
     "iopub.status.idle": "2023-01-18T11:53:39.188804Z",
     "shell.execute_reply": "2023-01-18T11:53:39.187310Z"
    },
    "papermill": {
     "duration": 0.061768,
     "end_time": "2023-01-18T11:53:39.191731",
     "exception": false,
     "start_time": "2023-01-18T11:53:39.129963",
     "status": "completed"
    },
    "tags": []
   },
   "outputs": [
    {
     "data": {
      "text/html": [
       "<div>\n",
       "<style scoped>\n",
       "    .dataframe tbody tr th:only-of-type {\n",
       "        vertical-align: middle;\n",
       "    }\n",
       "\n",
       "    .dataframe tbody tr th {\n",
       "        vertical-align: top;\n",
       "    }\n",
       "\n",
       "    .dataframe thead th {\n",
       "        text-align: right;\n",
       "    }\n",
       "</style>\n",
       "<table border=\"1\" class=\"dataframe\">\n",
       "  <thead>\n",
       "    <tr style=\"text-align: right;\">\n",
       "      <th></th>\n",
       "      <th>PassengerId</th>\n",
       "      <th>Survived</th>\n",
       "      <th>Pclass</th>\n",
       "      <th>Sex</th>\n",
       "      <th>Age</th>\n",
       "      <th>SibSp</th>\n",
       "      <th>Parch</th>\n",
       "      <th>Fare</th>\n",
       "      <th>Embarked</th>\n",
       "      <th>title</th>\n",
       "    </tr>\n",
       "  </thead>\n",
       "  <tbody>\n",
       "    <tr>\n",
       "      <th>0</th>\n",
       "      <td>1</td>\n",
       "      <td>0</td>\n",
       "      <td>3</td>\n",
       "      <td>0</td>\n",
       "      <td>1.0</td>\n",
       "      <td>1</td>\n",
       "      <td>0</td>\n",
       "      <td>0.0</td>\n",
       "      <td>S</td>\n",
       "      <td>0.0</td>\n",
       "    </tr>\n",
       "    <tr>\n",
       "      <th>1</th>\n",
       "      <td>2</td>\n",
       "      <td>1</td>\n",
       "      <td>1</td>\n",
       "      <td>1</td>\n",
       "      <td>3.0</td>\n",
       "      <td>1</td>\n",
       "      <td>0</td>\n",
       "      <td>2.0</td>\n",
       "      <td>C</td>\n",
       "      <td>2.0</td>\n",
       "    </tr>\n",
       "    <tr>\n",
       "      <th>2</th>\n",
       "      <td>3</td>\n",
       "      <td>1</td>\n",
       "      <td>3</td>\n",
       "      <td>1</td>\n",
       "      <td>1.0</td>\n",
       "      <td>0</td>\n",
       "      <td>0</td>\n",
       "      <td>0.0</td>\n",
       "      <td>S</td>\n",
       "      <td>1.0</td>\n",
       "    </tr>\n",
       "    <tr>\n",
       "      <th>3</th>\n",
       "      <td>4</td>\n",
       "      <td>1</td>\n",
       "      <td>1</td>\n",
       "      <td>1</td>\n",
       "      <td>3.0</td>\n",
       "      <td>1</td>\n",
       "      <td>0</td>\n",
       "      <td>2.0</td>\n",
       "      <td>S</td>\n",
       "      <td>2.0</td>\n",
       "    </tr>\n",
       "    <tr>\n",
       "      <th>4</th>\n",
       "      <td>5</td>\n",
       "      <td>0</td>\n",
       "      <td>3</td>\n",
       "      <td>0</td>\n",
       "      <td>3.0</td>\n",
       "      <td>0</td>\n",
       "      <td>0</td>\n",
       "      <td>0.0</td>\n",
       "      <td>S</td>\n",
       "      <td>0.0</td>\n",
       "    </tr>\n",
       "  </tbody>\n",
       "</table>\n",
       "</div>"
      ],
      "text/plain": [
       "   PassengerId  Survived  Pclass  Sex  Age  SibSp  Parch  Fare Embarked  title\n",
       "0            1         0       3    0  1.0      1      0   0.0        S    0.0\n",
       "1            2         1       1    1  3.0      1      0   2.0        C    2.0\n",
       "2            3         1       3    1  1.0      0      0   0.0        S    1.0\n",
       "3            4         1       1    1  3.0      1      0   2.0        S    2.0\n",
       "4            5         0       3    0  3.0      0      0   0.0        S    0.0"
      ]
     },
     "execution_count": 72,
     "metadata": {},
     "output_type": "execute_result"
    }
   ],
   "source": [
    "data.head()"
   ]
  },
  {
   "cell_type": "markdown",
   "id": "10bdb4a3",
   "metadata": {
    "papermill": {
     "duration": 0.038275,
     "end_time": "2023-01-18T11:53:39.268334",
     "exception": false,
     "start_time": "2023-01-18T11:53:39.230059",
     "status": "completed"
    },
    "tags": []
   },
   "source": [
    "**Embarked** can be made numerical "
   ]
  },
  {
   "cell_type": "code",
   "execution_count": 73,
   "id": "5bdad4b1",
   "metadata": {
    "execution": {
     "iopub.execute_input": "2023-01-18T11:53:39.348857Z",
     "iopub.status.busy": "2023-01-18T11:53:39.348310Z",
     "iopub.status.idle": "2023-01-18T11:53:39.358869Z",
     "shell.execute_reply": "2023-01-18T11:53:39.357339Z"
    },
    "papermill": {
     "duration": 0.053787,
     "end_time": "2023-01-18T11:53:39.361519",
     "exception": false,
     "start_time": "2023-01-18T11:53:39.307732",
     "status": "completed"
    },
    "tags": []
   },
   "outputs": [],
   "source": [
    "embarked_mapping = {\"S\": 0, \"C\": 1, \"Q\": 2}\n",
    "data['Embarked'] = data['Embarked'].map(embarked_mapping)\n",
    "test['Embarked'] = test['Embarked'].map(embarked_mapping)\n"
   ]
  },
  {
   "cell_type": "code",
   "execution_count": 74,
   "id": "6305aae6",
   "metadata": {
    "execution": {
     "iopub.execute_input": "2023-01-18T11:53:39.440477Z",
     "iopub.status.busy": "2023-01-18T11:53:39.439353Z",
     "iopub.status.idle": "2023-01-18T11:53:39.458834Z",
     "shell.execute_reply": "2023-01-18T11:53:39.457029Z"
    },
    "papermill": {
     "duration": 0.061769,
     "end_time": "2023-01-18T11:53:39.461385",
     "exception": false,
     "start_time": "2023-01-18T11:53:39.399616",
     "status": "completed"
    },
    "tags": []
   },
   "outputs": [
    {
     "data": {
      "text/html": [
       "<div>\n",
       "<style scoped>\n",
       "    .dataframe tbody tr th:only-of-type {\n",
       "        vertical-align: middle;\n",
       "    }\n",
       "\n",
       "    .dataframe tbody tr th {\n",
       "        vertical-align: top;\n",
       "    }\n",
       "\n",
       "    .dataframe thead th {\n",
       "        text-align: right;\n",
       "    }\n",
       "</style>\n",
       "<table border=\"1\" class=\"dataframe\">\n",
       "  <thead>\n",
       "    <tr style=\"text-align: right;\">\n",
       "      <th></th>\n",
       "      <th>PassengerId</th>\n",
       "      <th>Survived</th>\n",
       "      <th>Pclass</th>\n",
       "      <th>Sex</th>\n",
       "      <th>Age</th>\n",
       "      <th>SibSp</th>\n",
       "      <th>Parch</th>\n",
       "      <th>Fare</th>\n",
       "      <th>Embarked</th>\n",
       "      <th>title</th>\n",
       "    </tr>\n",
       "  </thead>\n",
       "  <tbody>\n",
       "    <tr>\n",
       "      <th>0</th>\n",
       "      <td>1</td>\n",
       "      <td>0</td>\n",
       "      <td>3</td>\n",
       "      <td>0</td>\n",
       "      <td>1.0</td>\n",
       "      <td>1</td>\n",
       "      <td>0</td>\n",
       "      <td>0.0</td>\n",
       "      <td>0</td>\n",
       "      <td>0.0</td>\n",
       "    </tr>\n",
       "    <tr>\n",
       "      <th>1</th>\n",
       "      <td>2</td>\n",
       "      <td>1</td>\n",
       "      <td>1</td>\n",
       "      <td>1</td>\n",
       "      <td>3.0</td>\n",
       "      <td>1</td>\n",
       "      <td>0</td>\n",
       "      <td>2.0</td>\n",
       "      <td>1</td>\n",
       "      <td>2.0</td>\n",
       "    </tr>\n",
       "    <tr>\n",
       "      <th>2</th>\n",
       "      <td>3</td>\n",
       "      <td>1</td>\n",
       "      <td>3</td>\n",
       "      <td>1</td>\n",
       "      <td>1.0</td>\n",
       "      <td>0</td>\n",
       "      <td>0</td>\n",
       "      <td>0.0</td>\n",
       "      <td>0</td>\n",
       "      <td>1.0</td>\n",
       "    </tr>\n",
       "    <tr>\n",
       "      <th>3</th>\n",
       "      <td>4</td>\n",
       "      <td>1</td>\n",
       "      <td>1</td>\n",
       "      <td>1</td>\n",
       "      <td>3.0</td>\n",
       "      <td>1</td>\n",
       "      <td>0</td>\n",
       "      <td>2.0</td>\n",
       "      <td>0</td>\n",
       "      <td>2.0</td>\n",
       "    </tr>\n",
       "    <tr>\n",
       "      <th>4</th>\n",
       "      <td>5</td>\n",
       "      <td>0</td>\n",
       "      <td>3</td>\n",
       "      <td>0</td>\n",
       "      <td>3.0</td>\n",
       "      <td>0</td>\n",
       "      <td>0</td>\n",
       "      <td>0.0</td>\n",
       "      <td>0</td>\n",
       "      <td>0.0</td>\n",
       "    </tr>\n",
       "  </tbody>\n",
       "</table>\n",
       "</div>"
      ],
      "text/plain": [
       "   PassengerId  Survived  Pclass  Sex  Age  SibSp  Parch  Fare  Embarked  \\\n",
       "0            1         0       3    0  1.0      1      0   0.0         0   \n",
       "1            2         1       1    1  3.0      1      0   2.0         1   \n",
       "2            3         1       3    1  1.0      0      0   0.0         0   \n",
       "3            4         1       1    1  3.0      1      0   2.0         0   \n",
       "4            5         0       3    0  3.0      0      0   0.0         0   \n",
       "\n",
       "   title  \n",
       "0    0.0  \n",
       "1    2.0  \n",
       "2    1.0  \n",
       "3    2.0  \n",
       "4    0.0  "
      ]
     },
     "execution_count": 74,
     "metadata": {},
     "output_type": "execute_result"
    }
   ],
   "source": [
    "data.head()"
   ]
  },
  {
   "cell_type": "markdown",
   "id": "5c88b85a",
   "metadata": {
    "papermill": {
     "duration": 0.038115,
     "end_time": "2023-01-18T11:53:39.538452",
     "exception": false,
     "start_time": "2023-01-18T11:53:39.500337",
     "status": "completed"
    },
    "tags": []
   },
   "source": [
    "can create a new column combining **SibSp** and **Parch** to one column of **Familymem**"
   ]
  },
  {
   "cell_type": "markdown",
   "id": "92262763",
   "metadata": {
    "papermill": {
     "duration": 0.03962,
     "end_time": "2023-01-18T11:53:39.616784",
     "exception": false,
     "start_time": "2023-01-18T11:53:39.577164",
     "status": "completed"
    },
    "tags": []
   },
   "source": [
    "##### Familymem feature"
   ]
  },
  {
   "cell_type": "code",
   "execution_count": 75,
   "id": "f5f0e82f",
   "metadata": {
    "execution": {
     "iopub.execute_input": "2023-01-18T11:53:39.698819Z",
     "iopub.status.busy": "2023-01-18T11:53:39.698277Z",
     "iopub.status.idle": "2023-01-18T11:53:39.707371Z",
     "shell.execute_reply": "2023-01-18T11:53:39.705822Z"
    },
    "papermill": {
     "duration": 0.052595,
     "end_time": "2023-01-18T11:53:39.710201",
     "exception": false,
     "start_time": "2023-01-18T11:53:39.657606",
     "status": "completed"
    },
    "tags": []
   },
   "outputs": [],
   "source": [
    "data['Familymem'] = data['SibSp'] + data['Parch']+1\n",
    "test['Familymem'] = test['SibSp'] + test['Parch']+1"
   ]
  },
  {
   "cell_type": "code",
   "execution_count": 76,
   "id": "f4739430",
   "metadata": {
    "execution": {
     "iopub.execute_input": "2023-01-18T11:53:39.789808Z",
     "iopub.status.busy": "2023-01-18T11:53:39.788811Z",
     "iopub.status.idle": "2023-01-18T11:53:39.799607Z",
     "shell.execute_reply": "2023-01-18T11:53:39.798116Z"
    },
    "papermill": {
     "duration": 0.054056,
     "end_time": "2023-01-18T11:53:39.802768",
     "exception": false,
     "start_time": "2023-01-18T11:53:39.748712",
     "status": "completed"
    },
    "tags": []
   },
   "outputs": [],
   "source": [
    "data=data.drop(['SibSp','Parch'],axis=1)\n",
    "test=test.drop(['SibSp','Parch'],axis=1)"
   ]
  },
  {
   "cell_type": "code",
   "execution_count": 77,
   "id": "7d3fe41e",
   "metadata": {
    "execution": {
     "iopub.execute_input": "2023-01-18T11:53:39.881846Z",
     "iopub.status.busy": "2023-01-18T11:53:39.880960Z",
     "iopub.status.idle": "2023-01-18T11:53:39.896656Z",
     "shell.execute_reply": "2023-01-18T11:53:39.895685Z"
    },
    "papermill": {
     "duration": 0.058011,
     "end_time": "2023-01-18T11:53:39.899178",
     "exception": false,
     "start_time": "2023-01-18T11:53:39.841167",
     "status": "completed"
    },
    "tags": []
   },
   "outputs": [
    {
     "data": {
      "text/html": [
       "<div>\n",
       "<style scoped>\n",
       "    .dataframe tbody tr th:only-of-type {\n",
       "        vertical-align: middle;\n",
       "    }\n",
       "\n",
       "    .dataframe tbody tr th {\n",
       "        vertical-align: top;\n",
       "    }\n",
       "\n",
       "    .dataframe thead th {\n",
       "        text-align: right;\n",
       "    }\n",
       "</style>\n",
       "<table border=\"1\" class=\"dataframe\">\n",
       "  <thead>\n",
       "    <tr style=\"text-align: right;\">\n",
       "      <th></th>\n",
       "      <th>PassengerId</th>\n",
       "      <th>Survived</th>\n",
       "      <th>Pclass</th>\n",
       "      <th>Sex</th>\n",
       "      <th>Age</th>\n",
       "      <th>Fare</th>\n",
       "      <th>Embarked</th>\n",
       "      <th>title</th>\n",
       "      <th>Familymem</th>\n",
       "    </tr>\n",
       "  </thead>\n",
       "  <tbody>\n",
       "    <tr>\n",
       "      <th>0</th>\n",
       "      <td>1</td>\n",
       "      <td>0</td>\n",
       "      <td>3</td>\n",
       "      <td>0</td>\n",
       "      <td>1.0</td>\n",
       "      <td>0.0</td>\n",
       "      <td>0</td>\n",
       "      <td>0.0</td>\n",
       "      <td>2</td>\n",
       "    </tr>\n",
       "    <tr>\n",
       "      <th>1</th>\n",
       "      <td>2</td>\n",
       "      <td>1</td>\n",
       "      <td>1</td>\n",
       "      <td>1</td>\n",
       "      <td>3.0</td>\n",
       "      <td>2.0</td>\n",
       "      <td>1</td>\n",
       "      <td>2.0</td>\n",
       "      <td>2</td>\n",
       "    </tr>\n",
       "    <tr>\n",
       "      <th>2</th>\n",
       "      <td>3</td>\n",
       "      <td>1</td>\n",
       "      <td>3</td>\n",
       "      <td>1</td>\n",
       "      <td>1.0</td>\n",
       "      <td>0.0</td>\n",
       "      <td>0</td>\n",
       "      <td>1.0</td>\n",
       "      <td>1</td>\n",
       "    </tr>\n",
       "    <tr>\n",
       "      <th>3</th>\n",
       "      <td>4</td>\n",
       "      <td>1</td>\n",
       "      <td>1</td>\n",
       "      <td>1</td>\n",
       "      <td>3.0</td>\n",
       "      <td>2.0</td>\n",
       "      <td>0</td>\n",
       "      <td>2.0</td>\n",
       "      <td>2</td>\n",
       "    </tr>\n",
       "    <tr>\n",
       "      <th>4</th>\n",
       "      <td>5</td>\n",
       "      <td>0</td>\n",
       "      <td>3</td>\n",
       "      <td>0</td>\n",
       "      <td>3.0</td>\n",
       "      <td>0.0</td>\n",
       "      <td>0</td>\n",
       "      <td>0.0</td>\n",
       "      <td>1</td>\n",
       "    </tr>\n",
       "  </tbody>\n",
       "</table>\n",
       "</div>"
      ],
      "text/plain": [
       "   PassengerId  Survived  Pclass  Sex  Age  Fare  Embarked  title  Familymem\n",
       "0            1         0       3    0  1.0   0.0         0    0.0          2\n",
       "1            2         1       1    1  3.0   2.0         1    2.0          2\n",
       "2            3         1       3    1  1.0   0.0         0    1.0          1\n",
       "3            4         1       1    1  3.0   2.0         0    2.0          2\n",
       "4            5         0       3    0  3.0   0.0         0    0.0          1"
      ]
     },
     "execution_count": 77,
     "metadata": {},
     "output_type": "execute_result"
    }
   ],
   "source": [
    "data.head()"
   ]
  },
  {
   "cell_type": "code",
   "execution_count": 78,
   "id": "5630f65c",
   "metadata": {
    "execution": {
     "iopub.execute_input": "2023-01-18T11:53:39.980584Z",
     "iopub.status.busy": "2023-01-18T11:53:39.979658Z",
     "iopub.status.idle": "2023-01-18T11:53:39.989822Z",
     "shell.execute_reply": "2023-01-18T11:53:39.988592Z"
    },
    "papermill": {
     "duration": 0.054943,
     "end_time": "2023-01-18T11:53:39.992829",
     "exception": false,
     "start_time": "2023-01-18T11:53:39.937886",
     "status": "completed"
    },
    "tags": []
   },
   "outputs": [
    {
     "data": {
      "text/plain": [
       "2.0    278\n",
       "1.0    255\n",
       "3.0    232\n",
       "0.0    104\n",
       "4.0     22\n",
       "Name: Age, dtype: int64"
      ]
     },
     "execution_count": 78,
     "metadata": {},
     "output_type": "execute_result"
    }
   ],
   "source": [
    "data['Age'].value_counts()"
   ]
  },
  {
   "cell_type": "code",
   "execution_count": 79,
   "id": "9a0b2552",
   "metadata": {
    "execution": {
     "iopub.execute_input": "2023-01-18T11:53:40.075029Z",
     "iopub.status.busy": "2023-01-18T11:53:40.074239Z",
     "iopub.status.idle": "2023-01-18T11:53:40.083017Z",
     "shell.execute_reply": "2023-01-18T11:53:40.081866Z"
    },
    "papermill": {
     "duration": 0.051601,
     "end_time": "2023-01-18T11:53:40.085340",
     "exception": false,
     "start_time": "2023-01-18T11:53:40.033739",
     "status": "completed"
    },
    "tags": []
   },
   "outputs": [
    {
     "data": {
      "text/plain": [
       "0.0    458\n",
       "1.0    235\n",
       "2.0    145\n",
       "3.0     53\n",
       "Name: Fare, dtype: int64"
      ]
     },
     "execution_count": 79,
     "metadata": {},
     "output_type": "execute_result"
    }
   ],
   "source": [
    "data['Fare'].value_counts()"
   ]
  },
  {
   "cell_type": "markdown",
   "id": "49e2af5d",
   "metadata": {
    "papermill": {
     "duration": 0.038211,
     "end_time": "2023-01-18T11:53:40.162040",
     "exception": false,
     "start_time": "2023-01-18T11:53:40.123829",
     "status": "completed"
    },
    "tags": []
   },
   "source": [
    "since every one of our features are from 0 to 3/4 so with **Feature Scaling** we should convert Familymem to same range"
   ]
  },
  {
   "cell_type": "code",
   "execution_count": 80,
   "id": "622e45be",
   "metadata": {
    "execution": {
     "iopub.execute_input": "2023-01-18T11:53:40.242886Z",
     "iopub.status.busy": "2023-01-18T11:53:40.242033Z",
     "iopub.status.idle": "2023-01-18T11:53:40.250944Z",
     "shell.execute_reply": "2023-01-18T11:53:40.249868Z"
    },
    "papermill": {
     "duration": 0.051915,
     "end_time": "2023-01-18T11:53:40.253295",
     "exception": false,
     "start_time": "2023-01-18T11:53:40.201380",
     "status": "completed"
    },
    "tags": []
   },
   "outputs": [
    {
     "data": {
      "text/plain": [
       "1     537\n",
       "2     161\n",
       "3     102\n",
       "4      29\n",
       "6      22\n",
       "5      15\n",
       "7      12\n",
       "11      7\n",
       "8       6\n",
       "Name: Familymem, dtype: int64"
      ]
     },
     "execution_count": 80,
     "metadata": {},
     "output_type": "execute_result"
    }
   ],
   "source": [
    "data['Familymem'].value_counts()"
   ]
  },
  {
   "cell_type": "code",
   "execution_count": 81,
   "id": "0fdec7fa",
   "metadata": {
    "execution": {
     "iopub.execute_input": "2023-01-18T11:53:40.333769Z",
     "iopub.status.busy": "2023-01-18T11:53:40.332961Z",
     "iopub.status.idle": "2023-01-18T11:53:40.342310Z",
     "shell.execute_reply": "2023-01-18T11:53:40.340769Z"
    },
    "papermill": {
     "duration": 0.053556,
     "end_time": "2023-01-18T11:53:40.345574",
     "exception": false,
     "start_time": "2023-01-18T11:53:40.292018",
     "status": "completed"
    },
    "tags": []
   },
   "outputs": [],
   "source": [
    "family_mapping = {1:0,2:0.4,3:0.8,4:1.2,5:1.6,6:2.0,7:2.4,8:2.8,9:3.2,10:3.6,11:4.0}\n",
    "data['Familymem']=data['Familymem'].map(family_mapping)\n",
    "test['Familymem']=test['Familymem'].map(family_mapping)"
   ]
  },
  {
   "cell_type": "code",
   "execution_count": 82,
   "id": "c444b743",
   "metadata": {
    "execution": {
     "iopub.execute_input": "2023-01-18T11:53:40.426883Z",
     "iopub.status.busy": "2023-01-18T11:53:40.425760Z",
     "iopub.status.idle": "2023-01-18T11:53:40.443934Z",
     "shell.execute_reply": "2023-01-18T11:53:40.442451Z"
    },
    "papermill": {
     "duration": 0.061398,
     "end_time": "2023-01-18T11:53:40.446773",
     "exception": false,
     "start_time": "2023-01-18T11:53:40.385375",
     "status": "completed"
    },
    "tags": []
   },
   "outputs": [
    {
     "data": {
      "text/html": [
       "<div>\n",
       "<style scoped>\n",
       "    .dataframe tbody tr th:only-of-type {\n",
       "        vertical-align: middle;\n",
       "    }\n",
       "\n",
       "    .dataframe tbody tr th {\n",
       "        vertical-align: top;\n",
       "    }\n",
       "\n",
       "    .dataframe thead th {\n",
       "        text-align: right;\n",
       "    }\n",
       "</style>\n",
       "<table border=\"1\" class=\"dataframe\">\n",
       "  <thead>\n",
       "    <tr style=\"text-align: right;\">\n",
       "      <th></th>\n",
       "      <th>PassengerId</th>\n",
       "      <th>Survived</th>\n",
       "      <th>Pclass</th>\n",
       "      <th>Sex</th>\n",
       "      <th>Age</th>\n",
       "      <th>Fare</th>\n",
       "      <th>Embarked</th>\n",
       "      <th>title</th>\n",
       "      <th>Familymem</th>\n",
       "    </tr>\n",
       "  </thead>\n",
       "  <tbody>\n",
       "    <tr>\n",
       "      <th>0</th>\n",
       "      <td>1</td>\n",
       "      <td>0</td>\n",
       "      <td>3</td>\n",
       "      <td>0</td>\n",
       "      <td>1.0</td>\n",
       "      <td>0.0</td>\n",
       "      <td>0</td>\n",
       "      <td>0.0</td>\n",
       "      <td>0.4</td>\n",
       "    </tr>\n",
       "    <tr>\n",
       "      <th>1</th>\n",
       "      <td>2</td>\n",
       "      <td>1</td>\n",
       "      <td>1</td>\n",
       "      <td>1</td>\n",
       "      <td>3.0</td>\n",
       "      <td>2.0</td>\n",
       "      <td>1</td>\n",
       "      <td>2.0</td>\n",
       "      <td>0.4</td>\n",
       "    </tr>\n",
       "    <tr>\n",
       "      <th>2</th>\n",
       "      <td>3</td>\n",
       "      <td>1</td>\n",
       "      <td>3</td>\n",
       "      <td>1</td>\n",
       "      <td>1.0</td>\n",
       "      <td>0.0</td>\n",
       "      <td>0</td>\n",
       "      <td>1.0</td>\n",
       "      <td>0.0</td>\n",
       "    </tr>\n",
       "    <tr>\n",
       "      <th>3</th>\n",
       "      <td>4</td>\n",
       "      <td>1</td>\n",
       "      <td>1</td>\n",
       "      <td>1</td>\n",
       "      <td>3.0</td>\n",
       "      <td>2.0</td>\n",
       "      <td>0</td>\n",
       "      <td>2.0</td>\n",
       "      <td>0.4</td>\n",
       "    </tr>\n",
       "    <tr>\n",
       "      <th>4</th>\n",
       "      <td>5</td>\n",
       "      <td>0</td>\n",
       "      <td>3</td>\n",
       "      <td>0</td>\n",
       "      <td>3.0</td>\n",
       "      <td>0.0</td>\n",
       "      <td>0</td>\n",
       "      <td>0.0</td>\n",
       "      <td>0.0</td>\n",
       "    </tr>\n",
       "  </tbody>\n",
       "</table>\n",
       "</div>"
      ],
      "text/plain": [
       "   PassengerId  Survived  Pclass  Sex  Age  Fare  Embarked  title  Familymem\n",
       "0            1         0       3    0  1.0   0.0         0    0.0        0.4\n",
       "1            2         1       1    1  3.0   2.0         1    2.0        0.4\n",
       "2            3         1       3    1  1.0   0.0         0    1.0        0.0\n",
       "3            4         1       1    1  3.0   2.0         0    2.0        0.4\n",
       "4            5         0       3    0  3.0   0.0         0    0.0        0.0"
      ]
     },
     "execution_count": 82,
     "metadata": {},
     "output_type": "execute_result"
    }
   ],
   "source": [
    "data.head()"
   ]
  },
  {
   "cell_type": "markdown",
   "id": "aa55ad87",
   "metadata": {
    "papermill": {
     "duration": 0.040293,
     "end_time": "2023-01-18T11:53:40.531586",
     "exception": false,
     "start_time": "2023-01-18T11:53:40.491293",
     "status": "completed"
    },
    "tags": []
   },
   "source": [
    "forgot to do the same things to test datset"
   ]
  },
  {
   "cell_type": "code",
   "execution_count": 83,
   "id": "fc752f02",
   "metadata": {
    "execution": {
     "iopub.execute_input": "2023-01-18T11:53:40.612916Z",
     "iopub.status.busy": "2023-01-18T11:53:40.612350Z",
     "iopub.status.idle": "2023-01-18T11:53:40.629542Z",
     "shell.execute_reply": "2023-01-18T11:53:40.628561Z"
    },
    "papermill": {
     "duration": 0.060506,
     "end_time": "2023-01-18T11:53:40.631904",
     "exception": false,
     "start_time": "2023-01-18T11:53:40.571398",
     "status": "completed"
    },
    "tags": []
   },
   "outputs": [
    {
     "data": {
      "text/html": [
       "<div>\n",
       "<style scoped>\n",
       "    .dataframe tbody tr th:only-of-type {\n",
       "        vertical-align: middle;\n",
       "    }\n",
       "\n",
       "    .dataframe tbody tr th {\n",
       "        vertical-align: top;\n",
       "    }\n",
       "\n",
       "    .dataframe thead th {\n",
       "        text-align: right;\n",
       "    }\n",
       "</style>\n",
       "<table border=\"1\" class=\"dataframe\">\n",
       "  <thead>\n",
       "    <tr style=\"text-align: right;\">\n",
       "      <th></th>\n",
       "      <th>PassengerId</th>\n",
       "      <th>Pclass</th>\n",
       "      <th>Sex</th>\n",
       "      <th>Age</th>\n",
       "      <th>Fare</th>\n",
       "      <th>Embarked</th>\n",
       "      <th>title</th>\n",
       "      <th>Familymem</th>\n",
       "    </tr>\n",
       "  </thead>\n",
       "  <tbody>\n",
       "    <tr>\n",
       "      <th>0</th>\n",
       "      <td>892</td>\n",
       "      <td>3</td>\n",
       "      <td>0</td>\n",
       "      <td>3.0</td>\n",
       "      <td>0.0</td>\n",
       "      <td>2</td>\n",
       "      <td>0.0</td>\n",
       "      <td>0.0</td>\n",
       "    </tr>\n",
       "    <tr>\n",
       "      <th>1</th>\n",
       "      <td>893</td>\n",
       "      <td>3</td>\n",
       "      <td>1</td>\n",
       "      <td>3.0</td>\n",
       "      <td>0.0</td>\n",
       "      <td>0</td>\n",
       "      <td>2.0</td>\n",
       "      <td>0.4</td>\n",
       "    </tr>\n",
       "    <tr>\n",
       "      <th>2</th>\n",
       "      <td>894</td>\n",
       "      <td>2</td>\n",
       "      <td>0</td>\n",
       "      <td>4.0</td>\n",
       "      <td>0.0</td>\n",
       "      <td>2</td>\n",
       "      <td>0.0</td>\n",
       "      <td>0.0</td>\n",
       "    </tr>\n",
       "    <tr>\n",
       "      <th>3</th>\n",
       "      <td>895</td>\n",
       "      <td>3</td>\n",
       "      <td>0</td>\n",
       "      <td>2.0</td>\n",
       "      <td>0.0</td>\n",
       "      <td>0</td>\n",
       "      <td>0.0</td>\n",
       "      <td>0.0</td>\n",
       "    </tr>\n",
       "    <tr>\n",
       "      <th>4</th>\n",
       "      <td>896</td>\n",
       "      <td>3</td>\n",
       "      <td>1</td>\n",
       "      <td>1.0</td>\n",
       "      <td>0.0</td>\n",
       "      <td>0</td>\n",
       "      <td>2.0</td>\n",
       "      <td>0.8</td>\n",
       "    </tr>\n",
       "  </tbody>\n",
       "</table>\n",
       "</div>"
      ],
      "text/plain": [
       "   PassengerId  Pclass  Sex  Age  Fare  Embarked  title  Familymem\n",
       "0          892       3    0  3.0   0.0         2    0.0        0.0\n",
       "1          893       3    1  3.0   0.0         0    2.0        0.4\n",
       "2          894       2    0  4.0   0.0         2    0.0        0.0\n",
       "3          895       3    0  2.0   0.0         0    0.0        0.0\n",
       "4          896       3    1  1.0   0.0         0    2.0        0.8"
      ]
     },
     "execution_count": 83,
     "metadata": {},
     "output_type": "execute_result"
    }
   ],
   "source": [
    "test.head()"
   ]
  },
  {
   "cell_type": "markdown",
   "id": "0972c5a9",
   "metadata": {
    "papermill": {
     "duration": 0.038611,
     "end_time": "2023-01-18T11:53:40.709615",
     "exception": false,
     "start_time": "2023-01-18T11:53:40.671004",
     "status": "completed"
    },
    "tags": []
   },
   "source": [
    "### Choosing a Model"
   ]
  },
  {
   "cell_type": "code",
   "execution_count": 84,
   "id": "f5b8b38d",
   "metadata": {
    "execution": {
     "iopub.execute_input": "2023-01-18T11:53:40.791160Z",
     "iopub.status.busy": "2023-01-18T11:53:40.789472Z",
     "iopub.status.idle": "2023-01-18T11:53:41.029532Z",
     "shell.execute_reply": "2023-01-18T11:53:41.028100Z"
    },
    "papermill": {
     "duration": 0.284177,
     "end_time": "2023-01-18T11:53:41.032766",
     "exception": false,
     "start_time": "2023-01-18T11:53:40.748589",
     "status": "completed"
    },
    "tags": []
   },
   "outputs": [],
   "source": [
    "from sklearn.model_selection import train_test_split\n",
    "#splitting into train validation data set (x,y)\n",
    "predictors = data.drop(['Survived', 'PassengerId'], axis=1)\n",
    "target = data[\"Survived\"]\n",
    "x_train, x_val, y_train, y_val = train_test_split(predictors, target, test_size = 0.25, random_state = 0)"
   ]
  },
  {
   "cell_type": "code",
   "execution_count": 85,
   "id": "18fd94fe",
   "metadata": {
    "execution": {
     "iopub.execute_input": "2023-01-18T11:53:41.114479Z",
     "iopub.status.busy": "2023-01-18T11:53:41.113112Z",
     "iopub.status.idle": "2023-01-18T11:53:41.230516Z",
     "shell.execute_reply": "2023-01-18T11:53:41.228690Z"
    },
    "papermill": {
     "duration": 0.162153,
     "end_time": "2023-01-18T11:53:41.234155",
     "exception": false,
     "start_time": "2023-01-18T11:53:41.072002",
     "status": "completed"
    },
    "tags": []
   },
   "outputs": [
    {
     "name": "stdout",
     "output_type": "stream",
     "text": [
      "78.92\n"
     ]
    }
   ],
   "source": [
    "from sklearn.linear_model import LogisticRegression\n",
    "from sklearn.metrics import accuracy_score\n",
    "\n",
    "\n",
    "logreg = LogisticRegression()\n",
    "logreg.fit(x_train, y_train)\n",
    "y_pred = logreg.predict(x_val)\n",
    "acc_logreg = round(accuracy_score(y_pred, y_val) * 100, 2)\n",
    "print(acc_logreg)"
   ]
  },
  {
   "cell_type": "code",
   "execution_count": 86,
   "id": "cc0ce027",
   "metadata": {
    "execution": {
     "iopub.execute_input": "2023-01-18T11:53:41.317277Z",
     "iopub.status.busy": "2023-01-18T11:53:41.316699Z",
     "iopub.status.idle": "2023-01-18T11:53:41.333942Z",
     "shell.execute_reply": "2023-01-18T11:53:41.332740Z"
    },
    "papermill": {
     "duration": 0.06224,
     "end_time": "2023-01-18T11:53:41.336913",
     "exception": false,
     "start_time": "2023-01-18T11:53:41.274673",
     "status": "completed"
    },
    "tags": []
   },
   "outputs": [
    {
     "data": {
      "text/html": [
       "<div>\n",
       "<style scoped>\n",
       "    .dataframe tbody tr th:only-of-type {\n",
       "        vertical-align: middle;\n",
       "    }\n",
       "\n",
       "    .dataframe tbody tr th {\n",
       "        vertical-align: top;\n",
       "    }\n",
       "\n",
       "    .dataframe thead th {\n",
       "        text-align: right;\n",
       "    }\n",
       "</style>\n",
       "<table border=\"1\" class=\"dataframe\">\n",
       "  <thead>\n",
       "    <tr style=\"text-align: right;\">\n",
       "      <th></th>\n",
       "      <th>PassengerId</th>\n",
       "      <th>Pclass</th>\n",
       "      <th>Sex</th>\n",
       "      <th>Age</th>\n",
       "      <th>Fare</th>\n",
       "      <th>Embarked</th>\n",
       "      <th>title</th>\n",
       "      <th>Familymem</th>\n",
       "    </tr>\n",
       "  </thead>\n",
       "  <tbody>\n",
       "    <tr>\n",
       "      <th>0</th>\n",
       "      <td>892</td>\n",
       "      <td>3</td>\n",
       "      <td>0</td>\n",
       "      <td>3.0</td>\n",
       "      <td>0.0</td>\n",
       "      <td>2</td>\n",
       "      <td>0.0</td>\n",
       "      <td>0.0</td>\n",
       "    </tr>\n",
       "    <tr>\n",
       "      <th>1</th>\n",
       "      <td>893</td>\n",
       "      <td>3</td>\n",
       "      <td>1</td>\n",
       "      <td>3.0</td>\n",
       "      <td>0.0</td>\n",
       "      <td>0</td>\n",
       "      <td>2.0</td>\n",
       "      <td>0.4</td>\n",
       "    </tr>\n",
       "    <tr>\n",
       "      <th>2</th>\n",
       "      <td>894</td>\n",
       "      <td>2</td>\n",
       "      <td>0</td>\n",
       "      <td>4.0</td>\n",
       "      <td>0.0</td>\n",
       "      <td>2</td>\n",
       "      <td>0.0</td>\n",
       "      <td>0.0</td>\n",
       "    </tr>\n",
       "    <tr>\n",
       "      <th>3</th>\n",
       "      <td>895</td>\n",
       "      <td>3</td>\n",
       "      <td>0</td>\n",
       "      <td>2.0</td>\n",
       "      <td>0.0</td>\n",
       "      <td>0</td>\n",
       "      <td>0.0</td>\n",
       "      <td>0.0</td>\n",
       "    </tr>\n",
       "    <tr>\n",
       "      <th>4</th>\n",
       "      <td>896</td>\n",
       "      <td>3</td>\n",
       "      <td>1</td>\n",
       "      <td>1.0</td>\n",
       "      <td>0.0</td>\n",
       "      <td>0</td>\n",
       "      <td>2.0</td>\n",
       "      <td>0.8</td>\n",
       "    </tr>\n",
       "  </tbody>\n",
       "</table>\n",
       "</div>"
      ],
      "text/plain": [
       "   PassengerId  Pclass  Sex  Age  Fare  Embarked  title  Familymem\n",
       "0          892       3    0  3.0   0.0         2    0.0        0.0\n",
       "1          893       3    1  3.0   0.0         0    2.0        0.4\n",
       "2          894       2    0  4.0   0.0         2    0.0        0.0\n",
       "3          895       3    0  2.0   0.0         0    0.0        0.0\n",
       "4          896       3    1  1.0   0.0         0    2.0        0.8"
      ]
     },
     "execution_count": 86,
     "metadata": {},
     "output_type": "execute_result"
    }
   ],
   "source": [
    "test.head()"
   ]
  },
  {
   "cell_type": "code",
   "execution_count": 87,
   "id": "1fcf2f66",
   "metadata": {
    "execution": {
     "iopub.execute_input": "2023-01-18T11:53:41.420642Z",
     "iopub.status.busy": "2023-01-18T11:53:41.419182Z",
     "iopub.status.idle": "2023-01-18T11:53:41.430562Z",
     "shell.execute_reply": "2023-01-18T11:53:41.429576Z"
    },
    "papermill": {
     "duration": 0.056409,
     "end_time": "2023-01-18T11:53:41.433096",
     "exception": false,
     "start_time": "2023-01-18T11:53:41.376687",
     "status": "completed"
    },
    "tags": []
   },
   "outputs": [
    {
     "data": {
      "text/plain": [
       "PassengerId    0\n",
       "Pclass         0\n",
       "Sex            0\n",
       "Age            0\n",
       "Fare           0\n",
       "Embarked       0\n",
       "title          0\n",
       "Familymem      0\n",
       "dtype: int64"
      ]
     },
     "execution_count": 87,
     "metadata": {},
     "output_type": "execute_result"
    }
   ],
   "source": [
    "test.isnull().sum()"
   ]
  },
  {
   "cell_type": "markdown",
   "id": "67798101",
   "metadata": {
    "papermill": {
     "duration": 0.039791,
     "end_time": "2023-01-18T11:53:41.512565",
     "exception": false,
     "start_time": "2023-01-18T11:53:41.472774",
     "status": "completed"
    },
    "tags": []
   },
   "source": [
    "###  Submission File"
   ]
  },
  {
   "cell_type": "code",
   "execution_count": 88,
   "id": "2c015e4d",
   "metadata": {
    "execution": {
     "iopub.execute_input": "2023-01-18T11:53:41.597719Z",
     "iopub.status.busy": "2023-01-18T11:53:41.596552Z",
     "iopub.status.idle": "2023-01-18T11:53:41.612112Z",
     "shell.execute_reply": "2023-01-18T11:53:41.610771Z"
    },
    "papermill": {
     "duration": 0.062179,
     "end_time": "2023-01-18T11:53:41.615226",
     "exception": false,
     "start_time": "2023-01-18T11:53:41.553047",
     "status": "completed"
    },
    "tags": []
   },
   "outputs": [],
   "source": [
    "#set ids as PassengerId and predict survival \n",
    "ids = test['PassengerId']\n",
    "predictions = logreg.predict(test.drop('PassengerId', axis=1))\n",
    "\n",
    "#set the output as a dataframe and convert to csv file named submission.csv\n",
    "output = pd.DataFrame({ 'PassengerId' : ids, 'Survived': predictions })\n",
    "output.to_csv('submission.csv', index=False)"
   ]
  },
  {
   "cell_type": "code",
   "execution_count": 89,
   "id": "7edf5257",
   "metadata": {
    "execution": {
     "iopub.execute_input": "2023-01-18T11:53:41.697424Z",
     "iopub.status.busy": "2023-01-18T11:53:41.696516Z",
     "iopub.status.idle": "2023-01-18T11:53:41.709533Z",
     "shell.execute_reply": "2023-01-18T11:53:41.708626Z"
    },
    "papermill": {
     "duration": 0.056816,
     "end_time": "2023-01-18T11:53:41.711933",
     "exception": false,
     "start_time": "2023-01-18T11:53:41.655117",
     "status": "completed"
    },
    "tags": []
   },
   "outputs": [
    {
     "data": {
      "text/html": [
       "<div>\n",
       "<style scoped>\n",
       "    .dataframe tbody tr th:only-of-type {\n",
       "        vertical-align: middle;\n",
       "    }\n",
       "\n",
       "    .dataframe tbody tr th {\n",
       "        vertical-align: top;\n",
       "    }\n",
       "\n",
       "    .dataframe thead th {\n",
       "        text-align: right;\n",
       "    }\n",
       "</style>\n",
       "<table border=\"1\" class=\"dataframe\">\n",
       "  <thead>\n",
       "    <tr style=\"text-align: right;\">\n",
       "      <th></th>\n",
       "      <th>PassengerId</th>\n",
       "      <th>Survived</th>\n",
       "    </tr>\n",
       "  </thead>\n",
       "  <tbody>\n",
       "    <tr>\n",
       "      <th>0</th>\n",
       "      <td>892</td>\n",
       "      <td>0</td>\n",
       "    </tr>\n",
       "    <tr>\n",
       "      <th>1</th>\n",
       "      <td>893</td>\n",
       "      <td>1</td>\n",
       "    </tr>\n",
       "    <tr>\n",
       "      <th>2</th>\n",
       "      <td>894</td>\n",
       "      <td>0</td>\n",
       "    </tr>\n",
       "    <tr>\n",
       "      <th>3</th>\n",
       "      <td>895</td>\n",
       "      <td>0</td>\n",
       "    </tr>\n",
       "    <tr>\n",
       "      <th>4</th>\n",
       "      <td>896</td>\n",
       "      <td>1</td>\n",
       "    </tr>\n",
       "  </tbody>\n",
       "</table>\n",
       "</div>"
      ],
      "text/plain": [
       "   PassengerId  Survived\n",
       "0          892         0\n",
       "1          893         1\n",
       "2          894         0\n",
       "3          895         0\n",
       "4          896         1"
      ]
     },
     "execution_count": 89,
     "metadata": {},
     "output_type": "execute_result"
    }
   ],
   "source": [
    "submission=pd.read_csv('submission.csv')\n",
    "submission.head()"
   ]
  },
  {
   "cell_type": "markdown",
   "id": "fe92dd65",
   "metadata": {
    "papermill": {
     "duration": 0.039314,
     "end_time": "2023-01-18T11:53:41.790674",
     "exception": false,
     "start_time": "2023-01-18T11:53:41.751360",
     "status": "completed"
    },
    "tags": []
   },
   "source": [
    "[Lots of learning from this notebook](https://www.kaggle.com/code/nadintamer/titanic-survival-predictions-beginner)"
   ]
  }
 ],
 "metadata": {
  "kernelspec": {
   "display_name": "Python 3",
   "language": "python",
   "name": "python3"
  },
  "language_info": {
   "codemirror_mode": {
    "name": "ipython",
    "version": 3
   },
   "file_extension": ".py",
   "mimetype": "text/x-python",
   "name": "python",
   "nbconvert_exporter": "python",
   "pygments_lexer": "ipython3",
   "version": "3.7.12"
  },
  "papermill": {
   "default_parameters": {},
   "duration": 30.530193,
   "end_time": "2023-01-18T11:53:43.057767",
   "environment_variables": {},
   "exception": null,
   "input_path": "__notebook__.ipynb",
   "output_path": "__notebook__.ipynb",
   "parameters": {},
   "start_time": "2023-01-18T11:53:12.527574",
   "version": "2.3.4"
  }
 },
 "nbformat": 4,
 "nbformat_minor": 5
}
